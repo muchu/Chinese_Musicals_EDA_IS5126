{
 "cells": [
  {
   "cell_type": "markdown",
   "metadata": {},
   "source": [
    "1. API\n",
    "2. data cleaning\n",
    "3. data storing\n",
    "4. data visualization\n",
    "5. data analysis"
   ]
  },
  {
   "cell_type": "code",
   "execution_count": 60,
   "metadata": {},
   "outputs": [],
   "source": [
    "\n",
    "import requests\n",
    "import pandas as pd\n",
    "import tqdm\n",
    "import psycopg2\n",
    "import plotly.graph_objects as go\n",
    "from plotly.subplots  import make_subplots\n",
    "import nbformat\n",
    "import io"
   ]
  },
  {
   "cell_type": "markdown",
   "metadata": {},
   "source": [
    "## Request data through API "
   ]
  },
  {
   "cell_type": "code",
   "execution_count": 79,
   "metadata": {},
   "outputs": [],
   "source": [
    "fieids_url = {\n",
    " \"artists\" : \"http://y.saoju.net/yyj/api/artist/\",\n",
    " \"produces\" : \"http://y.saoju.net/yyj/api/produce/\",\n",
    "\"musicals\":\"http://y.saoju.net/yyj/api/musical/\",\n",
    " \"musicalproduces\":\"http://y.saoju.net/yyj/api/musicalproduces/\",\n",
    "\"citys\" : \"http://y.saoju.net/yyj/api/city/\",\n",
    "\"theatres\":\"http://y.saoju.net/yyj/api/theatre/\", \n",
    "\"stages\":\"http://y.saoju.net/yyj/api/stage/\",\n",
    "\"shows\":\"http://y.saoju.net/yyj/api/search_day/?date={}\"\n",
    "\n",
    "}\n",
    "columns_needed = {\n",
    "    \"citys\":[\"pk\",\"fields.name\"],\n",
    "    \"artists\": [\"pk\",\"fields.name\",\"fields.note\"],\n",
    "    \"musicals\":[\"pk\",'fields.name', 'fields.is_original',\n",
    "       'fields.progress', 'fields.premiere_date',\n",
    "       'fields.info'],\n",
    "    \"produces\":['pk', 'fields.name'],\n",
    "    \"musicalproduces\":['pk', 'fields.title', 'fields.musical','fields.produce'],\n",
    "    \"theatres\":['pk', 'fields.name','fields.city'],\n",
    "    \"stages\":['pk', 'fields.name','fields.theatre', 'fields.seats'],\n",
    "    \n",
    "}\n",
    "\n",
    "database_schema = \"\"\"\n",
    "\n",
    "    CREATE TABLE artists (\n",
    "        artist_id SERIAL PRIMARY KEY,\n",
    "        name VARCHAR(50),\n",
    "        note VARCHAR(30)\n",
    "    );\n",
    "    \n",
    "    CREATE TABLE citys (\n",
    "        city_id SERIAL PRIMARY KEY,\n",
    "        city_name VARCHAR(20)\n",
    "    );\n",
    "\n",
    "\n",
    "    CREATE TABLE musicals (\n",
    "        musical_id SERIAL PRIMARY KEY,\n",
    "        name VARCHAR(30),\n",
    "        is_original boolean,\n",
    "        progress varchar(5),\n",
    "        premiere_date date,\n",
    "        info varchar(300)\n",
    "    );\n",
    "    CREATE TABLE produces (\n",
    "        produce_id SERIAL PRIMARY KEY,\n",
    "        name VARCHAR(100)\n",
    "    );\n",
    "    CREATE TABLE musicalproduces (\n",
    "        musicalproduce_id SERIAL PRIMARY KEY,\n",
    "        title VARCHAR(20),\n",
    "        musical_id INT REFERENCES musicals(musical_id),\n",
    "        produce_id INT REFERENCES produces(produce_id)\n",
    "        \n",
    "    );\n",
    "    CREATE TABLE theatres (\n",
    "        theatre_id SERIAL PRIMARY KEY,\n",
    "        name VARCHAR(30),\n",
    "        city_id INT REFERENCES citys(city_id)\n",
    "    );    \n",
    "    CREATE TABLE stages (\n",
    "        stage_id SERIAL PRIMARY KEY,\n",
    "        name VARCHAR(30),\n",
    "        theatre_id INT,\n",
    "        seats INT\n",
    "    ); \n",
    "    create table shows(\n",
    "    show_id SERIAL PRIMARY KEY,\n",
    "    date date,\n",
    "    city varchar(10),\n",
    "    musical varchar(50),\n",
    "    casts varchar(100),\n",
    "    theatre varchar(50)   \n",
    ")\n",
    "\"\"\"\n",
    "location_dict = {\n",
    "    \"上海\":\"Shanghai\",\n",
    "    \"北京\":\"Beijing\",\n",
    "    \"深圳\":\"Shenzhen\",\n",
    "    \"南京\":\"Nanjing\",\n",
    "    \"成都\":\"Chengdu\",\n",
    "    \"杭州\":\"Hangzhou\",\n",
    "    \"广州\":\"Guangzhou\",\n",
    "    \"苏州\":\"Suzhou\",\n",
    "    \"西安\":\"Xian\",\n",
    "    \"武汉\":\"Wuhan\"\n",
    "}"
   ]
  },
  {
   "cell_type": "code",
   "execution_count": 108,
   "metadata": {},
   "outputs": [],
   "source": [
    "# speperate shows data for it needs additional parameters and need to be processed\n",
    "def request_all_data(data_dict:dict):\n",
    "    for key in fieids_url.keys():\n",
    "        response = requests.get(fieids_url[key])\n",
    "        if response.status_code == 200:\n",
    "            data_dict[key] = pd.json_normalize(response.json())\n",
    "            print(f\"successfully request on {fieids_url[key]}, status code {response.status_code}.\")\n",
    "        else:\n",
    "            print(f\"Error occur when requesting {fieids_url[key]}, status code {response.status_code}.\")\n",
    "\n",
    "def get_shows_by_date(date:str):\n",
    "    url = fieids_url[\"shows\"].format(date)\n",
    "    response = requests.get(url)\n",
    "    if response.status_code == 200:\n",
    "        print(f\"successfully request on {url}, status code {response.status_code}.\")\n",
    "        data = pd.json_normalize(response.json())\n",
    "        if data[\"show_list\"][0]:  # check if show_list is empty\n",
    "            shows = pd.json_normalize(data[\"show_list\"][0])\n",
    "            shows['cast'] = shows['cast'].apply(lambda x: ' '.join([j[\"artist\"] for j in x]))\n",
    "            shows[\"date\"] = date\n",
    "            return shows\n",
    "        else:\n",
    "            print(f\"{date} has no show data.\")\n",
    "            return pd.DataFrame()\n",
    "    else:\n",
    "        print(f\"Error occur when requesting {url}, status code {response.status_code}.\")\n",
    "\n",
    "def get_shows_by_date_range(start_date:str, end_date:str):\n",
    "    date_range = pd.date_range(start_date, end_date)\n",
    "    shows = pd.DataFrame()\n",
    "    for date in tqdm.tqdm(date_range):\n",
    "        shows = pd.concat([shows, get_shows_by_date(date.strftime(\"%Y-%m-%d\"))])\n",
    "    shows['date'] = pd.to_datetime(shows['date'].astype(str) + ' ' + shows['time'])\n",
    "    shows = shows[[\"date\",\"city\",\"musical\",\"cast\",\"theatre\"]]\n",
    "    return shows\n",
    "\n",
    "\n",
    "def save_all2csv(data_dict:dict):\n",
    "    for key in data_dict.keys():\n",
    "        data_dict[key].to_csv(f\"../original_data/{key}\")"
   ]
  },
  {
   "cell_type": "code",
   "execution_count": 109,
   "metadata": {},
   "outputs": [
    {
     "name": "stdout",
     "output_type": "stream",
     "text": [
      "successfully request on http://y.saoju.net/yyj/api/artist/, status code 200.\n",
      "successfully request on http://y.saoju.net/yyj/api/produce/, status code 200.\n",
      "successfully request on http://y.saoju.net/yyj/api/musical/, status code 200.\n",
      "successfully request on http://y.saoju.net/yyj/api/musicalproduces/, status code 200.\n",
      "successfully request on http://y.saoju.net/yyj/api/city/, status code 200.\n",
      "successfully request on http://y.saoju.net/yyj/api/theatre/, status code 200.\n",
      "successfully request on http://y.saoju.net/yyj/api/stage/, status code 200.\n",
      "successfully request on http://y.saoju.net/yyj/api/search_day/?date={}, status code 200.\n"
     ]
    }
   ],
   "source": [
    "data_dict = {}\n",
    "request_all_data(data_dict)\n"
   ]
  },
  {
   "cell_type": "code",
   "execution_count": 85,
   "metadata": {},
   "outputs": [],
   "source": [
    "\n",
    "# 2 month shows data needs about 12s, to see all data(about 18 months), load it from csv. csv data also comes from this api.\n",
    "# I put the csv file in google drive, and use the link to load data. or you can still use the api to get data.\n",
    "# data_dict[\"shows\"] = get_shows_by_date_range(\"2024-07-01\", \"2024-09-01\")\n",
    "\n",
    "url = \"https://drive.google.com/uc?export=download&id=1Y0l7vt5gG-9Vqdts1NiKDcTWoGTt_vPj\"\n",
    "response = requests.get(url)\n",
    "content = response.content\n",
    "data_dict[\"shows\"] = pd.read_csv(io.StringIO(content.decode('utf-8')),index_col=0)"
   ]
  },
  {
   "cell_type": "code",
   "execution_count": 87,
   "metadata": {},
   "outputs": [],
   "source": [
    "\n",
    "for key in fieids_url.keys():\n",
    "    if key == \"shows\":\n",
    "        continue\n",
    "    data_dict[key] = data_dict[key][columns_needed[key]]\n",
    "    data_dict[key] = data_dict[key].replace(pd.NA,\" \")\n",
    "    if key == \"musicalproduces\":\n",
    "        new_order = ['pk','fields.title','fields.musical',  'fields.produce']\n",
    "        data_dict[key] = data_dict[key][new_order]\n",
    "    elif key == \"theatres\":\n",
    "        new_order = ['pk', 'fields.name', 'fields.city']\n",
    "        data_dict[key] = data_dict[key][new_order]\n",
    "    elif key == \"stages\":\n",
    "        new_order = ['pk',  'fields.name','fields.theatre', 'fields.seats']\n",
    "        data_dict[key] = data_dict[key][new_order]\n",
    "\n",
    " "
   ]
  },
  {
   "cell_type": "markdown",
   "metadata": {},
   "source": [
    "## To database"
   ]
  },
  {
   "cell_type": "code",
   "execution_count": 89,
   "metadata": {},
   "outputs": [],
   "source": [
    "conn = psycopg2.connect(\n",
    "    host =\"localhost\",\n",
    "dbname =\"a1\",\n",
    "user = \"postgres\",\n",
    "password =\"is5126\",\n",
    "port=5433)\n",
    "cur = conn.cursor()\n"
   ]
  },
  {
   "cell_type": "code",
   "execution_count": 90,
   "metadata": {},
   "outputs": [],
   "source": [
    "\n",
    "cur.execute(database_schema)\n",
    "\n",
    "conn.commit()"
   ]
  },
  {
   "cell_type": "code",
   "execution_count": 91,
   "metadata": {},
   "outputs": [
    {
     "data": {
      "text/html": [
       "<div>\n",
       "<style scoped>\n",
       "    .dataframe tbody tr th:only-of-type {\n",
       "        vertical-align: middle;\n",
       "    }\n",
       "\n",
       "    .dataframe tbody tr th {\n",
       "        vertical-align: top;\n",
       "    }\n",
       "\n",
       "    .dataframe thead th {\n",
       "        text-align: right;\n",
       "    }\n",
       "</style>\n",
       "<table border=\"1\" class=\"dataframe\">\n",
       "  <thead>\n",
       "    <tr style=\"text-align: right;\">\n",
       "      <th></th>\n",
       "      <th>date</th>\n",
       "      <th>city</th>\n",
       "      <th>musical</th>\n",
       "      <th>cast</th>\n",
       "      <th>theatre</th>\n",
       "    </tr>\n",
       "  </thead>\n",
       "  <tbody>\n",
       "    <tr>\n",
       "      <th>0</th>\n",
       "      <td>2023-01-01 11:00:00</td>\n",
       "      <td>成都</td>\n",
       "      <td>熊猫</td>\n",
       "      <td>NaN</td>\n",
       "      <td>熊猫剧院</td>\n",
       "    </tr>\n",
       "    <tr>\n",
       "      <th>1</th>\n",
       "      <td>2023-01-01 13:00:00</td>\n",
       "      <td>上海</td>\n",
       "      <td>致爱</td>\n",
       "      <td>王洁璐 赵嘉豪</td>\n",
       "      <td>星空间11号·MOriginal Box</td>\n",
       "    </tr>\n",
       "    <tr>\n",
       "      <th>2</th>\n",
       "      <td>2023-01-01 14:00:00</td>\n",
       "      <td>上海</td>\n",
       "      <td>夜半歌声</td>\n",
       "      <td>钟嘉诚 喻越越 陆宇鹏 江珊 丁伟 李泽美 王珏语涵 朱微之 黄湙云 赵雨阳</td>\n",
       "      <td>中国大戏院</td>\n",
       "    </tr>\n",
       "    <tr>\n",
       "      <th>3</th>\n",
       "      <td>2023-01-01 14:00:00</td>\n",
       "      <td>上海</td>\n",
       "      <td>月亮与六便士</td>\n",
       "      <td>白一博 暴晓萱 王壹 盛可欣</td>\n",
       "      <td>星空间815号·缪时客小剧场</td>\n",
       "    </tr>\n",
       "    <tr>\n",
       "      <th>4</th>\n",
       "      <td>2023-01-01 14:00:00</td>\n",
       "      <td>上海</td>\n",
       "      <td>翻国王棋</td>\n",
       "      <td>丁宇佳 张琦铭 王颢珏 车鸣笛 周波 杜钇樵</td>\n",
       "      <td>星空间77号·鲸剧场</td>\n",
       "    </tr>\n",
       "    <tr>\n",
       "      <th>...</th>\n",
       "      <td>...</td>\n",
       "      <td>...</td>\n",
       "      <td>...</td>\n",
       "      <td>...</td>\n",
       "      <td>...</td>\n",
       "    </tr>\n",
       "    <tr>\n",
       "      <th>16049</th>\n",
       "      <td>2024-09-01 19:00:00</td>\n",
       "      <td>南京</td>\n",
       "      <td>醉后赢家</td>\n",
       "      <td>NaN</td>\n",
       "      <td>开心麻花方橙市</td>\n",
       "    </tr>\n",
       "    <tr>\n",
       "      <th>16050</th>\n",
       "      <td>2024-09-01 15:30:00</td>\n",
       "      <td>西安</td>\n",
       "      <td>丝路之声</td>\n",
       "      <td>谭建业 田恬 刘靖 孙晶俐 张书豪 尉梦飞 杨雨婷 王笑语 林梦圆 殷赫阳</td>\n",
       "      <td>丝路欢乐世界·琴音剧场</td>\n",
       "    </tr>\n",
       "    <tr>\n",
       "      <th>16051</th>\n",
       "      <td>2024-09-01 15:00:00</td>\n",
       "      <td>南昌</td>\n",
       "      <td>画中人</td>\n",
       "      <td>张鑫澳 王珂 郭浩然</td>\n",
       "      <td>Lilime泠空间剧场</td>\n",
       "    </tr>\n",
       "    <tr>\n",
       "      <th>16052</th>\n",
       "      <td>2024-09-01 19:30:00</td>\n",
       "      <td>南昌</td>\n",
       "      <td>画中人</td>\n",
       "      <td>徐晞城 施天玮 李信</td>\n",
       "      <td>Lilime泠空间剧场</td>\n",
       "    </tr>\n",
       "    <tr>\n",
       "      <th>16053</th>\n",
       "      <td>2024-09-01 19:30:00</td>\n",
       "      <td>海口</td>\n",
       "      <td>青春禁忌游戏</td>\n",
       "      <td>江南 方书剑 朱微之 胡迪 严小北</td>\n",
       "      <td>海口湾演艺中心</td>\n",
       "    </tr>\n",
       "  </tbody>\n",
       "</table>\n",
       "<p>16054 rows × 5 columns</p>\n",
       "</div>"
      ],
      "text/plain": [
       "                      date city musical  \\\n",
       "0      2023-01-01 11:00:00   成都      熊猫   \n",
       "1      2023-01-01 13:00:00   上海      致爱   \n",
       "2      2023-01-01 14:00:00   上海    夜半歌声   \n",
       "3      2023-01-01 14:00:00   上海  月亮与六便士   \n",
       "4      2023-01-01 14:00:00   上海    翻国王棋   \n",
       "...                    ...  ...     ...   \n",
       "16049  2024-09-01 19:00:00   南京    醉后赢家   \n",
       "16050  2024-09-01 15:30:00   西安    丝路之声   \n",
       "16051  2024-09-01 15:00:00   南昌     画中人   \n",
       "16052  2024-09-01 19:30:00   南昌     画中人   \n",
       "16053  2024-09-01 19:30:00   海口  青春禁忌游戏   \n",
       "\n",
       "                                         cast               theatre  \n",
       "0                                         NaN                  熊猫剧院  \n",
       "1                                     王洁璐 赵嘉豪  星空间11号·MOriginal Box  \n",
       "2      钟嘉诚 喻越越 陆宇鹏 江珊 丁伟 李泽美 王珏语涵 朱微之 黄湙云 赵雨阳                 中国大戏院  \n",
       "3                              白一博 暴晓萱 王壹 盛可欣        星空间815号·缪时客小剧场  \n",
       "4                      丁宇佳 张琦铭 王颢珏 车鸣笛 周波 杜钇樵            星空间77号·鲸剧场  \n",
       "...                                       ...                   ...  \n",
       "16049                                     NaN               开心麻花方橙市  \n",
       "16050   谭建业 田恬 刘靖 孙晶俐 张书豪 尉梦飞 杨雨婷 王笑语 林梦圆 殷赫阳           丝路欢乐世界·琴音剧场  \n",
       "16051                              张鑫澳 王珂 郭浩然           Lilime泠空间剧场  \n",
       "16052                              徐晞城 施天玮 李信           Lilime泠空间剧场  \n",
       "16053                       江南 方书剑 朱微之 胡迪 严小北               海口湾演艺中心  \n",
       "\n",
       "[16054 rows x 5 columns]"
      ]
     },
     "execution_count": 91,
     "metadata": {},
     "output_type": "execute_result"
    }
   ],
   "source": [
    "data_dict[\"shows\"]"
   ]
  },
  {
   "cell_type": "code",
   "execution_count": 92,
   "metadata": {},
   "outputs": [
    {
     "name": "stdout",
     "output_type": "stream",
     "text": [
      "Data inserted successfully\n",
      "Data inserted successfully\n",
      "Data inserted successfully\n",
      "Data inserted successfully\n",
      "Data inserted successfully\n",
      "Data inserted successfully\n",
      "Data inserted successfully\n",
      "Data inserted successfully\n"
     ]
    }
   ],
   "source": [
    "\n",
    "data_dict[\"shows\"]['date'] = pd.to_datetime(data_dict[key]['date']).dt.strftime('%Y-%m-%d %H:%M:%S')\n",
    "\n",
    "\n",
    "for key in data_dict.keys():\n",
    "    \n",
    "    try:\n",
    "        num_columns = len(data_dict[key].columns)\n",
    "        placeholders = ', '.join(['%s'] * num_columns)\n",
    "        # Define the SQL insert query with placeholders for the data\n",
    "        if key != \"shows\":\n",
    "            insert_query = f\"INSERT INTO {key} VALUES ({placeholders})\"\n",
    "        else:\n",
    "            insert_query = f\"INSERT INTO shows (date, city, musical, casts, theatre) VALUES ({placeholders})\"\n",
    "\n",
    "    \n",
    "        # Iterate over DataFrame rows as namedtuples (use index=False to avoid including the index)\n",
    "        for row in data_dict[key].itertuples(index=False, name=None):\n",
    "            try:\n",
    "                cur.execute(insert_query, row)\n",
    "            except psycopg2.Error as e:\n",
    "                print(f\"An error occurred: {e}\")\n",
    "                conn.rollback()  # Rollback in case of error\n",
    "    \n",
    "        # Commit the transaction\n",
    "        conn.commit()\n",
    "        print(f\"{key} Data inserted successfully\")\n",
    "    \n",
    "    except psycopg2.Error as e:\n",
    "        print(f\"An error occurred: {e}\")\n",
    "        conn.rollback()  # Rollback in case of error\n",
    "    "
   ]
  },
  {
   "cell_type": "markdown",
   "metadata": {},
   "source": [
    "## data EDA"
   ]
  },
  {
   "cell_type": "code",
   "execution_count": 93,
   "metadata": {},
   "outputs": [],
   "source": [
    "\n",
    "def get_table_data(cur:psycopg2.connect,table_names) -> dict :\n",
    "    df_list = {}\n",
    "    for name in table_names:\n",
    "\n",
    "        cur.execute(f\"\"\"\n",
    "            SELECT * FROM {name}\n",
    "            \"\"\")\n",
    "        results = cur.fetchall()\n",
    "        columns_name = [desc[0] for desc in cur.description]\n",
    "        df_list[name] = pd.DataFrame(results,columns = columns_name)\n",
    "    return df_list\n",
    "\n",
    "\n",
    "def use_sql_query(cur,sql_query:str,params=None):\n",
    "    cur.execute(sql_query,params)\n",
    "    results = cur.fetchall()\n",
    "    columns_name = [desc[0] for desc in cur.description]\n",
    "        \n",
    "    return pd.DataFrame(results,columns = columns_name)\n"
   ]
  },
  {
   "cell_type": "markdown",
   "metadata": {},
   "source": [
    "## SQL Query"
   ]
  },
  {
   "cell_type": "code",
   "execution_count": 94,
   "metadata": {},
   "outputs": [],
   "source": [
    "\n",
    "\n",
    "theatre_number_in_citys = \"\"\"\n",
    "    select COUNT(c.city_name) as numberOfTheatre, c.city_name from theatres t\n",
    "    join citys c on t.city_id = c.city_id\n",
    "    group by c.city_name\n",
    "    order by numberOfTheatre desc\n",
    "    \"\"\"\n",
    "seat_number_in_citys = \"\"\"\n",
    "select SUM(s.seats) as totalNumberOfSeats,c.city_name from theatres t\n",
    "join citys c on t.city_id = c.city_id\n",
    "join stages s on s.theatre_id = t.theatre_id\n",
    "group by c.city_name\n",
    "order by totalNumberOfSeats desc\n",
    "\"\"\"\n",
    "shows_performed_last_month = \"\"\"\n",
    "select count(show_id) as shows_perform_a_month, city  from shows\n",
    "where shows.date >= current_date - interval '30 days'\n",
    "group by city\n",
    "order by shows_perform_a_month desc\n",
    "\"\"\"\n",
    "original_musical_persentage_by_date_range = \"\"\"\n",
    "SELECT \n",
    "    is_original,\n",
    "    COUNT(*) as count,\n",
    "    ROUND(COUNT(*) * 100.0 / SUM(COUNT(*)) OVER (), 2) as percentage\n",
    "FROM musicals\n",
    "WHERE premiere_date BETWEEN %s AND %s\n",
    "GROUP BY is_original\n",
    "ORDER BY count DESC\n",
    "\n",
    "\"\"\"\n",
    "musical_perform_by_date_range = \"\"\"\n",
    "SELECT \n",
    "    city,\n",
    "    COUNT(*) as count,\n",
    "    ROUND(COUNT(*) * 100.0 / SUM(COUNT(*)) OVER (), 2) as percentage\n",
    "FROM shows\n",
    "WHERE date BETWEEN %s AND %s\n",
    "GROUP BY city\n",
    "ORDER BY count DESC\n",
    "\"\"\"\n",
    "get_monthly_number_of_shows_by_city = \"\"\"\n",
    "SELECT \n",
    "    city,\n",
    "    EXTRACT(YEAR FROM date) AS year,\n",
    "    EXTRACT(MONTH FROM date) AS month,\n",
    "    COUNT(show_id) AS total_shows\n",
    "FROM \n",
    "    shows\n",
    "GROUP BY \n",
    "    city, \n",
    "    EXTRACT(YEAR FROM date), \n",
    "    EXTRACT(MONTH FROM date)\n",
    "ORDER BY \n",
    "    city, year, month;\n",
    "\n",
    "\"\"\"\n",
    "musical_list_by_date_range = \"\"\"\n",
    "SELECT \n",
    "*\n",
    "FROM shows\n",
    "WHERE date BETWEEN %s AND %s\n",
    "\"\"\""
   ]
  },
  {
   "cell_type": "code",
   "execution_count": 95,
   "metadata": {},
   "outputs": [],
   "source": [
    "table_names = [\"shows\",\"theatres\",\"citys\",\"musicals\",\"produces\"]\n",
    "datas = get_table_data(cur=cur,table_names=table_names)\n"
   ]
  },
  {
   "cell_type": "code",
   "execution_count": 8,
   "metadata": {},
   "outputs": [
    {
     "data": {
      "text/html": [
       "<div>\n",
       "<style scoped>\n",
       "    .dataframe tbody tr th:only-of-type {\n",
       "        vertical-align: middle;\n",
       "    }\n",
       "\n",
       "    .dataframe tbody tr th {\n",
       "        vertical-align: top;\n",
       "    }\n",
       "\n",
       "    .dataframe thead th {\n",
       "        text-align: right;\n",
       "    }\n",
       "</style>\n",
       "<table border=\"1\" class=\"dataframe\">\n",
       "  <thead>\n",
       "    <tr style=\"text-align: right;\">\n",
       "      <th></th>\n",
       "      <th>musical_id</th>\n",
       "      <th>name</th>\n",
       "      <th>is_original</th>\n",
       "      <th>progress</th>\n",
       "      <th>premiere_date</th>\n",
       "      <th>info</th>\n",
       "    </tr>\n",
       "  </thead>\n",
       "  <tbody>\n",
       "    <tr>\n",
       "      <th>0</th>\n",
       "      <td>1</td>\n",
       "      <td>I LOVE YOU…</td>\n",
       "      <td>False</td>\n",
       "      <td>SS</td>\n",
       "      <td>2006-12-09</td>\n",
       "      <td>百老汇音乐剧中文版\\r\\n全名《I Love You, You’re Perfect, No...</td>\n",
       "    </tr>\n",
       "    <tr>\n",
       "      <th>1</th>\n",
       "      <td>2</td>\n",
       "      <td>空中花园谋杀案</td>\n",
       "      <td>True</td>\n",
       "      <td>SS</td>\n",
       "      <td>2009-05-26</td>\n",
       "      <td></td>\n",
       "    </tr>\n",
       "    <tr>\n",
       "      <th>2</th>\n",
       "      <td>3</td>\n",
       "      <td>我，堂吉诃德</td>\n",
       "      <td>False</td>\n",
       "      <td>SS</td>\n",
       "      <td>2015-12-18</td>\n",
       "      <td>百老汇经典音乐剧中文版\\r\\n原版作者：\\r\\n剧本：戴尔·沃瑟曼 Dale Wasserm...</td>\n",
       "    </tr>\n",
       "    <tr>\n",
       "      <th>3</th>\n",
       "      <td>4</td>\n",
       "      <td>我的遗愿清单</td>\n",
       "      <td>False</td>\n",
       "      <td>SS</td>\n",
       "      <td>2017-08-08</td>\n",
       "      <td>原版韩国\\r\\n制作人：姜秉沅\\r\\n制作出品：LIVE Corp.\\r\\n作曲：金潓成</td>\n",
       "    </tr>\n",
       "    <tr>\n",
       "      <th>4</th>\n",
       "      <td>5</td>\n",
       "      <td>我变了我没变</td>\n",
       "      <td>True</td>\n",
       "      <td>SS</td>\n",
       "      <td>2018-01-06</td>\n",
       "      <td></td>\n",
       "    </tr>\n",
       "    <tr>\n",
       "      <th>5</th>\n",
       "      <td>6</td>\n",
       "      <td>近乎正常</td>\n",
       "      <td>False</td>\n",
       "      <td>SS</td>\n",
       "      <td>2018-08-03</td>\n",
       "      <td>原版美国\\r\\n作曲 汤姆·基特 TOM KITT\\r\\n编剧及作词 布赖恩·约克 BRIA...</td>\n",
       "    </tr>\n",
       "    <tr>\n",
       "      <th>6</th>\n",
       "      <td>7</td>\n",
       "      <td>白夜行</td>\n",
       "      <td>True</td>\n",
       "      <td>SS</td>\n",
       "      <td>2018-11-30</td>\n",
       "      <td>官方授权：株式会社集英社\\r\\n原作：东野圭吾</td>\n",
       "    </tr>\n",
       "    <tr>\n",
       "      <th>7</th>\n",
       "      <td>8</td>\n",
       "      <td>袁隆平</td>\n",
       "      <td>True</td>\n",
       "      <td>SS</td>\n",
       "      <td>2017-06-18</td>\n",
       "      <td></td>\n",
       "    </tr>\n",
       "    <tr>\n",
       "      <th>8</th>\n",
       "      <td>9</td>\n",
       "      <td>献给阿尔吉侬的花束</td>\n",
       "      <td>False</td>\n",
       "      <td>SS</td>\n",
       "      <td>2019-12-11</td>\n",
       "      <td>原版韩国\\r\\n原版剧本/导演 李泫圭\\r\\n作曲/音乐总监 张少瑛</td>\n",
       "    </tr>\n",
       "    <tr>\n",
       "      <th>9</th>\n",
       "      <td>10</td>\n",
       "      <td>FLAMES火焰</td>\n",
       "      <td>False</td>\n",
       "      <td>SS</td>\n",
       "      <td>2019-12-24</td>\n",
       "      <td>原版英国，悬疑音乐剧</td>\n",
       "    </tr>\n",
       "  </tbody>\n",
       "</table>\n",
       "</div>"
      ],
      "text/plain": [
       "   musical_id         name  is_original progress premiere_date  \\\n",
       "0           1  I LOVE YOU…        False       SS    2006-12-09   \n",
       "1           2      空中花园谋杀案         True       SS    2009-05-26   \n",
       "2           3       我，堂吉诃德        False       SS    2015-12-18   \n",
       "3           4       我的遗愿清单        False       SS    2017-08-08   \n",
       "4           5       我变了我没变         True       SS    2018-01-06   \n",
       "5           6         近乎正常        False       SS    2018-08-03   \n",
       "6           7          白夜行         True       SS    2018-11-30   \n",
       "7           8          袁隆平         True       SS    2017-06-18   \n",
       "8           9    献给阿尔吉侬的花束        False       SS    2019-12-11   \n",
       "9          10     FLAMES火焰        False       SS    2019-12-24   \n",
       "\n",
       "                                                info  \n",
       "0  百老汇音乐剧中文版\\r\\n全名《I Love You, You’re Perfect, No...  \n",
       "1                                                     \n",
       "2  百老汇经典音乐剧中文版\\r\\n原版作者：\\r\\n剧本：戴尔·沃瑟曼 Dale Wasserm...  \n",
       "3       原版韩国\\r\\n制作人：姜秉沅\\r\\n制作出品：LIVE Corp.\\r\\n作曲：金潓成  \n",
       "4                                                     \n",
       "5  原版美国\\r\\n作曲 汤姆·基特 TOM KITT\\r\\n编剧及作词 布赖恩·约克 BRIA...  \n",
       "6                            官方授权：株式会社集英社\\r\\n原作：东野圭吾  \n",
       "7                                                     \n",
       "8                 原版韩国\\r\\n原版剧本/导演 李泫圭\\r\\n作曲/音乐总监 张少瑛  \n",
       "9                                         原版英国，悬疑音乐剧  "
      ]
     },
     "execution_count": 8,
     "metadata": {},
     "output_type": "execute_result"
    }
   ],
   "source": [
    "datas[\"musicals\"].head(10)"
   ]
  },
  {
   "cell_type": "code",
   "execution_count": 98,
   "metadata": {},
   "outputs": [],
   "source": [
    "datas[\"musicals\"][\"info\"] = datas[\"musicals\"][\"info\"].apply(lambda x: \"UNKNOW\" if x == \" \" or pd.isna(x) else x)\n"
   ]
  },
  {
   "cell_type": "code",
   "execution_count": 99,
   "metadata": {},
   "outputs": [
    {
     "data": {
      "text/plain": [
       "musical_id       0\n",
       "name             0\n",
       "is_original      0\n",
       "progress         0\n",
       "premiere_date    0\n",
       "info             0\n",
       "dtype: int64"
      ]
     },
     "execution_count": 99,
     "metadata": {},
     "output_type": "execute_result"
    }
   ],
   "source": [
    "datas[\"musicals\"].isnull().sum()"
   ]
  },
  {
   "cell_type": "code",
   "execution_count": 100,
   "metadata": {},
   "outputs": [
    {
     "data": {
      "text/html": [
       "<div>\n",
       "<style scoped>\n",
       "    .dataframe tbody tr th:only-of-type {\n",
       "        vertical-align: middle;\n",
       "    }\n",
       "\n",
       "    .dataframe tbody tr th {\n",
       "        vertical-align: top;\n",
       "    }\n",
       "\n",
       "    .dataframe thead th {\n",
       "        text-align: right;\n",
       "    }\n",
       "</style>\n",
       "<table border=\"1\" class=\"dataframe\">\n",
       "  <thead>\n",
       "    <tr style=\"text-align: right;\">\n",
       "      <th></th>\n",
       "      <th>show_id</th>\n",
       "      <th>date</th>\n",
       "      <th>city</th>\n",
       "      <th>musical</th>\n",
       "      <th>casts</th>\n",
       "      <th>theatre</th>\n",
       "    </tr>\n",
       "  </thead>\n",
       "  <tbody>\n",
       "    <tr>\n",
       "      <th>0</th>\n",
       "      <td>1</td>\n",
       "      <td>2023-01-01</td>\n",
       "      <td>成都</td>\n",
       "      <td>熊猫</td>\n",
       "      <td>NaN</td>\n",
       "      <td>熊猫剧院</td>\n",
       "    </tr>\n",
       "    <tr>\n",
       "      <th>1</th>\n",
       "      <td>2</td>\n",
       "      <td>2023-01-01</td>\n",
       "      <td>上海</td>\n",
       "      <td>致爱</td>\n",
       "      <td>王洁璐 赵嘉豪</td>\n",
       "      <td>星空间11号·MOriginal Box</td>\n",
       "    </tr>\n",
       "    <tr>\n",
       "      <th>2</th>\n",
       "      <td>3</td>\n",
       "      <td>2023-01-01</td>\n",
       "      <td>上海</td>\n",
       "      <td>夜半歌声</td>\n",
       "      <td>钟嘉诚 喻越越 陆宇鹏 江珊 丁伟 李泽美 王珏语涵 朱微之 黄湙云 赵雨阳</td>\n",
       "      <td>中国大戏院</td>\n",
       "    </tr>\n",
       "    <tr>\n",
       "      <th>3</th>\n",
       "      <td>4</td>\n",
       "      <td>2023-01-01</td>\n",
       "      <td>上海</td>\n",
       "      <td>月亮与六便士</td>\n",
       "      <td>白一博 暴晓萱 王壹 盛可欣</td>\n",
       "      <td>星空间815号·缪时客小剧场</td>\n",
       "    </tr>\n",
       "    <tr>\n",
       "      <th>4</th>\n",
       "      <td>5</td>\n",
       "      <td>2023-01-01</td>\n",
       "      <td>上海</td>\n",
       "      <td>翻国王棋</td>\n",
       "      <td>丁宇佳 张琦铭 王颢珏 车鸣笛 周波 杜钇樵</td>\n",
       "      <td>星空间77号·鲸剧场</td>\n",
       "    </tr>\n",
       "    <tr>\n",
       "      <th>5</th>\n",
       "      <td>6</td>\n",
       "      <td>2023-01-01</td>\n",
       "      <td>上海</td>\n",
       "      <td>莎翁乐园</td>\n",
       "      <td>祝颂皓 张智涵 徐泽辉 刘浩冉</td>\n",
       "      <td>上剧场</td>\n",
       "    </tr>\n",
       "    <tr>\n",
       "      <th>6</th>\n",
       "      <td>7</td>\n",
       "      <td>2023-01-01</td>\n",
       "      <td>成都</td>\n",
       "      <td>熊猫</td>\n",
       "      <td>NaN</td>\n",
       "      <td>熊猫剧院</td>\n",
       "    </tr>\n",
       "    <tr>\n",
       "      <th>7</th>\n",
       "      <td>8</td>\n",
       "      <td>2023-01-01</td>\n",
       "      <td>上海</td>\n",
       "      <td>卡拉马佐夫兄弟</td>\n",
       "      <td>付翔 王瀚宇 刘令飞 郭虹旭 张泽</td>\n",
       "      <td>上海大剧院别克中剧场</td>\n",
       "    </tr>\n",
       "    <tr>\n",
       "      <th>8</th>\n",
       "      <td>9</td>\n",
       "      <td>2023-01-01</td>\n",
       "      <td>上海</td>\n",
       "      <td>阴天</td>\n",
       "      <td>钟舜傲 郭耀嵘 王培杰</td>\n",
       "      <td>上海共舞台</td>\n",
       "    </tr>\n",
       "    <tr>\n",
       "      <th>9</th>\n",
       "      <td>10</td>\n",
       "      <td>2023-01-01</td>\n",
       "      <td>上海</td>\n",
       "      <td>沉默的真相</td>\n",
       "      <td>顾易 姜彬 江南 刘乙萱 张艺宝 吴俊鹏 翟松 郝晓辉 刘政 陈姝月 赵洪博</td>\n",
       "      <td>人民大舞台</td>\n",
       "    </tr>\n",
       "  </tbody>\n",
       "</table>\n",
       "</div>"
      ],
      "text/plain": [
       "   show_id        date city  musical                                   casts  \\\n",
       "0        1  2023-01-01   成都       熊猫                                     NaN   \n",
       "1        2  2023-01-01   上海       致爱                                 王洁璐 赵嘉豪   \n",
       "2        3  2023-01-01   上海     夜半歌声  钟嘉诚 喻越越 陆宇鹏 江珊 丁伟 李泽美 王珏语涵 朱微之 黄湙云 赵雨阳   \n",
       "3        4  2023-01-01   上海   月亮与六便士                          白一博 暴晓萱 王壹 盛可欣   \n",
       "4        5  2023-01-01   上海     翻国王棋                  丁宇佳 张琦铭 王颢珏 车鸣笛 周波 杜钇樵   \n",
       "5        6  2023-01-01   上海     莎翁乐园                         祝颂皓 张智涵 徐泽辉 刘浩冉   \n",
       "6        7  2023-01-01   成都       熊猫                                     NaN   \n",
       "7        8  2023-01-01   上海  卡拉马佐夫兄弟                       付翔 王瀚宇 刘令飞 郭虹旭 张泽   \n",
       "8        9  2023-01-01   上海       阴天                             钟舜傲 郭耀嵘 王培杰   \n",
       "9       10  2023-01-01   上海    沉默的真相  顾易 姜彬 江南 刘乙萱 张艺宝 吴俊鹏 翟松 郝晓辉 刘政 陈姝月 赵洪博   \n",
       "\n",
       "                theatre  \n",
       "0                  熊猫剧院  \n",
       "1  星空间11号·MOriginal Box  \n",
       "2                 中国大戏院  \n",
       "3        星空间815号·缪时客小剧场  \n",
       "4            星空间77号·鲸剧场  \n",
       "5                   上剧场  \n",
       "6                  熊猫剧院  \n",
       "7            上海大剧院别克中剧场  \n",
       "8                 上海共舞台  \n",
       "9                 人民大舞台  "
      ]
     },
     "execution_count": 100,
     "metadata": {},
     "output_type": "execute_result"
    }
   ],
   "source": [
    "datas[\"shows\"].head(10)"
   ]
  },
  {
   "cell_type": "code",
   "execution_count": 101,
   "metadata": {},
   "outputs": [
    {
     "data": {
      "text/plain": [
       "show_id    0\n",
       "date       0\n",
       "city       0\n",
       "musical    0\n",
       "casts      0\n",
       "theatre    0\n",
       "dtype: int64"
      ]
     },
     "execution_count": 101,
     "metadata": {},
     "output_type": "execute_result"
    }
   ],
   "source": [
    "datas[\"shows\"].isnull().sum()"
   ]
  },
  {
   "cell_type": "markdown",
   "metadata": {},
   "source": [
    "## Data Visualization"
   ]
  },
  {
   "cell_type": "code",
   "execution_count": 102,
   "metadata": {},
   "outputs": [
    {
     "data": {
      "application/vnd.plotly.v1+json": {
       "config": {
        "plotlyServerURL": "https://plot.ly"
       },
       "data": [
        {
         "marker": {
          "color": "#466b82"
         },
         "name": "Number of Theatres",
         "type": "bar",
         "x": [
          "Shanghai",
          "Beijing",
          "Shenzhen",
          "Nanjing",
          "Chengdu",
          "Hangzhou",
          "Guangzhou",
          "Suzhou",
          "Xian",
          "Wuhan"
         ],
         "y": [
          77,
          30,
          16,
          15,
          14,
          12,
          10,
          7,
          7,
          6
         ]
        },
        {
         "line": {
          "color": "#E91E63",
          "width": 2
         },
         "marker": {
          "size": 8
         },
         "mode": "lines+markers",
         "name": "Number of Performance",
         "type": "scatter",
         "x": [
          "Shanghai",
          "Beijing",
          "Shenzhen",
          "Nanjing",
          "Chengdu",
          "Hangzhou",
          "Guangzhou",
          "Suzhou",
          "Xian",
          "Wuhan"
         ],
         "y": [
          9550,
          1494,
          213,
          510,
          1454,
          121,
          592,
          95,
          438,
          570
         ],
         "yaxis": "y2"
        }
       ],
       "layout": {
        "autosize": true,
        "legend": {
         "x": 1.1,
         "y": 1
        },
        "template": {
         "data": {
          "bar": [
           {
            "error_x": {
             "color": "#2a3f5f"
            },
            "error_y": {
             "color": "#2a3f5f"
            },
            "marker": {
             "line": {
              "color": "#E5ECF6",
              "width": 0.5
             },
             "pattern": {
              "fillmode": "overlay",
              "size": 10,
              "solidity": 0.2
             }
            },
            "type": "bar"
           }
          ],
          "barpolar": [
           {
            "marker": {
             "line": {
              "color": "#E5ECF6",
              "width": 0.5
             },
             "pattern": {
              "fillmode": "overlay",
              "size": 10,
              "solidity": 0.2
             }
            },
            "type": "barpolar"
           }
          ],
          "carpet": [
           {
            "aaxis": {
             "endlinecolor": "#2a3f5f",
             "gridcolor": "white",
             "linecolor": "white",
             "minorgridcolor": "white",
             "startlinecolor": "#2a3f5f"
            },
            "baxis": {
             "endlinecolor": "#2a3f5f",
             "gridcolor": "white",
             "linecolor": "white",
             "minorgridcolor": "white",
             "startlinecolor": "#2a3f5f"
            },
            "type": "carpet"
           }
          ],
          "choropleth": [
           {
            "colorbar": {
             "outlinewidth": 0,
             "ticks": ""
            },
            "type": "choropleth"
           }
          ],
          "contour": [
           {
            "colorbar": {
             "outlinewidth": 0,
             "ticks": ""
            },
            "colorscale": [
             [
              0,
              "#0d0887"
             ],
             [
              0.1111111111111111,
              "#46039f"
             ],
             [
              0.2222222222222222,
              "#7201a8"
             ],
             [
              0.3333333333333333,
              "#9c179e"
             ],
             [
              0.4444444444444444,
              "#bd3786"
             ],
             [
              0.5555555555555556,
              "#d8576b"
             ],
             [
              0.6666666666666666,
              "#ed7953"
             ],
             [
              0.7777777777777778,
              "#fb9f3a"
             ],
             [
              0.8888888888888888,
              "#fdca26"
             ],
             [
              1,
              "#f0f921"
             ]
            ],
            "type": "contour"
           }
          ],
          "contourcarpet": [
           {
            "colorbar": {
             "outlinewidth": 0,
             "ticks": ""
            },
            "type": "contourcarpet"
           }
          ],
          "heatmap": [
           {
            "colorbar": {
             "outlinewidth": 0,
             "ticks": ""
            },
            "colorscale": [
             [
              0,
              "#0d0887"
             ],
             [
              0.1111111111111111,
              "#46039f"
             ],
             [
              0.2222222222222222,
              "#7201a8"
             ],
             [
              0.3333333333333333,
              "#9c179e"
             ],
             [
              0.4444444444444444,
              "#bd3786"
             ],
             [
              0.5555555555555556,
              "#d8576b"
             ],
             [
              0.6666666666666666,
              "#ed7953"
             ],
             [
              0.7777777777777778,
              "#fb9f3a"
             ],
             [
              0.8888888888888888,
              "#fdca26"
             ],
             [
              1,
              "#f0f921"
             ]
            ],
            "type": "heatmap"
           }
          ],
          "heatmapgl": [
           {
            "colorbar": {
             "outlinewidth": 0,
             "ticks": ""
            },
            "colorscale": [
             [
              0,
              "#0d0887"
             ],
             [
              0.1111111111111111,
              "#46039f"
             ],
             [
              0.2222222222222222,
              "#7201a8"
             ],
             [
              0.3333333333333333,
              "#9c179e"
             ],
             [
              0.4444444444444444,
              "#bd3786"
             ],
             [
              0.5555555555555556,
              "#d8576b"
             ],
             [
              0.6666666666666666,
              "#ed7953"
             ],
             [
              0.7777777777777778,
              "#fb9f3a"
             ],
             [
              0.8888888888888888,
              "#fdca26"
             ],
             [
              1,
              "#f0f921"
             ]
            ],
            "type": "heatmapgl"
           }
          ],
          "histogram": [
           {
            "marker": {
             "pattern": {
              "fillmode": "overlay",
              "size": 10,
              "solidity": 0.2
             }
            },
            "type": "histogram"
           }
          ],
          "histogram2d": [
           {
            "colorbar": {
             "outlinewidth": 0,
             "ticks": ""
            },
            "colorscale": [
             [
              0,
              "#0d0887"
             ],
             [
              0.1111111111111111,
              "#46039f"
             ],
             [
              0.2222222222222222,
              "#7201a8"
             ],
             [
              0.3333333333333333,
              "#9c179e"
             ],
             [
              0.4444444444444444,
              "#bd3786"
             ],
             [
              0.5555555555555556,
              "#d8576b"
             ],
             [
              0.6666666666666666,
              "#ed7953"
             ],
             [
              0.7777777777777778,
              "#fb9f3a"
             ],
             [
              0.8888888888888888,
              "#fdca26"
             ],
             [
              1,
              "#f0f921"
             ]
            ],
            "type": "histogram2d"
           }
          ],
          "histogram2dcontour": [
           {
            "colorbar": {
             "outlinewidth": 0,
             "ticks": ""
            },
            "colorscale": [
             [
              0,
              "#0d0887"
             ],
             [
              0.1111111111111111,
              "#46039f"
             ],
             [
              0.2222222222222222,
              "#7201a8"
             ],
             [
              0.3333333333333333,
              "#9c179e"
             ],
             [
              0.4444444444444444,
              "#bd3786"
             ],
             [
              0.5555555555555556,
              "#d8576b"
             ],
             [
              0.6666666666666666,
              "#ed7953"
             ],
             [
              0.7777777777777778,
              "#fb9f3a"
             ],
             [
              0.8888888888888888,
              "#fdca26"
             ],
             [
              1,
              "#f0f921"
             ]
            ],
            "type": "histogram2dcontour"
           }
          ],
          "mesh3d": [
           {
            "colorbar": {
             "outlinewidth": 0,
             "ticks": ""
            },
            "type": "mesh3d"
           }
          ],
          "parcoords": [
           {
            "line": {
             "colorbar": {
              "outlinewidth": 0,
              "ticks": ""
             }
            },
            "type": "parcoords"
           }
          ],
          "pie": [
           {
            "automargin": true,
            "type": "pie"
           }
          ],
          "scatter": [
           {
            "fillpattern": {
             "fillmode": "overlay",
             "size": 10,
             "solidity": 0.2
            },
            "type": "scatter"
           }
          ],
          "scatter3d": [
           {
            "line": {
             "colorbar": {
              "outlinewidth": 0,
              "ticks": ""
             }
            },
            "marker": {
             "colorbar": {
              "outlinewidth": 0,
              "ticks": ""
             }
            },
            "type": "scatter3d"
           }
          ],
          "scattercarpet": [
           {
            "marker": {
             "colorbar": {
              "outlinewidth": 0,
              "ticks": ""
             }
            },
            "type": "scattercarpet"
           }
          ],
          "scattergeo": [
           {
            "marker": {
             "colorbar": {
              "outlinewidth": 0,
              "ticks": ""
             }
            },
            "type": "scattergeo"
           }
          ],
          "scattergl": [
           {
            "marker": {
             "colorbar": {
              "outlinewidth": 0,
              "ticks": ""
             }
            },
            "type": "scattergl"
           }
          ],
          "scattermapbox": [
           {
            "marker": {
             "colorbar": {
              "outlinewidth": 0,
              "ticks": ""
             }
            },
            "type": "scattermapbox"
           }
          ],
          "scatterpolar": [
           {
            "marker": {
             "colorbar": {
              "outlinewidth": 0,
              "ticks": ""
             }
            },
            "type": "scatterpolar"
           }
          ],
          "scatterpolargl": [
           {
            "marker": {
             "colorbar": {
              "outlinewidth": 0,
              "ticks": ""
             }
            },
            "type": "scatterpolargl"
           }
          ],
          "scatterternary": [
           {
            "marker": {
             "colorbar": {
              "outlinewidth": 0,
              "ticks": ""
             }
            },
            "type": "scatterternary"
           }
          ],
          "surface": [
           {
            "colorbar": {
             "outlinewidth": 0,
             "ticks": ""
            },
            "colorscale": [
             [
              0,
              "#0d0887"
             ],
             [
              0.1111111111111111,
              "#46039f"
             ],
             [
              0.2222222222222222,
              "#7201a8"
             ],
             [
              0.3333333333333333,
              "#9c179e"
             ],
             [
              0.4444444444444444,
              "#bd3786"
             ],
             [
              0.5555555555555556,
              "#d8576b"
             ],
             [
              0.6666666666666666,
              "#ed7953"
             ],
             [
              0.7777777777777778,
              "#fb9f3a"
             ],
             [
              0.8888888888888888,
              "#fdca26"
             ],
             [
              1,
              "#f0f921"
             ]
            ],
            "type": "surface"
           }
          ],
          "table": [
           {
            "cells": {
             "fill": {
              "color": "#EBF0F8"
             },
             "line": {
              "color": "white"
             }
            },
            "header": {
             "fill": {
              "color": "#C8D4E3"
             },
             "line": {
              "color": "white"
             }
            },
            "type": "table"
           }
          ]
         },
         "layout": {
          "annotationdefaults": {
           "arrowcolor": "#2a3f5f",
           "arrowhead": 0,
           "arrowwidth": 1
          },
          "autotypenumbers": "strict",
          "coloraxis": {
           "colorbar": {
            "outlinewidth": 0,
            "ticks": ""
           }
          },
          "colorscale": {
           "diverging": [
            [
             0,
             "#8e0152"
            ],
            [
             0.1,
             "#c51b7d"
            ],
            [
             0.2,
             "#de77ae"
            ],
            [
             0.3,
             "#f1b6da"
            ],
            [
             0.4,
             "#fde0ef"
            ],
            [
             0.5,
             "#f7f7f7"
            ],
            [
             0.6,
             "#e6f5d0"
            ],
            [
             0.7,
             "#b8e186"
            ],
            [
             0.8,
             "#7fbc41"
            ],
            [
             0.9,
             "#4d9221"
            ],
            [
             1,
             "#276419"
            ]
           ],
           "sequential": [
            [
             0,
             "#0d0887"
            ],
            [
             0.1111111111111111,
             "#46039f"
            ],
            [
             0.2222222222222222,
             "#7201a8"
            ],
            [
             0.3333333333333333,
             "#9c179e"
            ],
            [
             0.4444444444444444,
             "#bd3786"
            ],
            [
             0.5555555555555556,
             "#d8576b"
            ],
            [
             0.6666666666666666,
             "#ed7953"
            ],
            [
             0.7777777777777778,
             "#fb9f3a"
            ],
            [
             0.8888888888888888,
             "#fdca26"
            ],
            [
             1,
             "#f0f921"
            ]
           ],
           "sequentialminus": [
            [
             0,
             "#0d0887"
            ],
            [
             0.1111111111111111,
             "#46039f"
            ],
            [
             0.2222222222222222,
             "#7201a8"
            ],
            [
             0.3333333333333333,
             "#9c179e"
            ],
            [
             0.4444444444444444,
             "#bd3786"
            ],
            [
             0.5555555555555556,
             "#d8576b"
            ],
            [
             0.6666666666666666,
             "#ed7953"
            ],
            [
             0.7777777777777778,
             "#fb9f3a"
            ],
            [
             0.8888888888888888,
             "#fdca26"
            ],
            [
             1,
             "#f0f921"
            ]
           ]
          },
          "colorway": [
           "#636efa",
           "#EF553B",
           "#00cc96",
           "#ab63fa",
           "#FFA15A",
           "#19d3f3",
           "#FF6692",
           "#B6E880",
           "#FF97FF",
           "#FECB52"
          ],
          "font": {
           "color": "#2a3f5f"
          },
          "geo": {
           "bgcolor": "white",
           "lakecolor": "white",
           "landcolor": "#E5ECF6",
           "showlakes": true,
           "showland": true,
           "subunitcolor": "white"
          },
          "hoverlabel": {
           "align": "left"
          },
          "hovermode": "closest",
          "mapbox": {
           "style": "light"
          },
          "paper_bgcolor": "white",
          "plot_bgcolor": "#E5ECF6",
          "polar": {
           "angularaxis": {
            "gridcolor": "white",
            "linecolor": "white",
            "ticks": ""
           },
           "bgcolor": "#E5ECF6",
           "radialaxis": {
            "gridcolor": "white",
            "linecolor": "white",
            "ticks": ""
           }
          },
          "scene": {
           "xaxis": {
            "backgroundcolor": "#E5ECF6",
            "gridcolor": "white",
            "gridwidth": 2,
            "linecolor": "white",
            "showbackground": true,
            "ticks": "",
            "zerolinecolor": "white"
           },
           "yaxis": {
            "backgroundcolor": "#E5ECF6",
            "gridcolor": "white",
            "gridwidth": 2,
            "linecolor": "white",
            "showbackground": true,
            "ticks": "",
            "zerolinecolor": "white"
           },
           "zaxis": {
            "backgroundcolor": "#E5ECF6",
            "gridcolor": "white",
            "gridwidth": 2,
            "linecolor": "white",
            "showbackground": true,
            "ticks": "",
            "zerolinecolor": "white"
           }
          },
          "shapedefaults": {
           "line": {
            "color": "#2a3f5f"
           }
          },
          "ternary": {
           "aaxis": {
            "gridcolor": "white",
            "linecolor": "white",
            "ticks": ""
           },
           "baxis": {
            "gridcolor": "white",
            "linecolor": "white",
            "ticks": ""
           },
           "bgcolor": "#E5ECF6",
           "caxis": {
            "gridcolor": "white",
            "linecolor": "white",
            "ticks": ""
           }
          },
          "title": {
           "x": 0.05
          },
          "xaxis": {
           "automargin": true,
           "gridcolor": "white",
           "linecolor": "white",
           "ticks": "",
           "title": {
            "standoff": 15
           },
           "zerolinecolor": "white",
           "zerolinewidth": 2
          },
          "yaxis": {
           "automargin": true,
           "gridcolor": "white",
           "linecolor": "white",
           "ticks": "",
           "title": {
            "standoff": 15
           },
           "zerolinecolor": "white",
           "zerolinewidth": 2
          }
         }
        },
        "xaxis": {
         "title": {
          "text": "City name"
         }
        },
        "yaxis": {
         "title": {
          "text": "Number of Theatres"
         }
        },
        "yaxis2": {
         "overlaying": "y",
         "side": "right",
         "title": {
          "text": "Number of Performances"
         }
        }
       }
      }
     },
     "metadata": {},
     "output_type": "display_data"
    }
   ],
   "source": [
    "# get data\n",
    "theatre_data_df = use_sql_query(cur=cur,sql_query=theatre_number_in_citys).head(10)\n",
    "musical_perform_df = use_sql_query(cur=cur,sql_query=musical_perform_by_date_range,params=(\"2023-01-01\",\"2024-12-31\"))\n",
    "\n",
    "#join 2 df\n",
    "fig_data1 = pd.merge(theatre_data_df,musical_perform_df,left_on = \"city_name\",right_on = \"city\",how=\"left\")\n",
    "fig_data1[\"city_en\"] = fig_data1[\"city_name\"].map(location_dict)\n",
    "\n",
    "# plot\n",
    "fig = go.Figure()\n",
    "fig.add_trace(go.Bar(\n",
    "    x=fig_data1['city_en'],\n",
    "    y=fig_data1['numberoftheatre'],\n",
    "    marker=dict(color=\"#466b82\"),\n",
    "    name=\"Number of Theatres\"\n",
    "))\n",
    "fig.add_trace(go.Scatter(\n",
    "    x=fig_data1['city_en'],\n",
    "    y=fig_data1['count'],\n",
    "    mode='lines+markers',\n",
    "    line=dict(color='#E91E63', width=2),\n",
    "    marker=dict(size=8),\n",
    "    yaxis='y2',\n",
    "    name=\"Number of Performance\"\n",
    "))\n",
    "fig.update_layout(\n",
    "    yaxis2=dict(\n",
    "        title='Number of Performances',\n",
    "        overlaying='y',\n",
    "        side='right'\n",
    "    ),\n",
    "    yaxis=dict(title='Number of Theatres'),\n",
    "    xaxis=dict(title='City name'),\n",
    "    legend=dict(x=1.1, y=1),\n",
    "        autosize=True,\n",
    ")\n",
    "fig.show()"
   ]
  },
  {
   "cell_type": "code",
   "execution_count": 103,
   "metadata": {},
   "outputs": [
    {
     "data": {
      "application/vnd.plotly.v1+json": {
       "config": {
        "plotlyServerURL": "https://plot.ly"
       },
       "data": [
        {
         "marker": {
          "color": "#E91E63"
         },
         "name": "Total Musical",
         "type": "bar",
         "x": [
          2018,
          2019,
          2020,
          2021,
          2022,
          2023,
          2024
         ],
         "y": [
          25,
          12,
          16,
          46,
          44,
          89,
          43
         ],
         "yaxis": "y2"
        },
        {
         "marker": {
          "color": "#466b82"
         },
         "mode": "lines+markers",
         "name": "original ratio",
         "type": "scatter",
         "x": [
          2018,
          2019,
          2020,
          2021,
          2022,
          2023,
          2024
         ],
         "y": [
          0.56,
          0.5833333333333334,
          0.5625,
          0.717391304347826,
          0.7045454545454546,
          0.7640449438202247,
          0.8604651162790697
         ],
         "yaxis": "y"
        }
       ],
       "layout": {
        "autosize": true,
        "legend": {
         "x": 1.1,
         "y": 1
        },
        "template": {
         "data": {
          "bar": [
           {
            "error_x": {
             "color": "#2a3f5f"
            },
            "error_y": {
             "color": "#2a3f5f"
            },
            "marker": {
             "line": {
              "color": "#E5ECF6",
              "width": 0.5
             },
             "pattern": {
              "fillmode": "overlay",
              "size": 10,
              "solidity": 0.2
             }
            },
            "type": "bar"
           }
          ],
          "barpolar": [
           {
            "marker": {
             "line": {
              "color": "#E5ECF6",
              "width": 0.5
             },
             "pattern": {
              "fillmode": "overlay",
              "size": 10,
              "solidity": 0.2
             }
            },
            "type": "barpolar"
           }
          ],
          "carpet": [
           {
            "aaxis": {
             "endlinecolor": "#2a3f5f",
             "gridcolor": "white",
             "linecolor": "white",
             "minorgridcolor": "white",
             "startlinecolor": "#2a3f5f"
            },
            "baxis": {
             "endlinecolor": "#2a3f5f",
             "gridcolor": "white",
             "linecolor": "white",
             "minorgridcolor": "white",
             "startlinecolor": "#2a3f5f"
            },
            "type": "carpet"
           }
          ],
          "choropleth": [
           {
            "colorbar": {
             "outlinewidth": 0,
             "ticks": ""
            },
            "type": "choropleth"
           }
          ],
          "contour": [
           {
            "colorbar": {
             "outlinewidth": 0,
             "ticks": ""
            },
            "colorscale": [
             [
              0,
              "#0d0887"
             ],
             [
              0.1111111111111111,
              "#46039f"
             ],
             [
              0.2222222222222222,
              "#7201a8"
             ],
             [
              0.3333333333333333,
              "#9c179e"
             ],
             [
              0.4444444444444444,
              "#bd3786"
             ],
             [
              0.5555555555555556,
              "#d8576b"
             ],
             [
              0.6666666666666666,
              "#ed7953"
             ],
             [
              0.7777777777777778,
              "#fb9f3a"
             ],
             [
              0.8888888888888888,
              "#fdca26"
             ],
             [
              1,
              "#f0f921"
             ]
            ],
            "type": "contour"
           }
          ],
          "contourcarpet": [
           {
            "colorbar": {
             "outlinewidth": 0,
             "ticks": ""
            },
            "type": "contourcarpet"
           }
          ],
          "heatmap": [
           {
            "colorbar": {
             "outlinewidth": 0,
             "ticks": ""
            },
            "colorscale": [
             [
              0,
              "#0d0887"
             ],
             [
              0.1111111111111111,
              "#46039f"
             ],
             [
              0.2222222222222222,
              "#7201a8"
             ],
             [
              0.3333333333333333,
              "#9c179e"
             ],
             [
              0.4444444444444444,
              "#bd3786"
             ],
             [
              0.5555555555555556,
              "#d8576b"
             ],
             [
              0.6666666666666666,
              "#ed7953"
             ],
             [
              0.7777777777777778,
              "#fb9f3a"
             ],
             [
              0.8888888888888888,
              "#fdca26"
             ],
             [
              1,
              "#f0f921"
             ]
            ],
            "type": "heatmap"
           }
          ],
          "heatmapgl": [
           {
            "colorbar": {
             "outlinewidth": 0,
             "ticks": ""
            },
            "colorscale": [
             [
              0,
              "#0d0887"
             ],
             [
              0.1111111111111111,
              "#46039f"
             ],
             [
              0.2222222222222222,
              "#7201a8"
             ],
             [
              0.3333333333333333,
              "#9c179e"
             ],
             [
              0.4444444444444444,
              "#bd3786"
             ],
             [
              0.5555555555555556,
              "#d8576b"
             ],
             [
              0.6666666666666666,
              "#ed7953"
             ],
             [
              0.7777777777777778,
              "#fb9f3a"
             ],
             [
              0.8888888888888888,
              "#fdca26"
             ],
             [
              1,
              "#f0f921"
             ]
            ],
            "type": "heatmapgl"
           }
          ],
          "histogram": [
           {
            "marker": {
             "pattern": {
              "fillmode": "overlay",
              "size": 10,
              "solidity": 0.2
             }
            },
            "type": "histogram"
           }
          ],
          "histogram2d": [
           {
            "colorbar": {
             "outlinewidth": 0,
             "ticks": ""
            },
            "colorscale": [
             [
              0,
              "#0d0887"
             ],
             [
              0.1111111111111111,
              "#46039f"
             ],
             [
              0.2222222222222222,
              "#7201a8"
             ],
             [
              0.3333333333333333,
              "#9c179e"
             ],
             [
              0.4444444444444444,
              "#bd3786"
             ],
             [
              0.5555555555555556,
              "#d8576b"
             ],
             [
              0.6666666666666666,
              "#ed7953"
             ],
             [
              0.7777777777777778,
              "#fb9f3a"
             ],
             [
              0.8888888888888888,
              "#fdca26"
             ],
             [
              1,
              "#f0f921"
             ]
            ],
            "type": "histogram2d"
           }
          ],
          "histogram2dcontour": [
           {
            "colorbar": {
             "outlinewidth": 0,
             "ticks": ""
            },
            "colorscale": [
             [
              0,
              "#0d0887"
             ],
             [
              0.1111111111111111,
              "#46039f"
             ],
             [
              0.2222222222222222,
              "#7201a8"
             ],
             [
              0.3333333333333333,
              "#9c179e"
             ],
             [
              0.4444444444444444,
              "#bd3786"
             ],
             [
              0.5555555555555556,
              "#d8576b"
             ],
             [
              0.6666666666666666,
              "#ed7953"
             ],
             [
              0.7777777777777778,
              "#fb9f3a"
             ],
             [
              0.8888888888888888,
              "#fdca26"
             ],
             [
              1,
              "#f0f921"
             ]
            ],
            "type": "histogram2dcontour"
           }
          ],
          "mesh3d": [
           {
            "colorbar": {
             "outlinewidth": 0,
             "ticks": ""
            },
            "type": "mesh3d"
           }
          ],
          "parcoords": [
           {
            "line": {
             "colorbar": {
              "outlinewidth": 0,
              "ticks": ""
             }
            },
            "type": "parcoords"
           }
          ],
          "pie": [
           {
            "automargin": true,
            "type": "pie"
           }
          ],
          "scatter": [
           {
            "fillpattern": {
             "fillmode": "overlay",
             "size": 10,
             "solidity": 0.2
            },
            "type": "scatter"
           }
          ],
          "scatter3d": [
           {
            "line": {
             "colorbar": {
              "outlinewidth": 0,
              "ticks": ""
             }
            },
            "marker": {
             "colorbar": {
              "outlinewidth": 0,
              "ticks": ""
             }
            },
            "type": "scatter3d"
           }
          ],
          "scattercarpet": [
           {
            "marker": {
             "colorbar": {
              "outlinewidth": 0,
              "ticks": ""
             }
            },
            "type": "scattercarpet"
           }
          ],
          "scattergeo": [
           {
            "marker": {
             "colorbar": {
              "outlinewidth": 0,
              "ticks": ""
             }
            },
            "type": "scattergeo"
           }
          ],
          "scattergl": [
           {
            "marker": {
             "colorbar": {
              "outlinewidth": 0,
              "ticks": ""
             }
            },
            "type": "scattergl"
           }
          ],
          "scattermapbox": [
           {
            "marker": {
             "colorbar": {
              "outlinewidth": 0,
              "ticks": ""
             }
            },
            "type": "scattermapbox"
           }
          ],
          "scatterpolar": [
           {
            "marker": {
             "colorbar": {
              "outlinewidth": 0,
              "ticks": ""
             }
            },
            "type": "scatterpolar"
           }
          ],
          "scatterpolargl": [
           {
            "marker": {
             "colorbar": {
              "outlinewidth": 0,
              "ticks": ""
             }
            },
            "type": "scatterpolargl"
           }
          ],
          "scatterternary": [
           {
            "marker": {
             "colorbar": {
              "outlinewidth": 0,
              "ticks": ""
             }
            },
            "type": "scatterternary"
           }
          ],
          "surface": [
           {
            "colorbar": {
             "outlinewidth": 0,
             "ticks": ""
            },
            "colorscale": [
             [
              0,
              "#0d0887"
             ],
             [
              0.1111111111111111,
              "#46039f"
             ],
             [
              0.2222222222222222,
              "#7201a8"
             ],
             [
              0.3333333333333333,
              "#9c179e"
             ],
             [
              0.4444444444444444,
              "#bd3786"
             ],
             [
              0.5555555555555556,
              "#d8576b"
             ],
             [
              0.6666666666666666,
              "#ed7953"
             ],
             [
              0.7777777777777778,
              "#fb9f3a"
             ],
             [
              0.8888888888888888,
              "#fdca26"
             ],
             [
              1,
              "#f0f921"
             ]
            ],
            "type": "surface"
           }
          ],
          "table": [
           {
            "cells": {
             "fill": {
              "color": "#EBF0F8"
             },
             "line": {
              "color": "white"
             }
            },
            "header": {
             "fill": {
              "color": "#C8D4E3"
             },
             "line": {
              "color": "white"
             }
            },
            "type": "table"
           }
          ]
         },
         "layout": {
          "annotationdefaults": {
           "arrowcolor": "#2a3f5f",
           "arrowhead": 0,
           "arrowwidth": 1
          },
          "autotypenumbers": "strict",
          "coloraxis": {
           "colorbar": {
            "outlinewidth": 0,
            "ticks": ""
           }
          },
          "colorscale": {
           "diverging": [
            [
             0,
             "#8e0152"
            ],
            [
             0.1,
             "#c51b7d"
            ],
            [
             0.2,
             "#de77ae"
            ],
            [
             0.3,
             "#f1b6da"
            ],
            [
             0.4,
             "#fde0ef"
            ],
            [
             0.5,
             "#f7f7f7"
            ],
            [
             0.6,
             "#e6f5d0"
            ],
            [
             0.7,
             "#b8e186"
            ],
            [
             0.8,
             "#7fbc41"
            ],
            [
             0.9,
             "#4d9221"
            ],
            [
             1,
             "#276419"
            ]
           ],
           "sequential": [
            [
             0,
             "#0d0887"
            ],
            [
             0.1111111111111111,
             "#46039f"
            ],
            [
             0.2222222222222222,
             "#7201a8"
            ],
            [
             0.3333333333333333,
             "#9c179e"
            ],
            [
             0.4444444444444444,
             "#bd3786"
            ],
            [
             0.5555555555555556,
             "#d8576b"
            ],
            [
             0.6666666666666666,
             "#ed7953"
            ],
            [
             0.7777777777777778,
             "#fb9f3a"
            ],
            [
             0.8888888888888888,
             "#fdca26"
            ],
            [
             1,
             "#f0f921"
            ]
           ],
           "sequentialminus": [
            [
             0,
             "#0d0887"
            ],
            [
             0.1111111111111111,
             "#46039f"
            ],
            [
             0.2222222222222222,
             "#7201a8"
            ],
            [
             0.3333333333333333,
             "#9c179e"
            ],
            [
             0.4444444444444444,
             "#bd3786"
            ],
            [
             0.5555555555555556,
             "#d8576b"
            ],
            [
             0.6666666666666666,
             "#ed7953"
            ],
            [
             0.7777777777777778,
             "#fb9f3a"
            ],
            [
             0.8888888888888888,
             "#fdca26"
            ],
            [
             1,
             "#f0f921"
            ]
           ]
          },
          "colorway": [
           "#636efa",
           "#EF553B",
           "#00cc96",
           "#ab63fa",
           "#FFA15A",
           "#19d3f3",
           "#FF6692",
           "#B6E880",
           "#FF97FF",
           "#FECB52"
          ],
          "font": {
           "color": "#2a3f5f"
          },
          "geo": {
           "bgcolor": "white",
           "lakecolor": "white",
           "landcolor": "#E5ECF6",
           "showlakes": true,
           "showland": true,
           "subunitcolor": "white"
          },
          "hoverlabel": {
           "align": "left"
          },
          "hovermode": "closest",
          "mapbox": {
           "style": "light"
          },
          "paper_bgcolor": "white",
          "plot_bgcolor": "#E5ECF6",
          "polar": {
           "angularaxis": {
            "gridcolor": "white",
            "linecolor": "white",
            "ticks": ""
           },
           "bgcolor": "#E5ECF6",
           "radialaxis": {
            "gridcolor": "white",
            "linecolor": "white",
            "ticks": ""
           }
          },
          "scene": {
           "xaxis": {
            "backgroundcolor": "#E5ECF6",
            "gridcolor": "white",
            "gridwidth": 2,
            "linecolor": "white",
            "showbackground": true,
            "ticks": "",
            "zerolinecolor": "white"
           },
           "yaxis": {
            "backgroundcolor": "#E5ECF6",
            "gridcolor": "white",
            "gridwidth": 2,
            "linecolor": "white",
            "showbackground": true,
            "ticks": "",
            "zerolinecolor": "white"
           },
           "zaxis": {
            "backgroundcolor": "#E5ECF6",
            "gridcolor": "white",
            "gridwidth": 2,
            "linecolor": "white",
            "showbackground": true,
            "ticks": "",
            "zerolinecolor": "white"
           }
          },
          "shapedefaults": {
           "line": {
            "color": "#2a3f5f"
           }
          },
          "ternary": {
           "aaxis": {
            "gridcolor": "white",
            "linecolor": "white",
            "ticks": ""
           },
           "baxis": {
            "gridcolor": "white",
            "linecolor": "white",
            "ticks": ""
           },
           "bgcolor": "#E5ECF6",
           "caxis": {
            "gridcolor": "white",
            "linecolor": "white",
            "ticks": ""
           }
          },
          "title": {
           "x": 0.05
          },
          "xaxis": {
           "automargin": true,
           "gridcolor": "white",
           "linecolor": "white",
           "ticks": "",
           "title": {
            "standoff": 15
           },
           "zerolinecolor": "white",
           "zerolinewidth": 2
          },
          "yaxis": {
           "automargin": true,
           "gridcolor": "white",
           "linecolor": "white",
           "ticks": "",
           "title": {
            "standoff": 15
           },
           "zerolinecolor": "white",
           "zerolinewidth": 2
          }
         }
        },
        "title": {
         "text": "Musical Originality by Year"
        },
        "xaxis": {
         "title": {
          "text": "Year"
         }
        },
        "yaxis": {
         "overlaying": "y2",
         "range": [
          0,
          1
         ],
         "side": "right",
         "title": {
          "text": "Original Ratio"
         }
        },
        "yaxis2": {
         "side": "left",
         "title": {
          "text": "Total Musical"
         }
        }
       }
      }
     },
     "metadata": {},
     "output_type": "display_data"
    }
   ],
   "source": [
    "# get data\n",
    "musicals = get_table_data(cur=cur,table_names= [\"musicals\"] )[\"musicals\"]\n",
    "\n",
    "musicals[\"premiere_date\"] = pd.to_datetime(musicals[\"premiere_date\"])\n",
    "musicals[\"year\"] = musicals[\"premiere_date\"].dt.year\n",
    "musicals = musicals[musicals[\"year\"] > 2017]\n",
    "\n",
    "year_musical_df = pd.DataFrame(musicals.groupby(\"year\").agg({\n",
    "    'musical_id': 'count',\n",
    "    'is_original': 'sum',\n",
    "}))\n",
    "year_musical_df[\"imitation_musical_number\"] = year_musical_df[\"musical_id\"] - year_musical_df[\"is_original\"]\n",
    "year_musical_df[\"original_musical_ratio\"] = year_musical_df[\"is_original\"] / year_musical_df[\"musical_id\"]\n",
    "year_musical_df.reset_index(inplace=True)\n",
    "\n",
    "fig_musical_originality = go.Figure()\n",
    "\n",
    "fig_musical_originality.add_trace(go.Bar(\n",
    "    x=year_musical_df[\"year\"],\n",
    "    y=year_musical_df[\"musical_id\"],\n",
    "    name=\"Total Musical\",\n",
    "    marker=dict(color=\"#E91E63\"),\n",
    "    yaxis=\"y2\"\n",
    "\n",
    "))\n",
    "fig_musical_originality.add_trace(go.Scatter(\n",
    "    x=year_musical_df[\"year\"],\n",
    "    y=year_musical_df[\"original_musical_ratio\"],\n",
    "    name=\"original ratio\",\n",
    "    mode='lines+markers',\n",
    "    marker=dict(color=\"#466b82\"),\n",
    "    yaxis=\"y\"\n",
    "))\n",
    "\n",
    "fig_musical_originality.update_layout(\n",
    "    title=\"Musical Originality by Year\",\n",
    "    yaxis=dict(title=\"Original Ratio\",side=\"right\",overlaying=\"y2\",range=[0,1]),\n",
    "    yaxis2=dict(title=\"Total Musical\",side=\"left\"),\n",
    "    legend=dict(x=1.1, y=1),\n",
    "    autosize=True,\n",
    "    xaxis=dict(title=\"Year\"),\n",
    ")\n",
    "\n",
    "fig_musical_originality.show()"
   ]
  },
  {
   "cell_type": "code",
   "execution_count": 104,
   "metadata": {},
   "outputs": [
    {
     "name": "stderr",
     "output_type": "stream",
     "text": [
      "/var/folders/9s/l93m55bx5w9brq6p8klv2cgr0000gn/T/ipykernel_63009/2151088408.py:16: SettingWithCopyWarning:\n",
      "\n",
      "\n",
      "A value is trying to be set on a copy of a slice from a DataFrame.\n",
      "Try using .loc[row_indexer,col_indexer] = value instead\n",
      "\n",
      "See the caveats in the documentation: https://pandas.pydata.org/pandas-docs/stable/user_guide/indexing.html#returning-a-view-versus-a-copy\n",
      "\n",
      "/var/folders/9s/l93m55bx5w9brq6p8klv2cgr0000gn/T/ipykernel_63009/2151088408.py:17: SettingWithCopyWarning:\n",
      "\n",
      "\n",
      "A value is trying to be set on a copy of a slice from a DataFrame.\n",
      "Try using .loc[row_indexer,col_indexer] = value instead\n",
      "\n",
      "See the caveats in the documentation: https://pandas.pydata.org/pandas-docs/stable/user_guide/indexing.html#returning-a-view-versus-a-copy\n",
      "\n",
      "/var/folders/9s/l93m55bx5w9brq6p8klv2cgr0000gn/T/ipykernel_63009/2151088408.py:18: SettingWithCopyWarning:\n",
      "\n",
      "\n",
      "A value is trying to be set on a copy of a slice from a DataFrame.\n",
      "Try using .loc[row_indexer,col_indexer] = value instead\n",
      "\n",
      "See the caveats in the documentation: https://pandas.pydata.org/pandas-docs/stable/user_guide/indexing.html#returning-a-view-versus-a-copy\n",
      "\n",
      "/var/folders/9s/l93m55bx5w9brq6p8klv2cgr0000gn/T/ipykernel_63009/2151088408.py:16: SettingWithCopyWarning:\n",
      "\n",
      "\n",
      "A value is trying to be set on a copy of a slice from a DataFrame.\n",
      "Try using .loc[row_indexer,col_indexer] = value instead\n",
      "\n",
      "See the caveats in the documentation: https://pandas.pydata.org/pandas-docs/stable/user_guide/indexing.html#returning-a-view-versus-a-copy\n",
      "\n",
      "/var/folders/9s/l93m55bx5w9brq6p8klv2cgr0000gn/T/ipykernel_63009/2151088408.py:17: SettingWithCopyWarning:\n",
      "\n",
      "\n",
      "A value is trying to be set on a copy of a slice from a DataFrame.\n",
      "Try using .loc[row_indexer,col_indexer] = value instead\n",
      "\n",
      "See the caveats in the documentation: https://pandas.pydata.org/pandas-docs/stable/user_guide/indexing.html#returning-a-view-versus-a-copy\n",
      "\n",
      "/var/folders/9s/l93m55bx5w9brq6p8klv2cgr0000gn/T/ipykernel_63009/2151088408.py:19: SettingWithCopyWarning:\n",
      "\n",
      "\n",
      "A value is trying to be set on a copy of a slice from a DataFrame.\n",
      "Try using .loc[row_indexer,col_indexer] = value instead\n",
      "\n",
      "See the caveats in the documentation: https://pandas.pydata.org/pandas-docs/stable/user_guide/indexing.html#returning-a-view-versus-a-copy\n",
      "\n",
      "/var/folders/9s/l93m55bx5w9brq6p8klv2cgr0000gn/T/ipykernel_63009/2151088408.py:20: SettingWithCopyWarning:\n",
      "\n",
      "\n",
      "A value is trying to be set on a copy of a slice from a DataFrame.\n",
      "Try using .loc[row_indexer,col_indexer] = value instead\n",
      "\n",
      "See the caveats in the documentation: https://pandas.pydata.org/pandas-docs/stable/user_guide/indexing.html#returning-a-view-versus-a-copy\n",
      "\n",
      "/var/folders/9s/l93m55bx5w9brq6p8klv2cgr0000gn/T/ipykernel_63009/2151088408.py:21: SettingWithCopyWarning:\n",
      "\n",
      "\n",
      "A value is trying to be set on a copy of a slice from a DataFrame.\n",
      "Try using .loc[row_indexer,col_indexer] = value instead\n",
      "\n",
      "See the caveats in the documentation: https://pandas.pydata.org/pandas-docs/stable/user_guide/indexing.html#returning-a-view-versus-a-copy\n",
      "\n"
     ]
    }
   ],
   "source": [
    "musical_2022 = musicals[(musicals[\"year\"] == 2022) & (musicals[\"is_original\"] == 0)]\n",
    "musical_2023 = musicals[(musicals[\"year\"] == 2023) & (musicals[\"is_original\"] == 0)]\n",
    "musical_2024 = musicals[(musicals[\"year\"] == 2024) & (musicals[\"is_original\"] == 0)]\n",
    "county_name = {\n",
    "    \"Broadway\":[\"百老汇\"],\n",
    "    \"American\":[\"美国\"],\n",
    "    \"Korea\":[\"韩国\",\"韩\",\"韩方\"],\n",
    "    \"Thailand\":[\"泰国\"],\n",
    "    \"Russia\":[\"俄罗斯\"],\n",
    "    \"France\":[\"法国\"],\n",
    "    \"Japan\":[\"日本\"],\n",
    "    \"Other\":[\"其他\"]\n",
    "}\n",
    "\n",
    "for key, value in county_name.items():\n",
    "    musical_2022[\"info_country\"] = musical_2022[\"info\"].apply(lambda x: key if any(v in x for v in value) else musical_2022.loc[musical_2022[\"info\"] == x, \"info_country\"].iloc[0] if \"info_country\" in musical_2022.columns else x)\n",
    "    musical_2023[\"info_country\"] = musical_2023[\"info\"].apply(lambda x: key if any(v in x for v in value) else musical_2023.loc[musical_2023[\"info\"] == x, \"info_country\"].iloc[0] if \"info_country\" in musical_2023.columns else x)\n",
    "    musical_2024[\"info_country\"] = musical_2024[\"info\"].apply(lambda x: key if any(v in x for v in value) else musical_2024.loc[musical_2024[\"info\"] == x, \"info_country\"].iloc[0] if \"info_country\" in musical_2024.columns else x)\n",
    "musical_2022[\"info_country\"] = musical_2022[\"info_country\"].apply(lambda x: x if x in county_name.keys() else \"Other\")\n",
    "musical_2023[\"info_country\"] = musical_2023[\"info_country\"].apply(lambda x: x if x in county_name.keys() else \"Other\")\n",
    "musical_2024[\"info_country\"] = musical_2024[\"info_country\"].apply(lambda x: x if x in county_name.keys() else \"Other\")\n"
   ]
  },
  {
   "cell_type": "code",
   "execution_count": 105,
   "metadata": {},
   "outputs": [
    {
     "data": {
      "application/vnd.plotly.v1+json": {
       "config": {
        "plotlyServerURL": "https://plot.ly"
       },
       "data": [
        {
         "domain": {
          "x": [
           0,
           0.2888888888888889
          ],
          "y": [
           0,
           1
          ]
         },
         "labels": [
          "Korea",
          "Russia",
          "Other"
         ],
         "marker": {
          "colors": [
           "#FFA07A",
           "#6B5B95",
           "#88B04B",
           "#F7CAC9",
           "#92A8D1",
           "#FFF2E0",
           "#FFD6AA"
          ]
         },
         "name": "2022",
         "type": "pie",
         "values": [
          10,
          2,
          1
         ]
        },
        {
         "domain": {
          "x": [
           0.35555555555555557,
           0.6444444444444445
          ],
          "y": [
           0,
           1
          ]
         },
         "labels": [
          "Korea",
          "Broadway",
          "Other",
          "American",
          "France",
          "Thailand"
         ],
         "marker": {
          "colors": [
           "#FFA07A",
           "#6B5B95",
           "#88B04B",
           "#F7CAC9",
           "#92A8D1",
           "#FFF2E0",
           "#FFD6AA"
          ]
         },
         "name": "2023",
         "type": "pie",
         "values": [
          9,
          4,
          4,
          2,
          1,
          1
         ]
        },
        {
         "domain": {
          "x": [
           0.7111111111111111,
           1
          ],
          "y": [
           0,
           1
          ]
         },
         "labels": [
          "Korea",
          "Other"
         ],
         "marker": {
          "colors": [
           "#FFA07A",
           "#6B5B95",
           "#88B04B",
           "#F7CAC9",
           "#92A8D1",
           "#FFF2E0",
           "#FFD6AA"
          ]
         },
         "name": "2024",
         "type": "pie",
         "values": [
          4,
          2
         ]
        }
       ],
       "layout": {
        "annotations": [
         {
          "font": {
           "size": 16
          },
          "showarrow": false,
          "text": "2022",
          "x": 0.14444444444444446,
          "xanchor": "center",
          "xref": "paper",
          "y": 1,
          "yanchor": "bottom",
          "yref": "paper"
         },
         {
          "font": {
           "size": 16
          },
          "showarrow": false,
          "text": "2023",
          "x": 0.5,
          "xanchor": "center",
          "xref": "paper",
          "y": 1,
          "yanchor": "bottom",
          "yref": "paper"
         },
         {
          "font": {
           "size": 16
          },
          "showarrow": false,
          "text": "2024",
          "x": 0.8555555555555556,
          "xanchor": "center",
          "xref": "paper",
          "y": 1,
          "yanchor": "bottom",
          "yref": "paper"
         }
        ],
        "autosize": true,
        "legend": {
         "x": 1.1,
         "y": 1
        },
        "template": {
         "data": {
          "bar": [
           {
            "error_x": {
             "color": "#2a3f5f"
            },
            "error_y": {
             "color": "#2a3f5f"
            },
            "marker": {
             "line": {
              "color": "#E5ECF6",
              "width": 0.5
             },
             "pattern": {
              "fillmode": "overlay",
              "size": 10,
              "solidity": 0.2
             }
            },
            "type": "bar"
           }
          ],
          "barpolar": [
           {
            "marker": {
             "line": {
              "color": "#E5ECF6",
              "width": 0.5
             },
             "pattern": {
              "fillmode": "overlay",
              "size": 10,
              "solidity": 0.2
             }
            },
            "type": "barpolar"
           }
          ],
          "carpet": [
           {
            "aaxis": {
             "endlinecolor": "#2a3f5f",
             "gridcolor": "white",
             "linecolor": "white",
             "minorgridcolor": "white",
             "startlinecolor": "#2a3f5f"
            },
            "baxis": {
             "endlinecolor": "#2a3f5f",
             "gridcolor": "white",
             "linecolor": "white",
             "minorgridcolor": "white",
             "startlinecolor": "#2a3f5f"
            },
            "type": "carpet"
           }
          ],
          "choropleth": [
           {
            "colorbar": {
             "outlinewidth": 0,
             "ticks": ""
            },
            "type": "choropleth"
           }
          ],
          "contour": [
           {
            "colorbar": {
             "outlinewidth": 0,
             "ticks": ""
            },
            "colorscale": [
             [
              0,
              "#0d0887"
             ],
             [
              0.1111111111111111,
              "#46039f"
             ],
             [
              0.2222222222222222,
              "#7201a8"
             ],
             [
              0.3333333333333333,
              "#9c179e"
             ],
             [
              0.4444444444444444,
              "#bd3786"
             ],
             [
              0.5555555555555556,
              "#d8576b"
             ],
             [
              0.6666666666666666,
              "#ed7953"
             ],
             [
              0.7777777777777778,
              "#fb9f3a"
             ],
             [
              0.8888888888888888,
              "#fdca26"
             ],
             [
              1,
              "#f0f921"
             ]
            ],
            "type": "contour"
           }
          ],
          "contourcarpet": [
           {
            "colorbar": {
             "outlinewidth": 0,
             "ticks": ""
            },
            "type": "contourcarpet"
           }
          ],
          "heatmap": [
           {
            "colorbar": {
             "outlinewidth": 0,
             "ticks": ""
            },
            "colorscale": [
             [
              0,
              "#0d0887"
             ],
             [
              0.1111111111111111,
              "#46039f"
             ],
             [
              0.2222222222222222,
              "#7201a8"
             ],
             [
              0.3333333333333333,
              "#9c179e"
             ],
             [
              0.4444444444444444,
              "#bd3786"
             ],
             [
              0.5555555555555556,
              "#d8576b"
             ],
             [
              0.6666666666666666,
              "#ed7953"
             ],
             [
              0.7777777777777778,
              "#fb9f3a"
             ],
             [
              0.8888888888888888,
              "#fdca26"
             ],
             [
              1,
              "#f0f921"
             ]
            ],
            "type": "heatmap"
           }
          ],
          "heatmapgl": [
           {
            "colorbar": {
             "outlinewidth": 0,
             "ticks": ""
            },
            "colorscale": [
             [
              0,
              "#0d0887"
             ],
             [
              0.1111111111111111,
              "#46039f"
             ],
             [
              0.2222222222222222,
              "#7201a8"
             ],
             [
              0.3333333333333333,
              "#9c179e"
             ],
             [
              0.4444444444444444,
              "#bd3786"
             ],
             [
              0.5555555555555556,
              "#d8576b"
             ],
             [
              0.6666666666666666,
              "#ed7953"
             ],
             [
              0.7777777777777778,
              "#fb9f3a"
             ],
             [
              0.8888888888888888,
              "#fdca26"
             ],
             [
              1,
              "#f0f921"
             ]
            ],
            "type": "heatmapgl"
           }
          ],
          "histogram": [
           {
            "marker": {
             "pattern": {
              "fillmode": "overlay",
              "size": 10,
              "solidity": 0.2
             }
            },
            "type": "histogram"
           }
          ],
          "histogram2d": [
           {
            "colorbar": {
             "outlinewidth": 0,
             "ticks": ""
            },
            "colorscale": [
             [
              0,
              "#0d0887"
             ],
             [
              0.1111111111111111,
              "#46039f"
             ],
             [
              0.2222222222222222,
              "#7201a8"
             ],
             [
              0.3333333333333333,
              "#9c179e"
             ],
             [
              0.4444444444444444,
              "#bd3786"
             ],
             [
              0.5555555555555556,
              "#d8576b"
             ],
             [
              0.6666666666666666,
              "#ed7953"
             ],
             [
              0.7777777777777778,
              "#fb9f3a"
             ],
             [
              0.8888888888888888,
              "#fdca26"
             ],
             [
              1,
              "#f0f921"
             ]
            ],
            "type": "histogram2d"
           }
          ],
          "histogram2dcontour": [
           {
            "colorbar": {
             "outlinewidth": 0,
             "ticks": ""
            },
            "colorscale": [
             [
              0,
              "#0d0887"
             ],
             [
              0.1111111111111111,
              "#46039f"
             ],
             [
              0.2222222222222222,
              "#7201a8"
             ],
             [
              0.3333333333333333,
              "#9c179e"
             ],
             [
              0.4444444444444444,
              "#bd3786"
             ],
             [
              0.5555555555555556,
              "#d8576b"
             ],
             [
              0.6666666666666666,
              "#ed7953"
             ],
             [
              0.7777777777777778,
              "#fb9f3a"
             ],
             [
              0.8888888888888888,
              "#fdca26"
             ],
             [
              1,
              "#f0f921"
             ]
            ],
            "type": "histogram2dcontour"
           }
          ],
          "mesh3d": [
           {
            "colorbar": {
             "outlinewidth": 0,
             "ticks": ""
            },
            "type": "mesh3d"
           }
          ],
          "parcoords": [
           {
            "line": {
             "colorbar": {
              "outlinewidth": 0,
              "ticks": ""
             }
            },
            "type": "parcoords"
           }
          ],
          "pie": [
           {
            "automargin": true,
            "type": "pie"
           }
          ],
          "scatter": [
           {
            "fillpattern": {
             "fillmode": "overlay",
             "size": 10,
             "solidity": 0.2
            },
            "type": "scatter"
           }
          ],
          "scatter3d": [
           {
            "line": {
             "colorbar": {
              "outlinewidth": 0,
              "ticks": ""
             }
            },
            "marker": {
             "colorbar": {
              "outlinewidth": 0,
              "ticks": ""
             }
            },
            "type": "scatter3d"
           }
          ],
          "scattercarpet": [
           {
            "marker": {
             "colorbar": {
              "outlinewidth": 0,
              "ticks": ""
             }
            },
            "type": "scattercarpet"
           }
          ],
          "scattergeo": [
           {
            "marker": {
             "colorbar": {
              "outlinewidth": 0,
              "ticks": ""
             }
            },
            "type": "scattergeo"
           }
          ],
          "scattergl": [
           {
            "marker": {
             "colorbar": {
              "outlinewidth": 0,
              "ticks": ""
             }
            },
            "type": "scattergl"
           }
          ],
          "scattermapbox": [
           {
            "marker": {
             "colorbar": {
              "outlinewidth": 0,
              "ticks": ""
             }
            },
            "type": "scattermapbox"
           }
          ],
          "scatterpolar": [
           {
            "marker": {
             "colorbar": {
              "outlinewidth": 0,
              "ticks": ""
             }
            },
            "type": "scatterpolar"
           }
          ],
          "scatterpolargl": [
           {
            "marker": {
             "colorbar": {
              "outlinewidth": 0,
              "ticks": ""
             }
            },
            "type": "scatterpolargl"
           }
          ],
          "scatterternary": [
           {
            "marker": {
             "colorbar": {
              "outlinewidth": 0,
              "ticks": ""
             }
            },
            "type": "scatterternary"
           }
          ],
          "surface": [
           {
            "colorbar": {
             "outlinewidth": 0,
             "ticks": ""
            },
            "colorscale": [
             [
              0,
              "#0d0887"
             ],
             [
              0.1111111111111111,
              "#46039f"
             ],
             [
              0.2222222222222222,
              "#7201a8"
             ],
             [
              0.3333333333333333,
              "#9c179e"
             ],
             [
              0.4444444444444444,
              "#bd3786"
             ],
             [
              0.5555555555555556,
              "#d8576b"
             ],
             [
              0.6666666666666666,
              "#ed7953"
             ],
             [
              0.7777777777777778,
              "#fb9f3a"
             ],
             [
              0.8888888888888888,
              "#fdca26"
             ],
             [
              1,
              "#f0f921"
             ]
            ],
            "type": "surface"
           }
          ],
          "table": [
           {
            "cells": {
             "fill": {
              "color": "#EBF0F8"
             },
             "line": {
              "color": "white"
             }
            },
            "header": {
             "fill": {
              "color": "#C8D4E3"
             },
             "line": {
              "color": "white"
             }
            },
            "type": "table"
           }
          ]
         },
         "layout": {
          "annotationdefaults": {
           "arrowcolor": "#2a3f5f",
           "arrowhead": 0,
           "arrowwidth": 1
          },
          "autotypenumbers": "strict",
          "coloraxis": {
           "colorbar": {
            "outlinewidth": 0,
            "ticks": ""
           }
          },
          "colorscale": {
           "diverging": [
            [
             0,
             "#8e0152"
            ],
            [
             0.1,
             "#c51b7d"
            ],
            [
             0.2,
             "#de77ae"
            ],
            [
             0.3,
             "#f1b6da"
            ],
            [
             0.4,
             "#fde0ef"
            ],
            [
             0.5,
             "#f7f7f7"
            ],
            [
             0.6,
             "#e6f5d0"
            ],
            [
             0.7,
             "#b8e186"
            ],
            [
             0.8,
             "#7fbc41"
            ],
            [
             0.9,
             "#4d9221"
            ],
            [
             1,
             "#276419"
            ]
           ],
           "sequential": [
            [
             0,
             "#0d0887"
            ],
            [
             0.1111111111111111,
             "#46039f"
            ],
            [
             0.2222222222222222,
             "#7201a8"
            ],
            [
             0.3333333333333333,
             "#9c179e"
            ],
            [
             0.4444444444444444,
             "#bd3786"
            ],
            [
             0.5555555555555556,
             "#d8576b"
            ],
            [
             0.6666666666666666,
             "#ed7953"
            ],
            [
             0.7777777777777778,
             "#fb9f3a"
            ],
            [
             0.8888888888888888,
             "#fdca26"
            ],
            [
             1,
             "#f0f921"
            ]
           ],
           "sequentialminus": [
            [
             0,
             "#0d0887"
            ],
            [
             0.1111111111111111,
             "#46039f"
            ],
            [
             0.2222222222222222,
             "#7201a8"
            ],
            [
             0.3333333333333333,
             "#9c179e"
            ],
            [
             0.4444444444444444,
             "#bd3786"
            ],
            [
             0.5555555555555556,
             "#d8576b"
            ],
            [
             0.6666666666666666,
             "#ed7953"
            ],
            [
             0.7777777777777778,
             "#fb9f3a"
            ],
            [
             0.8888888888888888,
             "#fdca26"
            ],
            [
             1,
             "#f0f921"
            ]
           ]
          },
          "colorway": [
           "#636efa",
           "#EF553B",
           "#00cc96",
           "#ab63fa",
           "#FFA15A",
           "#19d3f3",
           "#FF6692",
           "#B6E880",
           "#FF97FF",
           "#FECB52"
          ],
          "font": {
           "color": "#2a3f5f"
          },
          "geo": {
           "bgcolor": "white",
           "lakecolor": "white",
           "landcolor": "#E5ECF6",
           "showlakes": true,
           "showland": true,
           "subunitcolor": "white"
          },
          "hoverlabel": {
           "align": "left"
          },
          "hovermode": "closest",
          "mapbox": {
           "style": "light"
          },
          "paper_bgcolor": "white",
          "plot_bgcolor": "#E5ECF6",
          "polar": {
           "angularaxis": {
            "gridcolor": "white",
            "linecolor": "white",
            "ticks": ""
           },
           "bgcolor": "#E5ECF6",
           "radialaxis": {
            "gridcolor": "white",
            "linecolor": "white",
            "ticks": ""
           }
          },
          "scene": {
           "xaxis": {
            "backgroundcolor": "#E5ECF6",
            "gridcolor": "white",
            "gridwidth": 2,
            "linecolor": "white",
            "showbackground": true,
            "ticks": "",
            "zerolinecolor": "white"
           },
           "yaxis": {
            "backgroundcolor": "#E5ECF6",
            "gridcolor": "white",
            "gridwidth": 2,
            "linecolor": "white",
            "showbackground": true,
            "ticks": "",
            "zerolinecolor": "white"
           },
           "zaxis": {
            "backgroundcolor": "#E5ECF6",
            "gridcolor": "white",
            "gridwidth": 2,
            "linecolor": "white",
            "showbackground": true,
            "ticks": "",
            "zerolinecolor": "white"
           }
          },
          "shapedefaults": {
           "line": {
            "color": "#2a3f5f"
           }
          },
          "ternary": {
           "aaxis": {
            "gridcolor": "white",
            "linecolor": "white",
            "ticks": ""
           },
           "baxis": {
            "gridcolor": "white",
            "linecolor": "white",
            "ticks": ""
           },
           "bgcolor": "#E5ECF6",
           "caxis": {
            "gridcolor": "white",
            "linecolor": "white",
            "ticks": ""
           }
          },
          "title": {
           "x": 0.05
          },
          "xaxis": {
           "automargin": true,
           "gridcolor": "white",
           "linecolor": "white",
           "ticks": "",
           "title": {
            "standoff": 15
           },
           "zerolinecolor": "white",
           "zerolinewidth": 2
          },
          "yaxis": {
           "automargin": true,
           "gridcolor": "white",
           "linecolor": "white",
           "ticks": "",
           "title": {
            "standoff": 15
           },
           "zerolinecolor": "white",
           "zerolinewidth": 2
          }
         }
        },
        "title": {
         "text": "Imitation Musical by Country"
        }
       }
      }
     },
     "metadata": {},
     "output_type": "display_data"
    }
   ],
   "source": [
    "fig_musical_imitation_country = make_subplots(rows=1, cols=3, subplot_titles=[\"2022\", \"2023\", \"2024\"], specs=[[{'type':'pie'}, {'type':'pie'}, {'type':'pie'}]])\n",
    "#change color, do not use likely color  \n",
    "colors = ['#FFA07A', '#6B5B95', '#88B04B', '#F7CAC9', '#92A8D1', '#FFF2E0',\"#FFD6AA\"]\n",
    "\n",
    "fig_musical_imitation_country.add_trace(go.Pie(\n",
    "    labels=musical_2022[\"info_country\"].value_counts().index,\n",
    "    values=musical_2022[\"info_country\"].value_counts().values,\n",
    "    name=\"2022\",\n",
    "    marker=dict(colors=colors)\n",
    "), row=1, col=1)\n",
    "\n",
    "fig_musical_imitation_country.add_trace(go.Pie(\n",
    "    labels=musical_2023[\"info_country\"].value_counts().index,\n",
    "    values=musical_2023[\"info_country\"].value_counts().values,\n",
    "    name=\"2023\",\n",
    "    marker=dict(colors=colors)\n",
    "), row=1, col=2)\n",
    "\n",
    "fig_musical_imitation_country.add_trace(go.Pie(\n",
    "    labels=musical_2024[\"info_country\"].value_counts().index,\n",
    "    values=musical_2024[\"info_country\"].value_counts().values,\n",
    "    name=\"2024\",\n",
    "    marker=dict(colors=colors)\n",
    "), row=1, col=3)\n",
    "\n",
    "fig_musical_imitation_country.update_layout(\n",
    "\n",
    "    title=\"Imitation Musical by Country\",\n",
    "    legend=dict(x=1.1, y=1),\n",
    "    autosize=True\n",
    ")\n",
    "\n",
    "fig_musical_imitation_country.show()"
   ]
  },
  {
   "cell_type": "code",
   "execution_count": 106,
   "metadata": {},
   "outputs": [
    {
     "name": "stderr",
     "output_type": "stream",
     "text": [
      "/var/folders/9s/l93m55bx5w9brq6p8klv2cgr0000gn/T/ipykernel_63009/2414409729.py:8: SettingWithCopyWarning:\n",
      "\n",
      "\n",
      "A value is trying to be set on a copy of a slice from a DataFrame.\n",
      "Try using .loc[row_indexer,col_indexer] = value instead\n",
      "\n",
      "See the caveats in the documentation: https://pandas.pydata.org/pandas-docs/stable/user_guide/indexing.html#returning-a-view-versus-a-copy\n",
      "\n",
      "/var/folders/9s/l93m55bx5w9brq6p8klv2cgr0000gn/T/ipykernel_63009/2414409729.py:14: SettingWithCopyWarning:\n",
      "\n",
      "\n",
      "A value is trying to be set on a copy of a slice from a DataFrame.\n",
      "Try using .loc[row_indexer,col_indexer] = value instead\n",
      "\n",
      "See the caveats in the documentation: https://pandas.pydata.org/pandas-docs/stable/user_guide/indexing.html#returning-a-view-versus-a-copy\n",
      "\n"
     ]
    },
    {
     "data": {
      "application/vnd.plotly.v1+json": {
       "config": {
        "plotlyServerURL": "https://plot.ly"
       },
       "data": [
        {
         "name": "Shanghai",
         "type": "bar",
         "x": [
          "2023-01-01T00:00:00",
          "2023-02-01T00:00:00",
          "2023-03-01T00:00:00",
          "2023-04-01T00:00:00",
          "2023-05-01T00:00:00",
          "2023-06-01T00:00:00",
          "2023-07-01T00:00:00",
          "2023-08-01T00:00:00",
          "2023-09-01T00:00:00",
          "2023-10-01T00:00:00",
          "2023-11-01T00:00:00",
          "2023-12-01T00:00:00",
          "2024-01-01T00:00:00",
          "2024-02-01T00:00:00",
          "2024-03-01T00:00:00",
          "2024-04-01T00:00:00",
          "2024-05-01T00:00:00",
          "2024-06-01T00:00:00",
          "2024-07-01T00:00:00",
          "2024-08-01T00:00:00"
         ],
         "y": [
          313,
          411,
          462,
          472,
          470,
          444,
          538,
          562,
          519,
          566,
          525,
          606,
          535,
          290,
          507,
          412,
          426,
          462,
          449,
          559
         ],
         "yaxis": "y"
        },
        {
         "name": "Shenzhen",
         "type": "bar",
         "x": [
          "2023-01-01T00:00:00",
          "2023-02-01T00:00:00",
          "2023-03-01T00:00:00",
          "2023-04-01T00:00:00",
          "2023-05-01T00:00:00",
          "2023-06-01T00:00:00",
          "2023-07-01T00:00:00",
          "2023-08-01T00:00:00",
          "2023-09-01T00:00:00",
          "2023-10-01T00:00:00",
          "2023-11-01T00:00:00",
          "2023-12-01T00:00:00",
          "2024-01-01T00:00:00",
          "2024-03-01T00:00:00",
          "2024-05-01T00:00:00",
          "2024-06-01T00:00:00",
          "2024-07-01T00:00:00",
          "2024-08-01T00:00:00"
         ],
         "y": [
          3,
          14,
          17,
          8,
          22,
          26,
          11,
          10,
          14,
          4,
          5,
          9,
          6,
          17,
          11,
          17,
          2,
          16
         ],
         "yaxis": "y"
        },
        {
         "mode": "lines+markers",
         "name": "Shanghai Ratio",
         "type": "scatter",
         "x": [
          "2023-01-01T00:00:00",
          "2023-02-01T00:00:00",
          "2023-03-01T00:00:00",
          "2023-04-01T00:00:00",
          "2023-05-01T00:00:00",
          "2023-06-01T00:00:00",
          "2023-07-01T00:00:00",
          "2023-08-01T00:00:00",
          "2023-09-01T00:00:00",
          "2023-10-01T00:00:00",
          "2023-11-01T00:00:00",
          "2023-12-01T00:00:00",
          "2024-01-01T00:00:00",
          "2024-02-01T00:00:00",
          "2024-03-01T00:00:00",
          "2024-04-01T00:00:00",
          "2024-05-01T00:00:00",
          "2024-06-01T00:00:00",
          "2024-07-01T00:00:00",
          "2024-08-01T00:00:00"
         ],
         "y": [
          null,
          31.309904153354633,
          12.408759124087592,
          2.1645021645021645,
          -0.423728813559322,
          -5.531914893617022,
          21.17117117117117,
          4.4609665427509295,
          -7.6512455516014235,
          9.05587668593449,
          -7.243816254416961,
          15.428571428571429,
          -11.716171617161717,
          -45.794392523364486,
          74.82758620689656,
          -18.73767258382643,
          3.3980582524271843,
          8.450704225352112,
          -2.813852813852814,
          24.498886414253896
         ],
         "yaxis": "y2"
        },
        {
         "mode": "lines+markers",
         "name": "Shenzhen Ratio",
         "type": "scatter",
         "x": [
          "2023-01-01T00:00:00",
          "2023-02-01T00:00:00",
          "2023-03-01T00:00:00",
          "2023-04-01T00:00:00",
          "2023-05-01T00:00:00",
          "2023-06-01T00:00:00",
          "2023-07-01T00:00:00",
          "2023-08-01T00:00:00",
          "2023-09-01T00:00:00",
          "2023-10-01T00:00:00",
          "2023-11-01T00:00:00",
          "2023-12-01T00:00:00",
          "2024-01-01T00:00:00",
          "2024-03-01T00:00:00",
          "2024-05-01T00:00:00",
          "2024-06-01T00:00:00",
          "2024-07-01T00:00:00",
          "2024-08-01T00:00:00"
         ],
         "y": [
          null,
          366.6666666666667,
          21.428571428571427,
          -52.94117647058823,
          175,
          18.181818181818183,
          -57.69230769230769,
          -9.090909090909092,
          40,
          -71.42857142857143,
          25,
          80,
          -33.333333333333336,
          183.33333333333334,
          -35.294117647058826,
          54.54545454545455,
          -88.23529411764706,
          700
         ],
         "yaxis": "y2"
        }
       ],
       "layout": {
        "barmode": "group",
        "legend": {
         "title": {
          "text": "City"
         }
        },
        "template": {
         "data": {
          "bar": [
           {
            "error_x": {
             "color": "#2a3f5f"
            },
            "error_y": {
             "color": "#2a3f5f"
            },
            "marker": {
             "line": {
              "color": "#E5ECF6",
              "width": 0.5
             },
             "pattern": {
              "fillmode": "overlay",
              "size": 10,
              "solidity": 0.2
             }
            },
            "type": "bar"
           }
          ],
          "barpolar": [
           {
            "marker": {
             "line": {
              "color": "#E5ECF6",
              "width": 0.5
             },
             "pattern": {
              "fillmode": "overlay",
              "size": 10,
              "solidity": 0.2
             }
            },
            "type": "barpolar"
           }
          ],
          "carpet": [
           {
            "aaxis": {
             "endlinecolor": "#2a3f5f",
             "gridcolor": "white",
             "linecolor": "white",
             "minorgridcolor": "white",
             "startlinecolor": "#2a3f5f"
            },
            "baxis": {
             "endlinecolor": "#2a3f5f",
             "gridcolor": "white",
             "linecolor": "white",
             "minorgridcolor": "white",
             "startlinecolor": "#2a3f5f"
            },
            "type": "carpet"
           }
          ],
          "choropleth": [
           {
            "colorbar": {
             "outlinewidth": 0,
             "ticks": ""
            },
            "type": "choropleth"
           }
          ],
          "contour": [
           {
            "colorbar": {
             "outlinewidth": 0,
             "ticks": ""
            },
            "colorscale": [
             [
              0,
              "#0d0887"
             ],
             [
              0.1111111111111111,
              "#46039f"
             ],
             [
              0.2222222222222222,
              "#7201a8"
             ],
             [
              0.3333333333333333,
              "#9c179e"
             ],
             [
              0.4444444444444444,
              "#bd3786"
             ],
             [
              0.5555555555555556,
              "#d8576b"
             ],
             [
              0.6666666666666666,
              "#ed7953"
             ],
             [
              0.7777777777777778,
              "#fb9f3a"
             ],
             [
              0.8888888888888888,
              "#fdca26"
             ],
             [
              1,
              "#f0f921"
             ]
            ],
            "type": "contour"
           }
          ],
          "contourcarpet": [
           {
            "colorbar": {
             "outlinewidth": 0,
             "ticks": ""
            },
            "type": "contourcarpet"
           }
          ],
          "heatmap": [
           {
            "colorbar": {
             "outlinewidth": 0,
             "ticks": ""
            },
            "colorscale": [
             [
              0,
              "#0d0887"
             ],
             [
              0.1111111111111111,
              "#46039f"
             ],
             [
              0.2222222222222222,
              "#7201a8"
             ],
             [
              0.3333333333333333,
              "#9c179e"
             ],
             [
              0.4444444444444444,
              "#bd3786"
             ],
             [
              0.5555555555555556,
              "#d8576b"
             ],
             [
              0.6666666666666666,
              "#ed7953"
             ],
             [
              0.7777777777777778,
              "#fb9f3a"
             ],
             [
              0.8888888888888888,
              "#fdca26"
             ],
             [
              1,
              "#f0f921"
             ]
            ],
            "type": "heatmap"
           }
          ],
          "heatmapgl": [
           {
            "colorbar": {
             "outlinewidth": 0,
             "ticks": ""
            },
            "colorscale": [
             [
              0,
              "#0d0887"
             ],
             [
              0.1111111111111111,
              "#46039f"
             ],
             [
              0.2222222222222222,
              "#7201a8"
             ],
             [
              0.3333333333333333,
              "#9c179e"
             ],
             [
              0.4444444444444444,
              "#bd3786"
             ],
             [
              0.5555555555555556,
              "#d8576b"
             ],
             [
              0.6666666666666666,
              "#ed7953"
             ],
             [
              0.7777777777777778,
              "#fb9f3a"
             ],
             [
              0.8888888888888888,
              "#fdca26"
             ],
             [
              1,
              "#f0f921"
             ]
            ],
            "type": "heatmapgl"
           }
          ],
          "histogram": [
           {
            "marker": {
             "pattern": {
              "fillmode": "overlay",
              "size": 10,
              "solidity": 0.2
             }
            },
            "type": "histogram"
           }
          ],
          "histogram2d": [
           {
            "colorbar": {
             "outlinewidth": 0,
             "ticks": ""
            },
            "colorscale": [
             [
              0,
              "#0d0887"
             ],
             [
              0.1111111111111111,
              "#46039f"
             ],
             [
              0.2222222222222222,
              "#7201a8"
             ],
             [
              0.3333333333333333,
              "#9c179e"
             ],
             [
              0.4444444444444444,
              "#bd3786"
             ],
             [
              0.5555555555555556,
              "#d8576b"
             ],
             [
              0.6666666666666666,
              "#ed7953"
             ],
             [
              0.7777777777777778,
              "#fb9f3a"
             ],
             [
              0.8888888888888888,
              "#fdca26"
             ],
             [
              1,
              "#f0f921"
             ]
            ],
            "type": "histogram2d"
           }
          ],
          "histogram2dcontour": [
           {
            "colorbar": {
             "outlinewidth": 0,
             "ticks": ""
            },
            "colorscale": [
             [
              0,
              "#0d0887"
             ],
             [
              0.1111111111111111,
              "#46039f"
             ],
             [
              0.2222222222222222,
              "#7201a8"
             ],
             [
              0.3333333333333333,
              "#9c179e"
             ],
             [
              0.4444444444444444,
              "#bd3786"
             ],
             [
              0.5555555555555556,
              "#d8576b"
             ],
             [
              0.6666666666666666,
              "#ed7953"
             ],
             [
              0.7777777777777778,
              "#fb9f3a"
             ],
             [
              0.8888888888888888,
              "#fdca26"
             ],
             [
              1,
              "#f0f921"
             ]
            ],
            "type": "histogram2dcontour"
           }
          ],
          "mesh3d": [
           {
            "colorbar": {
             "outlinewidth": 0,
             "ticks": ""
            },
            "type": "mesh3d"
           }
          ],
          "parcoords": [
           {
            "line": {
             "colorbar": {
              "outlinewidth": 0,
              "ticks": ""
             }
            },
            "type": "parcoords"
           }
          ],
          "pie": [
           {
            "automargin": true,
            "type": "pie"
           }
          ],
          "scatter": [
           {
            "fillpattern": {
             "fillmode": "overlay",
             "size": 10,
             "solidity": 0.2
            },
            "type": "scatter"
           }
          ],
          "scatter3d": [
           {
            "line": {
             "colorbar": {
              "outlinewidth": 0,
              "ticks": ""
             }
            },
            "marker": {
             "colorbar": {
              "outlinewidth": 0,
              "ticks": ""
             }
            },
            "type": "scatter3d"
           }
          ],
          "scattercarpet": [
           {
            "marker": {
             "colorbar": {
              "outlinewidth": 0,
              "ticks": ""
             }
            },
            "type": "scattercarpet"
           }
          ],
          "scattergeo": [
           {
            "marker": {
             "colorbar": {
              "outlinewidth": 0,
              "ticks": ""
             }
            },
            "type": "scattergeo"
           }
          ],
          "scattergl": [
           {
            "marker": {
             "colorbar": {
              "outlinewidth": 0,
              "ticks": ""
             }
            },
            "type": "scattergl"
           }
          ],
          "scattermapbox": [
           {
            "marker": {
             "colorbar": {
              "outlinewidth": 0,
              "ticks": ""
             }
            },
            "type": "scattermapbox"
           }
          ],
          "scatterpolar": [
           {
            "marker": {
             "colorbar": {
              "outlinewidth": 0,
              "ticks": ""
             }
            },
            "type": "scatterpolar"
           }
          ],
          "scatterpolargl": [
           {
            "marker": {
             "colorbar": {
              "outlinewidth": 0,
              "ticks": ""
             }
            },
            "type": "scatterpolargl"
           }
          ],
          "scatterternary": [
           {
            "marker": {
             "colorbar": {
              "outlinewidth": 0,
              "ticks": ""
             }
            },
            "type": "scatterternary"
           }
          ],
          "surface": [
           {
            "colorbar": {
             "outlinewidth": 0,
             "ticks": ""
            },
            "colorscale": [
             [
              0,
              "#0d0887"
             ],
             [
              0.1111111111111111,
              "#46039f"
             ],
             [
              0.2222222222222222,
              "#7201a8"
             ],
             [
              0.3333333333333333,
              "#9c179e"
             ],
             [
              0.4444444444444444,
              "#bd3786"
             ],
             [
              0.5555555555555556,
              "#d8576b"
             ],
             [
              0.6666666666666666,
              "#ed7953"
             ],
             [
              0.7777777777777778,
              "#fb9f3a"
             ],
             [
              0.8888888888888888,
              "#fdca26"
             ],
             [
              1,
              "#f0f921"
             ]
            ],
            "type": "surface"
           }
          ],
          "table": [
           {
            "cells": {
             "fill": {
              "color": "#EBF0F8"
             },
             "line": {
              "color": "white"
             }
            },
            "header": {
             "fill": {
              "color": "#C8D4E3"
             },
             "line": {
              "color": "white"
             }
            },
            "type": "table"
           }
          ]
         },
         "layout": {
          "annotationdefaults": {
           "arrowcolor": "#2a3f5f",
           "arrowhead": 0,
           "arrowwidth": 1
          },
          "autotypenumbers": "strict",
          "coloraxis": {
           "colorbar": {
            "outlinewidth": 0,
            "ticks": ""
           }
          },
          "colorscale": {
           "diverging": [
            [
             0,
             "#8e0152"
            ],
            [
             0.1,
             "#c51b7d"
            ],
            [
             0.2,
             "#de77ae"
            ],
            [
             0.3,
             "#f1b6da"
            ],
            [
             0.4,
             "#fde0ef"
            ],
            [
             0.5,
             "#f7f7f7"
            ],
            [
             0.6,
             "#e6f5d0"
            ],
            [
             0.7,
             "#b8e186"
            ],
            [
             0.8,
             "#7fbc41"
            ],
            [
             0.9,
             "#4d9221"
            ],
            [
             1,
             "#276419"
            ]
           ],
           "sequential": [
            [
             0,
             "#0d0887"
            ],
            [
             0.1111111111111111,
             "#46039f"
            ],
            [
             0.2222222222222222,
             "#7201a8"
            ],
            [
             0.3333333333333333,
             "#9c179e"
            ],
            [
             0.4444444444444444,
             "#bd3786"
            ],
            [
             0.5555555555555556,
             "#d8576b"
            ],
            [
             0.6666666666666666,
             "#ed7953"
            ],
            [
             0.7777777777777778,
             "#fb9f3a"
            ],
            [
             0.8888888888888888,
             "#fdca26"
            ],
            [
             1,
             "#f0f921"
            ]
           ],
           "sequentialminus": [
            [
             0,
             "#0d0887"
            ],
            [
             0.1111111111111111,
             "#46039f"
            ],
            [
             0.2222222222222222,
             "#7201a8"
            ],
            [
             0.3333333333333333,
             "#9c179e"
            ],
            [
             0.4444444444444444,
             "#bd3786"
            ],
            [
             0.5555555555555556,
             "#d8576b"
            ],
            [
             0.6666666666666666,
             "#ed7953"
            ],
            [
             0.7777777777777778,
             "#fb9f3a"
            ],
            [
             0.8888888888888888,
             "#fdca26"
            ],
            [
             1,
             "#f0f921"
            ]
           ]
          },
          "colorway": [
           "#636efa",
           "#EF553B",
           "#00cc96",
           "#ab63fa",
           "#FFA15A",
           "#19d3f3",
           "#FF6692",
           "#B6E880",
           "#FF97FF",
           "#FECB52"
          ],
          "font": {
           "color": "#2a3f5f"
          },
          "geo": {
           "bgcolor": "white",
           "lakecolor": "white",
           "landcolor": "#E5ECF6",
           "showlakes": true,
           "showland": true,
           "subunitcolor": "white"
          },
          "hoverlabel": {
           "align": "left"
          },
          "hovermode": "closest",
          "mapbox": {
           "style": "light"
          },
          "paper_bgcolor": "white",
          "plot_bgcolor": "#E5ECF6",
          "polar": {
           "angularaxis": {
            "gridcolor": "white",
            "linecolor": "white",
            "ticks": ""
           },
           "bgcolor": "#E5ECF6",
           "radialaxis": {
            "gridcolor": "white",
            "linecolor": "white",
            "ticks": ""
           }
          },
          "scene": {
           "xaxis": {
            "backgroundcolor": "#E5ECF6",
            "gridcolor": "white",
            "gridwidth": 2,
            "linecolor": "white",
            "showbackground": true,
            "ticks": "",
            "zerolinecolor": "white"
           },
           "yaxis": {
            "backgroundcolor": "#E5ECF6",
            "gridcolor": "white",
            "gridwidth": 2,
            "linecolor": "white",
            "showbackground": true,
            "ticks": "",
            "zerolinecolor": "white"
           },
           "zaxis": {
            "backgroundcolor": "#E5ECF6",
            "gridcolor": "white",
            "gridwidth": 2,
            "linecolor": "white",
            "showbackground": true,
            "ticks": "",
            "zerolinecolor": "white"
           }
          },
          "shapedefaults": {
           "line": {
            "color": "#2a3f5f"
           }
          },
          "ternary": {
           "aaxis": {
            "gridcolor": "white",
            "linecolor": "white",
            "ticks": ""
           },
           "baxis": {
            "gridcolor": "white",
            "linecolor": "white",
            "ticks": ""
           },
           "bgcolor": "#E5ECF6",
           "caxis": {
            "gridcolor": "white",
            "linecolor": "white",
            "ticks": ""
           }
          },
          "title": {
           "x": 0.05
          },
          "xaxis": {
           "automargin": true,
           "gridcolor": "white",
           "linecolor": "white",
           "ticks": "",
           "title": {
            "standoff": 15
           },
           "zerolinecolor": "white",
           "zerolinewidth": 2
          },
          "yaxis": {
           "automargin": true,
           "gridcolor": "white",
           "linecolor": "white",
           "ticks": "",
           "title": {
            "standoff": 15
           },
           "zerolinecolor": "white",
           "zerolinewidth": 2
          }
         }
        },
        "title": {
         "text": "Monthly Distribution of Performances in Different Cities (2023-01-01 --- 2024-09-01)"
        },
        "xaxis": {
         "title": {
          "text": "Month"
         }
        },
        "yaxis": {
         "title": {
          "text": "Total Shows"
         }
        },
        "yaxis2": {
         "overlaying": "y",
         "range": [
          -500,
          800
         ],
         "side": "right",
         "title": {
          "text": "Monthly Ratio"
         }
        }
       }
      }
     },
     "metadata": {},
     "output_type": "display_data"
    }
   ],
   "source": [
    "monthly_shows = use_sql_query(cur=cur,sql_query=get_monthly_number_of_shows_by_city)\n",
    "monthly_shows[\"datetime\"] = pd.to_datetime(monthly_shows[\"year\"].astype(str) + \"-\" + monthly_shows[\"month\"].astype(str), format='%Y-%m')\n",
    "monthly_shows = monthly_shows[(monthly_shows[\"datetime\"] < \"2024-09-01\")]\n",
    "\n",
    "\n",
    "shanghai = monthly_shows[monthly_shows[\"city\"] == \"上海\"]\n",
    "shanghai_2023 = shanghai.sort_values(by=['datetime'])\n",
    "shanghai[\"monthly_ratio\"] = (shanghai[\"total_shows\"] - shanghai[\"total_shows\"].shift(1))*100 / shanghai[\"total_shows\"].shift(1)\n",
    "\n",
    "\n",
    "\n",
    "beijing = monthly_shows[monthly_shows[\"city\"] == \"深圳\"]\n",
    "beijing_2023 = beijing.sort_values(by=['datetime'])\n",
    "beijing[\"monthly_ratio\"] =( beijing[\"total_shows\"] - beijing[\"total_shows\"].shift(1))*100 / beijing[\"total_shows\"].shift(1)\n",
    "\n",
    "\n",
    "fig3 = go.Figure()\n",
    "fig3.add_trace(go.Bar(\n",
    "    x=shanghai[\"datetime\"],\n",
    "    y=shanghai[\"total_shows\"],\n",
    "    name=\"Shanghai\",\n",
    "    yaxis=\"y\"\n",
    "))\n",
    "fig3.add_trace(go.Bar(\n",
    "    x=beijing[\"datetime\"],\n",
    "    y=beijing[\"total_shows\"],\n",
    "    name=\"Shenzhen\",\n",
    "    yaxis=\"y\"\n",
    "))\n",
    "\n",
    "\n",
    "fig3.add_trace(go.Scatter(\n",
    "    x=shanghai[\"datetime\"],\n",
    "    y=shanghai[\"monthly_ratio\"],\n",
    "    mode='lines+markers',\n",
    "    name=\"Shanghai Ratio\",\n",
    "    yaxis=\"y2\"\n",
    "))\n",
    "fig3.add_trace(go.Scatter(\n",
    "    x=beijing[\"datetime\"],\n",
    "    y=beijing[\"monthly_ratio\"],\n",
    "    mode='lines+markers',\n",
    "    name=\"Shenzhen Ratio\",\n",
    "    yaxis=\"y2\"\n",
    "))\n",
    "\n",
    "\n",
    "fig3.update_layout(\n",
    "    title=\"Monthly Distribution of Performances in Different Cities (2023-01-01 --- 2024-09-01)\",\n",
    "    xaxis_title=\"Month\",\n",
    "    yaxis_title=\"Total Shows\",\n",
    "    yaxis2=dict(title=\"Monthly Ratio\", overlaying=\"y\", side=\"right\",range=[-500,800]),\n",
    "    legend_title=\"City\",\n",
    "    barmode=\"group\"\n",
    ")\n",
    "\n",
    "fig3.show()"
   ]
  },
  {
   "cell_type": "code",
   "execution_count": 107,
   "metadata": {},
   "outputs": [],
   "source": [
    "\n",
    "cur.close()\n",
    "conn.close()"
   ]
  },
  {
   "cell_type": "code",
   "execution_count": null,
   "metadata": {},
   "outputs": [],
   "source": []
  }
 ],
 "metadata": {
  "kernelspec": {
   "display_name": "is5126",
   "language": "python",
   "name": "python3"
  },
  "language_info": {
   "codemirror_mode": {
    "name": "ipython",
    "version": 3
   },
   "file_extension": ".py",
   "mimetype": "text/x-python",
   "name": "python",
   "nbconvert_exporter": "python",
   "pygments_lexer": "ipython3",
   "version": "3.12.5"
  }
 },
 "nbformat": 4,
 "nbformat_minor": 2
}
