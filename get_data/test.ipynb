{
 "cells": [
  {
   "cell_type": "code",
   "execution_count": 41,
   "metadata": {},
   "outputs": [],
   "source": [
    "import pandas as pd\n",
    "from INFO import fieids_url,columns_needed\n"
   ]
  },
  {
   "cell_type": "code",
   "execution_count": null,
   "metadata": {},
   "outputs": [],
   "source": [
    "data_dict = {}\n",
    "for key in fieids_url.keys():\n",
    "    data_dict[key] = pd.read_csv(f\"../data/{key}\", index_col=0)"
   ]
  },
  {
   "cell_type": "code",
   "execution_count": 42,
   "metadata": {},
   "outputs": [],
   "source": [
    "import psycopg2\n"
   ]
  },
  {
   "cell_type": "code",
   "execution_count": 44,
   "metadata": {},
   "outputs": [],
   "source": [
    "shows = pd.read_csv(\"../data/shows\",index_col=0)"
   ]
  },
  {
   "cell_type": "code",
   "execution_count": 45,
   "metadata": {},
   "outputs": [],
   "source": [
    "try:\n",
    "    conn = psycopg2.connect(\n",
    "        host =\"localhost\",\n",
    "    dbname =\"postgres\",\n",
    "    user = \"postgres\",\n",
    "    password =\"is5126\",\n",
    "    port=5433)\n",
    "    cur = conn.cursor()\n",
    "except psycopg2.Error as e:\n",
    "    print(f\"An error occurred: {e}\")\n",
    "    conn.rollback()  # Rollback in case of error"
   ]
  },
  {
   "cell_type": "code",
   "execution_count": 49,
   "metadata": {},
   "outputs": [],
   "source": [
    "shows['date'] = pd.to_datetime(shows['date']).dt.strftime('%Y-%m-%d %H:%M:%S')"
   ]
  },
  {
   "cell_type": "code",
   "execution_count": 53,
   "metadata": {},
   "outputs": [
    {
     "name": "stdout",
     "output_type": "stream",
     "text": [
      "Data inserted successfully\n"
     ]
    }
   ],
   "source": [
    "num_columns = len(shows.columns)\n",
    "placeholders = ', '.join(['%s'] * num_columns)\n",
    "    # Define the SQL insert query with placeholders for the data\n",
    "insert_query = f\"INSERT INTO shows (date, city, musical, casts, theatre) VALUES ({placeholders})\"\n",
    "\n",
    "\n",
    "    # Iterate over DataFrame rows as namedtuples (use index=False to avoid including the index)\n",
    "for row in shows.itertuples(index=False, name=None):\n",
    "    try:\n",
    "        cur.execute(insert_query, row)\n",
    "    except psycopg2.Error as e:\n",
    "        print(f\"An error occurred: {e}\")\n",
    "        conn.rollback()  # Rollback in case of error\n",
    "# Commit the transaction\n",
    "conn.commit()\n",
    "print(\"Data inserted successfully\")\n"
   ]
  },
  {
   "cell_type": "code",
   "execution_count": null,
   "metadata": {},
   "outputs": [],
   "source": [
    "cur.execute(f\"\"\"\n",
    "    SELECT * FROM artists\n",
    "\"\"\")\n",
    "results = cur.fetchall()\n"
   ]
  },
  {
   "cell_type": "code",
   "execution_count": null,
   "metadata": {},
   "outputs": [],
   "source": [
    "cur.description"
   ]
  },
  {
   "cell_type": "code",
   "execution_count": null,
   "metadata": {},
   "outputs": [],
   "source": [
    "columns_name = [desc[0] for desc in cur.description]\n"
   ]
  },
  {
   "cell_type": "code",
   "execution_count": null,
   "metadata": {},
   "outputs": [],
   "source": [
    "from data_tools import get_table_data"
   ]
  },
  {
   "cell_type": "code",
   "execution_count": null,
   "metadata": {},
   "outputs": [],
   "source": [
    "df_list = "
   ]
  },
  {
   "cell_type": "code",
   "execution_count": null,
   "metadata": {},
   "outputs": [],
   "source": [
    "# Close the cursor and connection\n",
    "cur.close()\n",
    "conn.close()"
   ]
  },
  {
   "cell_type": "code",
   "execution_count": 9,
   "metadata": {},
   "outputs": [],
   "source": [
    "import pandas as pd\n",
    "import requests\n",
    "from INFO import fieids_url\n",
    "import tqdm\n"
   ]
  },
  {
   "cell_type": "code",
   "execution_count": 6,
   "metadata": {},
   "outputs": [],
   "source": [
    "from get_api_data import get_shows_by_date_range"
   ]
  },
  {
   "cell_type": "code",
   "execution_count": 10,
   "metadata": {},
   "outputs": [],
   "source": [
    "responses = []\n",
    "date_range = pd.date_range(\"2024-01-01\", \"2024-09-01\")\n"
   ]
  },
  {
   "cell_type": "code",
   "execution_count": 12,
   "metadata": {},
   "outputs": [
    {
     "name": "stderr",
     "output_type": "stream",
     "text": [
      "获取演出数据:   1%|          | 2/245 [00:00<01:00,  3.99天/s]       "
     ]
    },
    {
     "name": "stdout",
     "output_type": "stream",
     "text": [
      "获取演出数据 2024-01-01 成功\n",
      "获取演出数据 2024-01-02 成功\n"
     ]
    },
    {
     "name": "stderr",
     "output_type": "stream",
     "text": [
      "获取演出数据:   2%|▏         | 4/245 [00:00<00:49,  4.86天/s]       "
     ]
    },
    {
     "name": "stdout",
     "output_type": "stream",
     "text": [
      "获取演出数据 2024-01-03 成功\n",
      "获取演出数据 2024-01-04 成功\n"
     ]
    },
    {
     "name": "stderr",
     "output_type": "stream",
     "text": [
      "获取演出数据:   2%|▏         | 5/245 [00:01<00:51,  4.65天/s]       "
     ]
    },
    {
     "name": "stdout",
     "output_type": "stream",
     "text": [
      "获取演出数据 2024-01-05 成功\n"
     ]
    },
    {
     "name": "stderr",
     "output_type": "stream",
     "text": [
      "获取演出数据:   2%|▏         | 6/245 [00:01<01:10,  3.38天/s]       "
     ]
    },
    {
     "name": "stdout",
     "output_type": "stream",
     "text": [
      "获取演出数据 2024-01-06 成功\n"
     ]
    },
    {
     "name": "stderr",
     "output_type": "stream",
     "text": [
      "获取演出数据:   3%|▎         | 8/245 [00:02<00:59,  3.96天/s]       "
     ]
    },
    {
     "name": "stdout",
     "output_type": "stream",
     "text": [
      "获取演出数据 2024-01-07 成功\n",
      "获取演出数据 2024-01-08 成功\n"
     ]
    },
    {
     "name": "stderr",
     "output_type": "stream",
     "text": [
      "获取演出数据:   4%|▎         | 9/245 [00:02<00:52,  4.52天/s]       "
     ]
    },
    {
     "name": "stdout",
     "output_type": "stream",
     "text": [
      "获取演出数据 2024-01-09 成功\n"
     ]
    },
    {
     "name": "stderr",
     "output_type": "stream",
     "text": [
      "获取演出数据:   4%|▍         | 11/245 [00:02<00:49,  4.77天/s]       "
     ]
    },
    {
     "name": "stdout",
     "output_type": "stream",
     "text": [
      "获取演出数据 2024-01-10 成功\n",
      "获取演出数据 2024-01-11 成功\n"
     ]
    },
    {
     "name": "stderr",
     "output_type": "stream",
     "text": [
      "获取演出数据:   5%|▍         | 12/245 [00:02<00:51,  4.50天/s]       "
     ]
    },
    {
     "name": "stdout",
     "output_type": "stream",
     "text": [
      "获取演出数据 2024-01-12 成功\n"
     ]
    },
    {
     "name": "stderr",
     "output_type": "stream",
     "text": [
      "获取演出数据:   5%|▌         | 13/245 [00:03<01:01,  3.80天/s]       "
     ]
    },
    {
     "name": "stdout",
     "output_type": "stream",
     "text": [
      "获取演出数据 2024-01-13 成功\n"
     ]
    },
    {
     "name": "stderr",
     "output_type": "stream",
     "text": [
      "获取演出数据:   6%|▌         | 15/245 [00:03<00:56,  4.04天/s]       "
     ]
    },
    {
     "name": "stdout",
     "output_type": "stream",
     "text": [
      "获取演出数据 2024-01-14 成功\n",
      "获取演出数据 2024-01-15 成功\n"
     ]
    },
    {
     "name": "stderr",
     "output_type": "stream",
     "text": [
      "获取演出数据:   7%|▋         | 17/245 [00:04<00:48,  4.73天/s]       "
     ]
    },
    {
     "name": "stdout",
     "output_type": "stream",
     "text": [
      "获取演出数据 2024-01-16 成功\n",
      "获取演出数据 2024-01-17 成功\n"
     ]
    },
    {
     "name": "stderr",
     "output_type": "stream",
     "text": [
      "获取演出数据:   7%|▋         | 18/245 [00:04<00:46,  4.92天/s]       "
     ]
    },
    {
     "name": "stdout",
     "output_type": "stream",
     "text": [
      "获取演出数据 2024-01-18 成功\n"
     ]
    },
    {
     "name": "stderr",
     "output_type": "stream",
     "text": [
      "获取演出数据:   8%|▊         | 19/245 [00:04<00:55,  4.07天/s]       "
     ]
    },
    {
     "name": "stdout",
     "output_type": "stream",
     "text": [
      "获取演出数据 2024-01-19 成功\n"
     ]
    },
    {
     "name": "stderr",
     "output_type": "stream",
     "text": [
      "获取演出数据:   8%|▊         | 20/245 [00:05<01:08,  3.30天/s]       "
     ]
    },
    {
     "name": "stdout",
     "output_type": "stream",
     "text": [
      "获取演出数据 2024-01-20 成功\n"
     ]
    },
    {
     "name": "stderr",
     "output_type": "stream",
     "text": [
      "获取演出数据:   9%|▉         | 22/245 [00:05<01:01,  3.63天/s]       "
     ]
    },
    {
     "name": "stdout",
     "output_type": "stream",
     "text": [
      "获取演出数据 2024-01-21 成功\n",
      "获取演出数据 2024-01-22 成功\n"
     ]
    },
    {
     "name": "stderr",
     "output_type": "stream",
     "text": [
      "获取演出数据:  10%|▉         | 24/245 [00:05<00:49,  4.42天/s]       "
     ]
    },
    {
     "name": "stdout",
     "output_type": "stream",
     "text": [
      "获取演出数据 2024-01-23 成功\n",
      "获取演出数据 2024-01-24 成功\n"
     ]
    },
    {
     "name": "stderr",
     "output_type": "stream",
     "text": [
      "获取演出数据:  10%|█         | 25/245 [00:06<00:48,  4.55天/s]       "
     ]
    },
    {
     "name": "stdout",
     "output_type": "stream",
     "text": [
      "获取演出数据 2024-01-25 成功\n"
     ]
    },
    {
     "name": "stderr",
     "output_type": "stream",
     "text": [
      "获取演出数据:  11%|█         | 26/245 [00:06<00:54,  4.00天/s]       "
     ]
    },
    {
     "name": "stdout",
     "output_type": "stream",
     "text": [
      "获取演出数据 2024-01-26 成功\n"
     ]
    },
    {
     "name": "stderr",
     "output_type": "stream",
     "text": [
      "获取演出数据:  11%|█         | 27/245 [00:07<01:32,  2.35天/s]       "
     ]
    },
    {
     "name": "stdout",
     "output_type": "stream",
     "text": [
      "获取演出数据 2024-01-27 成功\n"
     ]
    },
    {
     "name": "stderr",
     "output_type": "stream",
     "text": [
      "获取演出数据:  12%|█▏        | 29/245 [00:07<01:08,  3.17天/s]       "
     ]
    },
    {
     "name": "stdout",
     "output_type": "stream",
     "text": [
      "获取演出数据 2024-01-28 成功\n",
      "获取演出数据 2024-01-29 成功\n"
     ]
    },
    {
     "name": "stderr",
     "output_type": "stream",
     "text": [
      "获取演出数据:  12%|█▏        | 30/245 [00:08<01:05,  3.26天/s]       "
     ]
    },
    {
     "name": "stdout",
     "output_type": "stream",
     "text": [
      "获取演出数据 2024-01-30 成功\n"
     ]
    },
    {
     "name": "stderr",
     "output_type": "stream",
     "text": [
      "获取演出数据:  13%|█▎        | 32/245 [00:08<00:52,  4.03天/s]       "
     ]
    },
    {
     "name": "stdout",
     "output_type": "stream",
     "text": [
      "获取演出数据 2024-01-31 成功\n",
      "获取演出数据 2024-02-01 成功\n"
     ]
    },
    {
     "name": "stderr",
     "output_type": "stream",
     "text": [
      "获取演出数据:  13%|█▎        | 33/245 [00:08<00:54,  3.91天/s]       "
     ]
    },
    {
     "name": "stdout",
     "output_type": "stream",
     "text": [
      "获取演出数据 2024-02-02 成功\n"
     ]
    },
    {
     "name": "stderr",
     "output_type": "stream",
     "text": [
      "获取演出数据:  14%|█▍        | 34/245 [00:09<00:55,  3.82天/s]       "
     ]
    },
    {
     "name": "stdout",
     "output_type": "stream",
     "text": [
      "获取演出数据 2024-02-03 成功\n"
     ]
    },
    {
     "name": "stderr",
     "output_type": "stream",
     "text": [
      "获取演出数据:  15%|█▍        | 36/245 [00:09<00:44,  4.68天/s]       "
     ]
    },
    {
     "name": "stdout",
     "output_type": "stream",
     "text": [
      "获取演出数据 2024-02-04 成功\n",
      "获取演出数据 2024-02-05 成功\n"
     ]
    },
    {
     "name": "stderr",
     "output_type": "stream",
     "text": [
      "获取演出数据:  16%|█▌        | 38/245 [00:09<00:36,  5.72天/s]       "
     ]
    },
    {
     "name": "stdout",
     "output_type": "stream",
     "text": [
      "获取演出数据 2024-02-06 成功\n",
      "获取演出数据 2024-02-07 成功\n"
     ]
    },
    {
     "name": "stderr",
     "output_type": "stream",
     "text": [
      "获取演出数据:  16%|█▋        | 40/245 [00:09<00:36,  5.69天/s]       "
     ]
    },
    {
     "name": "stdout",
     "output_type": "stream",
     "text": [
      "获取演出数据 2024-02-08 成功\n",
      "获取演出数据 2024-02-09 成功\n"
     ]
    },
    {
     "name": "stderr",
     "output_type": "stream",
     "text": [
      "获取演出数据:  17%|█▋        | 42/245 [00:10<00:34,  5.95天/s]       "
     ]
    },
    {
     "name": "stdout",
     "output_type": "stream",
     "text": [
      "获取演出数据 2024-02-10 成功\n",
      "获取演出数据 2024-02-11 成功\n"
     ]
    },
    {
     "name": "stderr",
     "output_type": "stream",
     "text": [
      "获取演出数据:  18%|█▊        | 43/245 [00:10<00:32,  6.27天/s]       "
     ]
    },
    {
     "name": "stdout",
     "output_type": "stream",
     "text": [
      "获取演出数据 2024-02-12 成功\n"
     ]
    },
    {
     "name": "stderr",
     "output_type": "stream",
     "text": [
      "获取演出数据:  18%|█▊        | 44/245 [00:10<00:36,  5.48天/s]       "
     ]
    },
    {
     "name": "stdout",
     "output_type": "stream",
     "text": [
      "获取演出数据 2024-02-13 成功\n"
     ]
    },
    {
     "name": "stderr",
     "output_type": "stream",
     "text": [
      "获取演出数据:  18%|█▊        | 45/245 [00:10<00:39,  5.11天/s]       "
     ]
    },
    {
     "name": "stdout",
     "output_type": "stream",
     "text": [
      "获取演出数据 2024-02-14 成功\n"
     ]
    },
    {
     "name": "stderr",
     "output_type": "stream",
     "text": [
      "获取演出数据:  19%|█▉        | 46/245 [00:11<00:45,  4.41天/s]       "
     ]
    },
    {
     "name": "stdout",
     "output_type": "stream",
     "text": [
      "获取演出数据 2024-02-15 成功\n"
     ]
    },
    {
     "name": "stderr",
     "output_type": "stream",
     "text": [
      "获取演出数据:  19%|█▉        | 47/245 [00:11<00:51,  3.88天/s]       "
     ]
    },
    {
     "name": "stdout",
     "output_type": "stream",
     "text": [
      "获取演出数据 2024-02-16 成功\n"
     ]
    },
    {
     "name": "stderr",
     "output_type": "stream",
     "text": [
      "获取演出数据:  20%|█▉        | 48/245 [00:11<00:53,  3.69天/s]       "
     ]
    },
    {
     "name": "stdout",
     "output_type": "stream",
     "text": [
      "获取演出数据 2024-02-17 成功\n"
     ]
    },
    {
     "name": "stderr",
     "output_type": "stream",
     "text": [
      "获取演出数据:  20%|██        | 50/245 [00:12<00:50,  3.86天/s]       "
     ]
    },
    {
     "name": "stdout",
     "output_type": "stream",
     "text": [
      "获取演出数据 2024-02-18 成功\n",
      "获取演出数据 2024-02-19 成功\n"
     ]
    },
    {
     "name": "stderr",
     "output_type": "stream",
     "text": [
      "获取演出数据:  21%|██        | 51/245 [00:12<00:44,  4.39天/s]       "
     ]
    },
    {
     "name": "stdout",
     "output_type": "stream",
     "text": [
      "获取演出数据 2024-02-20 成功\n"
     ]
    },
    {
     "name": "stderr",
     "output_type": "stream",
     "text": [
      "获取演出数据:  22%|██▏       | 53/245 [00:12<00:40,  4.74天/s]       "
     ]
    },
    {
     "name": "stdout",
     "output_type": "stream",
     "text": [
      "获取演出数据 2024-02-21 成功\n",
      "获取演出数据 2024-02-22 成功\n"
     ]
    },
    {
     "name": "stderr",
     "output_type": "stream",
     "text": [
      "获取演出数据:  22%|██▏       | 54/245 [00:13<00:41,  4.56天/s]       "
     ]
    },
    {
     "name": "stdout",
     "output_type": "stream",
     "text": [
      "获取演出数据 2024-02-23 成功\n"
     ]
    },
    {
     "name": "stderr",
     "output_type": "stream",
     "text": [
      "获取演出数据:  22%|██▏       | 55/245 [00:13<01:08,  2.77天/s]       "
     ]
    },
    {
     "name": "stdout",
     "output_type": "stream",
     "text": [
      "获取演出数据 2024-02-24 成功\n"
     ]
    },
    {
     "name": "stderr",
     "output_type": "stream",
     "text": [
      "获取演出数据:  23%|██▎       | 57/245 [00:14<00:54,  3.44天/s]       "
     ]
    },
    {
     "name": "stdout",
     "output_type": "stream",
     "text": [
      "获取演出数据 2024-02-25 成功\n",
      "获取演出数据 2024-02-26 成功\n"
     ]
    },
    {
     "name": "stderr",
     "output_type": "stream",
     "text": [
      "获取演出数据:  24%|██▍       | 59/245 [00:14<00:41,  4.46天/s]       "
     ]
    },
    {
     "name": "stdout",
     "output_type": "stream",
     "text": [
      "获取演出数据 2024-02-27 成功\n",
      "获取演出数据 2024-02-28 成功\n"
     ]
    },
    {
     "name": "stderr",
     "output_type": "stream",
     "text": [
      "获取演出数据:  24%|██▍       | 60/245 [00:14<00:40,  4.54天/s]       "
     ]
    },
    {
     "name": "stdout",
     "output_type": "stream",
     "text": [
      "获取演出数据 2024-02-29 成功\n"
     ]
    },
    {
     "name": "stderr",
     "output_type": "stream",
     "text": [
      "获取演出数据:  25%|██▍       | 61/245 [00:15<00:42,  4.37天/s]       "
     ]
    },
    {
     "name": "stdout",
     "output_type": "stream",
     "text": [
      "获取演出数据 2024-03-01 成功\n"
     ]
    },
    {
     "name": "stderr",
     "output_type": "stream",
     "text": [
      "获取演出数据:  25%|██▌       | 62/245 [00:15<00:49,  3.66天/s]       "
     ]
    },
    {
     "name": "stdout",
     "output_type": "stream",
     "text": [
      "获取演出数据 2024-03-02 成功\n"
     ]
    },
    {
     "name": "stderr",
     "output_type": "stream",
     "text": [
      "获取演出数据:  26%|██▌       | 64/245 [00:16<00:48,  3.74天/s]       "
     ]
    },
    {
     "name": "stdout",
     "output_type": "stream",
     "text": [
      "获取演出数据 2024-03-03 成功\n",
      "获取演出数据 2024-03-04 成功\n"
     ]
    },
    {
     "name": "stderr",
     "output_type": "stream",
     "text": [
      "获取演出数据:  27%|██▋       | 65/245 [00:16<00:42,  4.27天/s]       "
     ]
    },
    {
     "name": "stdout",
     "output_type": "stream",
     "text": [
      "获取演出数据 2024-03-05 成功\n"
     ]
    },
    {
     "name": "stderr",
     "output_type": "stream",
     "text": [
      "获取演出数据:  27%|██▋       | 66/245 [00:16<00:40,  4.39天/s]       "
     ]
    },
    {
     "name": "stdout",
     "output_type": "stream",
     "text": [
      "获取演出数据 2024-03-06 成功\n"
     ]
    },
    {
     "name": "stderr",
     "output_type": "stream",
     "text": [
      "获取演出数据:  27%|██▋       | 67/245 [00:16<00:41,  4.33天/s]       "
     ]
    },
    {
     "name": "stdout",
     "output_type": "stream",
     "text": [
      "获取演出数据 2024-03-07 成功\n"
     ]
    },
    {
     "name": "stderr",
     "output_type": "stream",
     "text": [
      "获取演出数据:  28%|██▊       | 68/245 [00:17<00:46,  3.84天/s]       "
     ]
    },
    {
     "name": "stdout",
     "output_type": "stream",
     "text": [
      "获取演出数据 2024-03-08 成功\n"
     ]
    },
    {
     "name": "stderr",
     "output_type": "stream",
     "text": [
      "获取演出数据:  28%|██▊       | 69/245 [00:17<00:57,  3.06天/s]       "
     ]
    },
    {
     "name": "stdout",
     "output_type": "stream",
     "text": [
      "获取演出数据 2024-03-09 成功\n"
     ]
    },
    {
     "name": "stderr",
     "output_type": "stream",
     "text": [
      "获取演出数据:  29%|██▉       | 71/245 [00:18<00:49,  3.51天/s]       "
     ]
    },
    {
     "name": "stdout",
     "output_type": "stream",
     "text": [
      "获取演出数据 2024-03-10 成功\n",
      "获取演出数据 2024-03-11 成功\n"
     ]
    },
    {
     "name": "stderr",
     "output_type": "stream",
     "text": [
      "获取演出数据:  30%|██▉       | 73/245 [00:18<00:38,  4.45天/s]       "
     ]
    },
    {
     "name": "stdout",
     "output_type": "stream",
     "text": [
      "获取演出数据 2024-03-12 成功\n",
      "获取演出数据 2024-03-13 成功\n"
     ]
    },
    {
     "name": "stderr",
     "output_type": "stream",
     "text": [
      "获取演出数据:  30%|███       | 74/245 [00:18<00:36,  4.64天/s]       "
     ]
    },
    {
     "name": "stdout",
     "output_type": "stream",
     "text": [
      "获取演出数据 2024-03-14 成功\n"
     ]
    },
    {
     "name": "stderr",
     "output_type": "stream",
     "text": [
      "获取演出数据:  31%|███       | 75/245 [00:19<01:05,  2.58天/s]       "
     ]
    },
    {
     "name": "stdout",
     "output_type": "stream",
     "text": [
      "获取演出数据 2024-03-15 成功\n"
     ]
    },
    {
     "name": "stderr",
     "output_type": "stream",
     "text": [
      "获取演出数据:  31%|███       | 76/245 [00:19<01:04,  2.61天/s]       "
     ]
    },
    {
     "name": "stdout",
     "output_type": "stream",
     "text": [
      "获取演出数据 2024-03-16 成功\n"
     ]
    },
    {
     "name": "stderr",
     "output_type": "stream",
     "text": [
      "获取演出数据:  32%|███▏      | 78/245 [00:20<00:52,  3.17天/s]       "
     ]
    },
    {
     "name": "stdout",
     "output_type": "stream",
     "text": [
      "获取演出数据 2024-03-17 成功\n",
      "获取演出数据 2024-03-18 成功\n"
     ]
    },
    {
     "name": "stderr",
     "output_type": "stream",
     "text": [
      "获取演出数据:  32%|███▏      | 79/245 [00:20<00:50,  3.30天/s]       "
     ]
    },
    {
     "name": "stdout",
     "output_type": "stream",
     "text": [
      "获取演出数据 2024-03-19 成功\n"
     ]
    },
    {
     "name": "stderr",
     "output_type": "stream",
     "text": [
      "获取演出数据:  33%|███▎      | 80/245 [00:20<00:51,  3.19天/s]       "
     ]
    },
    {
     "name": "stdout",
     "output_type": "stream",
     "text": [
      "获取演出数据 2024-03-20 成功\n"
     ]
    },
    {
     "name": "stderr",
     "output_type": "stream",
     "text": [
      "获取演出数据:  33%|███▎      | 81/245 [00:21<00:50,  3.24天/s]       "
     ]
    },
    {
     "name": "stdout",
     "output_type": "stream",
     "text": [
      "获取演出数据 2024-03-21 成功\n"
     ]
    },
    {
     "name": "stderr",
     "output_type": "stream",
     "text": [
      "获取演出数据:  33%|███▎      | 82/245 [00:21<00:50,  3.21天/s]       "
     ]
    },
    {
     "name": "stdout",
     "output_type": "stream",
     "text": [
      "获取演出数据 2024-03-22 成功\n"
     ]
    },
    {
     "name": "stderr",
     "output_type": "stream",
     "text": [
      "获取演出数据:  34%|███▍      | 83/245 [00:22<01:11,  2.27天/s]       "
     ]
    },
    {
     "name": "stdout",
     "output_type": "stream",
     "text": [
      "获取演出数据 2024-03-23 成功\n"
     ]
    },
    {
     "name": "stderr",
     "output_type": "stream",
     "text": [
      "获取演出数据:  35%|███▍      | 85/245 [00:23<01:05,  2.45天/s]       "
     ]
    },
    {
     "name": "stdout",
     "output_type": "stream",
     "text": [
      "获取演出数据 2024-03-24 成功\n",
      "获取演出数据 2024-03-25 成功\n"
     ]
    },
    {
     "name": "stderr",
     "output_type": "stream",
     "text": [
      "获取演出数据:  36%|███▌      | 87/245 [00:23<00:44,  3.52天/s]       "
     ]
    },
    {
     "name": "stdout",
     "output_type": "stream",
     "text": [
      "获取演出数据 2024-03-26 成功\n",
      "获取演出数据 2024-03-27 成功\n"
     ]
    },
    {
     "name": "stderr",
     "output_type": "stream",
     "text": [
      "获取演出数据:  36%|███▌      | 88/245 [00:23<00:40,  3.88天/s]       "
     ]
    },
    {
     "name": "stdout",
     "output_type": "stream",
     "text": [
      "获取演出数据 2024-03-28 成功\n"
     ]
    },
    {
     "name": "stderr",
     "output_type": "stream",
     "text": [
      "获取演出数据:  36%|███▋      | 89/245 [00:23<00:40,  3.89天/s]       "
     ]
    },
    {
     "name": "stdout",
     "output_type": "stream",
     "text": [
      "获取演出数据 2024-03-29 成功\n"
     ]
    },
    {
     "name": "stderr",
     "output_type": "stream",
     "text": [
      "获取演出数据:  37%|███▋      | 90/245 [00:24<00:45,  3.44天/s]       "
     ]
    },
    {
     "name": "stdout",
     "output_type": "stream",
     "text": [
      "获取演出数据 2024-03-30 成功\n"
     ]
    },
    {
     "name": "stderr",
     "output_type": "stream",
     "text": [
      "获取演出数据:  38%|███▊      | 92/245 [00:24<00:38,  3.93天/s]       "
     ]
    },
    {
     "name": "stdout",
     "output_type": "stream",
     "text": [
      "获取演出数据 2024-03-31 成功\n",
      "获取演出数据 2024-04-01 成功\n"
     ]
    },
    {
     "name": "stderr",
     "output_type": "stream",
     "text": [
      "获取演出数据:  38%|███▊      | 93/245 [00:24<00:37,  4.09天/s]       "
     ]
    },
    {
     "name": "stdout",
     "output_type": "stream",
     "text": [
      "获取演出数据 2024-04-02 成功\n"
     ]
    },
    {
     "name": "stderr",
     "output_type": "stream",
     "text": [
      "获取演出数据:  38%|███▊      | 94/245 [00:25<00:35,  4.20天/s]       "
     ]
    },
    {
     "name": "stdout",
     "output_type": "stream",
     "text": [
      "获取演出数据 2024-04-03 成功\n"
     ]
    },
    {
     "name": "stderr",
     "output_type": "stream",
     "text": [
      "获取演出数据:  39%|███▉      | 95/245 [00:25<00:42,  3.54天/s]       "
     ]
    },
    {
     "name": "stdout",
     "output_type": "stream",
     "text": [
      "获取演出数据 2024-04-04 成功\n"
     ]
    },
    {
     "name": "stderr",
     "output_type": "stream",
     "text": [
      "获取演出数据:  39%|███▉      | 96/245 [00:25<00:45,  3.31天/s]       "
     ]
    },
    {
     "name": "stdout",
     "output_type": "stream",
     "text": [
      "获取演出数据 2024-04-05 成功\n"
     ]
    },
    {
     "name": "stderr",
     "output_type": "stream",
     "text": [
      "获取演出数据:  40%|████      | 98/245 [00:26<00:39,  3.76天/s]       "
     ]
    },
    {
     "name": "stdout",
     "output_type": "stream",
     "text": [
      "获取演出数据 2024-04-06 成功\n",
      "获取演出数据 2024-04-07 成功\n"
     ]
    },
    {
     "name": "stderr",
     "output_type": "stream",
     "text": [
      "获取演出数据:  41%|████      | 100/245 [00:26<00:30,  4.79天/s]      "
     ]
    },
    {
     "name": "stdout",
     "output_type": "stream",
     "text": [
      "获取演出数据 2024-04-08 成功\n",
      "获取演出数据 2024-04-09 成功\n"
     ]
    },
    {
     "name": "stderr",
     "output_type": "stream",
     "text": [
      "获取演出数据:  41%|████      | 101/245 [00:26<00:28,  5.08天/s]       "
     ]
    },
    {
     "name": "stdout",
     "output_type": "stream",
     "text": [
      "获取演出数据 2024-04-10 成功\n"
     ]
    },
    {
     "name": "stderr",
     "output_type": "stream",
     "text": [
      "获取演出数据:  42%|████▏     | 102/245 [00:27<00:29,  4.90天/s]       "
     ]
    },
    {
     "name": "stdout",
     "output_type": "stream",
     "text": [
      "获取演出数据 2024-04-11 成功\n"
     ]
    },
    {
     "name": "stderr",
     "output_type": "stream",
     "text": [
      "获取演出数据:  42%|████▏     | 103/245 [00:27<00:33,  4.19天/s]       "
     ]
    },
    {
     "name": "stdout",
     "output_type": "stream",
     "text": [
      "获取演出数据 2024-04-12 成功\n"
     ]
    },
    {
     "name": "stderr",
     "output_type": "stream",
     "text": [
      "获取演出数据:  42%|████▏     | 104/245 [00:27<00:39,  3.60天/s]       "
     ]
    },
    {
     "name": "stdout",
     "output_type": "stream",
     "text": [
      "获取演出数据 2024-04-13 成功\n"
     ]
    },
    {
     "name": "stderr",
     "output_type": "stream",
     "text": [
      "获取演出数据:  43%|████▎     | 106/245 [00:28<00:37,  3.66天/s]       "
     ]
    },
    {
     "name": "stdout",
     "output_type": "stream",
     "text": [
      "获取演出数据 2024-04-14 成功\n",
      "获取演出数据 2024-04-15 成功\n"
     ]
    },
    {
     "name": "stderr",
     "output_type": "stream",
     "text": [
      "获取演出数据:  44%|████▎     | 107/245 [00:28<00:32,  4.29天/s]       "
     ]
    },
    {
     "name": "stdout",
     "output_type": "stream",
     "text": [
      "获取演出数据 2024-04-16 成功\n",
      "获取演出数据 2024-04-17 成功\n"
     ]
    },
    {
     "name": "stderr",
     "output_type": "stream",
     "text": [
      "获取演出数据:  44%|████▍     | 109/245 [00:28<00:28,  4.72天/s]       "
     ]
    },
    {
     "name": "stdout",
     "output_type": "stream",
     "text": [
      "获取演出数据 2024-04-18 成功\n"
     ]
    },
    {
     "name": "stderr",
     "output_type": "stream",
     "text": [
      "获取演出数据:  45%|████▍     | 110/245 [00:29<00:32,  4.11天/s]       "
     ]
    },
    {
     "name": "stdout",
     "output_type": "stream",
     "text": [
      "获取演出数据 2024-04-19 成功\n"
     ]
    },
    {
     "name": "stderr",
     "output_type": "stream",
     "text": [
      "获取演出数据:  45%|████▌     | 111/245 [00:29<00:45,  2.97天/s]       "
     ]
    },
    {
     "name": "stdout",
     "output_type": "stream",
     "text": [
      "获取演出数据 2024-04-20 成功\n"
     ]
    },
    {
     "name": "stderr",
     "output_type": "stream",
     "text": [
      "获取演出数据:  46%|████▌     | 113/245 [00:30<00:36,  3.61天/s]       "
     ]
    },
    {
     "name": "stdout",
     "output_type": "stream",
     "text": [
      "获取演出数据 2024-04-21 成功\n",
      "获取演出数据 2024-04-22 成功\n"
     ]
    },
    {
     "name": "stderr",
     "output_type": "stream",
     "text": [
      "获取演出数据:  47%|████▋     | 115/245 [00:30<00:28,  4.55天/s]       "
     ]
    },
    {
     "name": "stdout",
     "output_type": "stream",
     "text": [
      "获取演出数据 2024-04-23 成功\n",
      "获取演出数据 2024-04-24 成功\n"
     ]
    },
    {
     "name": "stderr",
     "output_type": "stream",
     "text": [
      "获取演出数据:  47%|████▋     | 116/245 [00:30<00:25,  4.97天/s]       "
     ]
    },
    {
     "name": "stdout",
     "output_type": "stream",
     "text": [
      "获取演出数据 2024-04-25 成功\n"
     ]
    },
    {
     "name": "stderr",
     "output_type": "stream",
     "text": [
      "获取演出数据:  48%|████▊     | 117/245 [00:30<00:27,  4.66天/s]       "
     ]
    },
    {
     "name": "stdout",
     "output_type": "stream",
     "text": [
      "获取演出数据 2024-04-26 成功\n"
     ]
    },
    {
     "name": "stderr",
     "output_type": "stream",
     "text": [
      "获取演出数据:  49%|████▊     | 119/245 [00:31<00:31,  4.02天/s]       "
     ]
    },
    {
     "name": "stdout",
     "output_type": "stream",
     "text": [
      "获取演出数据 2024-04-27 成功\n",
      "获取演出数据 2024-04-28 成功\n"
     ]
    },
    {
     "name": "stderr",
     "output_type": "stream",
     "text": [
      "获取演出数据:  49%|████▉     | 120/245 [00:31<00:27,  4.54天/s]       "
     ]
    },
    {
     "name": "stdout",
     "output_type": "stream",
     "text": [
      "获取演出数据 2024-04-29 成功\n"
     ]
    },
    {
     "name": "stderr",
     "output_type": "stream",
     "text": [
      "获取演出数据:  49%|████▉     | 121/245 [00:31<00:28,  4.42天/s]       "
     ]
    },
    {
     "name": "stdout",
     "output_type": "stream",
     "text": [
      "获取演出数据 2024-04-30 成功\n"
     ]
    },
    {
     "name": "stderr",
     "output_type": "stream",
     "text": [
      "获取演出数据:  50%|████▉     | 122/245 [00:32<00:36,  3.36天/s]       "
     ]
    },
    {
     "name": "stdout",
     "output_type": "stream",
     "text": [
      "获取演出数据 2024-05-01 成功\n"
     ]
    },
    {
     "name": "stderr",
     "output_type": "stream",
     "text": [
      "获取演出数据:  50%|█████     | 123/245 [00:32<00:38,  3.19天/s]       "
     ]
    },
    {
     "name": "stdout",
     "output_type": "stream",
     "text": [
      "获取演出数据 2024-05-02 成功\n"
     ]
    },
    {
     "name": "stderr",
     "output_type": "stream",
     "text": [
      "获取演出数据:  51%|█████     | 124/245 [00:33<00:43,  2.77天/s]       "
     ]
    },
    {
     "name": "stdout",
     "output_type": "stream",
     "text": [
      "获取演出数据 2024-05-03 成功\n"
     ]
    },
    {
     "name": "stderr",
     "output_type": "stream",
     "text": [
      "获取演出数据:  51%|█████     | 125/245 [00:33<00:48,  2.46天/s]       "
     ]
    },
    {
     "name": "stdout",
     "output_type": "stream",
     "text": [
      "获取演出数据 2024-05-04 成功\n"
     ]
    },
    {
     "name": "stderr",
     "output_type": "stream",
     "text": [
      "获取演出数据:  52%|█████▏    | 127/245 [00:34<00:41,  2.86天/s]       "
     ]
    },
    {
     "name": "stdout",
     "output_type": "stream",
     "text": [
      "获取演出数据 2024-05-05 成功\n",
      "获取演出数据 2024-05-06 成功\n"
     ]
    },
    {
     "name": "stderr",
     "output_type": "stream",
     "text": [
      "获取演出数据:  53%|█████▎    | 129/245 [00:34<00:29,  3.90天/s]       "
     ]
    },
    {
     "name": "stdout",
     "output_type": "stream",
     "text": [
      "获取演出数据 2024-05-07 成功\n",
      "获取演出数据 2024-05-08 成功\n"
     ]
    },
    {
     "name": "stderr",
     "output_type": "stream",
     "text": [
      "                                                               \r"
     ]
    },
    {
     "name": "stdout",
     "output_type": "stream",
     "text": [
      "获取演出数据 2024-05-09 成功\n"
     ]
    },
    {
     "name": "stderr",
     "output_type": "stream",
     "text": [
      "获取演出数据:  53%|█████▎    | 131/245 [00:35<00:25,  4.44天/s]"
     ]
    },
    {
     "name": "stdout",
     "output_type": "stream",
     "text": [
      "获取演出数据 2024-05-10 成功\n"
     ]
    },
    {
     "name": "stderr",
     "output_type": "stream",
     "text": [
      "获取演出数据:  54%|█████▍    | 132/245 [00:35<00:25,  4.41天/s]       "
     ]
    },
    {
     "name": "stdout",
     "output_type": "stream",
     "text": [
      "获取演出数据 2024-05-11 成功\n"
     ]
    },
    {
     "name": "stderr",
     "output_type": "stream",
     "text": [
      "获取演出数据:  55%|█████▍    | 134/245 [00:35<00:24,  4.55天/s]       "
     ]
    },
    {
     "name": "stdout",
     "output_type": "stream",
     "text": [
      "获取演出数据 2024-05-12 成功\n",
      "获取演出数据 2024-05-13 成功\n"
     ]
    },
    {
     "name": "stderr",
     "output_type": "stream",
     "text": [
      "获取演出数据:  56%|█████▌    | 136/245 [00:36<00:23,  4.57天/s]       "
     ]
    },
    {
     "name": "stdout",
     "output_type": "stream",
     "text": [
      "获取演出数据 2024-05-14 成功\n",
      "获取演出数据 2024-05-15 成功\n"
     ]
    },
    {
     "name": "stderr",
     "output_type": "stream",
     "text": [
      "获取演出数据:  56%|█████▌    | 137/245 [00:36<00:23,  4.68天/s]       "
     ]
    },
    {
     "name": "stdout",
     "output_type": "stream",
     "text": [
      "获取演出数据 2024-05-16 成功\n"
     ]
    },
    {
     "name": "stderr",
     "output_type": "stream",
     "text": [
      "获取演出数据:  56%|█████▋    | 138/245 [00:36<00:25,  4.21天/s]       "
     ]
    },
    {
     "name": "stdout",
     "output_type": "stream",
     "text": [
      "获取演出数据 2024-05-17 成功\n"
     ]
    },
    {
     "name": "stderr",
     "output_type": "stream",
     "text": [
      "获取演出数据:  57%|█████▋    | 139/245 [00:37<00:38,  2.72天/s]       "
     ]
    },
    {
     "name": "stdout",
     "output_type": "stream",
     "text": [
      "获取演出数据 2024-05-18 成功\n"
     ]
    },
    {
     "name": "stderr",
     "output_type": "stream",
     "text": [
      "获取演出数据:  58%|█████▊    | 141/245 [00:37<00:30,  3.43天/s]       "
     ]
    },
    {
     "name": "stdout",
     "output_type": "stream",
     "text": [
      "获取演出数据 2024-05-19 成功\n",
      "获取演出数据 2024-05-20 成功\n"
     ]
    },
    {
     "name": "stderr",
     "output_type": "stream",
     "text": [
      "获取演出数据:  58%|█████▊    | 143/245 [00:38<00:22,  4.53天/s]       "
     ]
    },
    {
     "name": "stdout",
     "output_type": "stream",
     "text": [
      "获取演出数据 2024-05-21 成功\n",
      "获取演出数据 2024-05-22 成功\n"
     ]
    },
    {
     "name": "stderr",
     "output_type": "stream",
     "text": [
      "获取演出数据:  59%|█████▉    | 144/245 [00:38<00:20,  4.83天/s]       "
     ]
    },
    {
     "name": "stdout",
     "output_type": "stream",
     "text": [
      "获取演出数据 2024-05-23 成功\n"
     ]
    },
    {
     "name": "stderr",
     "output_type": "stream",
     "text": [
      "获取演出数据:  59%|█████▉    | 145/245 [00:38<00:24,  4.14天/s]       "
     ]
    },
    {
     "name": "stdout",
     "output_type": "stream",
     "text": [
      "获取演出数据 2024-05-24 成功\n"
     ]
    },
    {
     "name": "stderr",
     "output_type": "stream",
     "text": [
      "获取演出数据:  60%|█████▉    | 146/245 [00:39<00:31,  3.16天/s]       "
     ]
    },
    {
     "name": "stdout",
     "output_type": "stream",
     "text": [
      "获取演出数据 2024-05-25 成功\n"
     ]
    },
    {
     "name": "stderr",
     "output_type": "stream",
     "text": [
      "获取演出数据:  60%|██████    | 148/245 [00:39<00:26,  3.68天/s]       "
     ]
    },
    {
     "name": "stdout",
     "output_type": "stream",
     "text": [
      "获取演出数据 2024-05-26 成功\n",
      "获取演出数据 2024-05-27 成功\n"
     ]
    },
    {
     "name": "stderr",
     "output_type": "stream",
     "text": [
      "获取演出数据:  61%|██████    | 150/245 [00:39<00:21,  4.49天/s]       "
     ]
    },
    {
     "name": "stdout",
     "output_type": "stream",
     "text": [
      "获取演出数据 2024-05-28 成功\n",
      "获取演出数据 2024-05-29 成功\n"
     ]
    },
    {
     "name": "stderr",
     "output_type": "stream",
     "text": [
      "获取演出数据:  62%|██████▏   | 151/245 [00:40<00:22,  4.27天/s]       "
     ]
    },
    {
     "name": "stdout",
     "output_type": "stream",
     "text": [
      "获取演出数据 2024-05-30 成功\n"
     ]
    },
    {
     "name": "stderr",
     "output_type": "stream",
     "text": [
      "获取演出数据:  62%|██████▏   | 152/245 [00:40<00:22,  4.06天/s]       "
     ]
    },
    {
     "name": "stdout",
     "output_type": "stream",
     "text": [
      "获取演出数据 2024-05-31 成功\n"
     ]
    },
    {
     "name": "stderr",
     "output_type": "stream",
     "text": [
      "获取演出数据:  62%|██████▏   | 153/245 [00:40<00:28,  3.21天/s]       "
     ]
    },
    {
     "name": "stdout",
     "output_type": "stream",
     "text": [
      "获取演出数据 2024-06-01 成功\n"
     ]
    },
    {
     "name": "stderr",
     "output_type": "stream",
     "text": [
      "获取演出数据:  63%|██████▎   | 155/245 [00:41<00:23,  3.78天/s]       "
     ]
    },
    {
     "name": "stdout",
     "output_type": "stream",
     "text": [
      "获取演出数据 2024-06-02 成功\n",
      "获取演出数据 2024-06-03 成功\n"
     ]
    },
    {
     "name": "stderr",
     "output_type": "stream",
     "text": [
      "获取演出数据:  64%|██████▍   | 157/245 [00:41<00:19,  4.62天/s]       "
     ]
    },
    {
     "name": "stdout",
     "output_type": "stream",
     "text": [
      "获取演出数据 2024-06-04 成功\n",
      "获取演出数据 2024-06-05 成功\n"
     ]
    },
    {
     "name": "stderr",
     "output_type": "stream",
     "text": [
      "获取演出数据:  64%|██████▍   | 158/245 [00:41<00:17,  4.90天/s]       "
     ]
    },
    {
     "name": "stdout",
     "output_type": "stream",
     "text": [
      "获取演出数据 2024-06-06 成功\n"
     ]
    },
    {
     "name": "stderr",
     "output_type": "stream",
     "text": [
      "获取演出数据:  65%|██████▍   | 159/245 [00:42<00:19,  4.42天/s]       "
     ]
    },
    {
     "name": "stdout",
     "output_type": "stream",
     "text": [
      "获取演出数据 2024-06-07 成功\n"
     ]
    },
    {
     "name": "stderr",
     "output_type": "stream",
     "text": [
      "获取演出数据:  65%|██████▌   | 160/245 [00:42<00:23,  3.59天/s]       "
     ]
    },
    {
     "name": "stdout",
     "output_type": "stream",
     "text": [
      "获取演出数据 2024-06-08 成功\n"
     ]
    },
    {
     "name": "stderr",
     "output_type": "stream",
     "text": [
      "获取演出数据:  66%|██████▌   | 161/245 [00:43<00:26,  3.23天/s]       "
     ]
    },
    {
     "name": "stdout",
     "output_type": "stream",
     "text": [
      "获取演出数据 2024-06-09 成功\n"
     ]
    },
    {
     "name": "stderr",
     "output_type": "stream",
     "text": [
      "获取演出数据:  67%|██████▋   | 163/245 [00:43<00:23,  3.45天/s]       "
     ]
    },
    {
     "name": "stdout",
     "output_type": "stream",
     "text": [
      "获取演出数据 2024-06-10 成功\n",
      "获取演出数据 2024-06-11 成功\n"
     ]
    },
    {
     "name": "stderr",
     "output_type": "stream",
     "text": [
      "获取演出数据:  67%|██████▋   | 165/245 [00:44<00:19,  4.19天/s]       "
     ]
    },
    {
     "name": "stdout",
     "output_type": "stream",
     "text": [
      "获取演出数据 2024-06-12 成功\n",
      "获取演出数据 2024-06-13 成功\n"
     ]
    },
    {
     "name": "stderr",
     "output_type": "stream",
     "text": [
      "获取演出数据:  68%|██████▊   | 166/245 [00:44<00:19,  4.08天/s]       "
     ]
    },
    {
     "name": "stdout",
     "output_type": "stream",
     "text": [
      "获取演出数据 2024-06-14 成功\n"
     ]
    },
    {
     "name": "stderr",
     "output_type": "stream",
     "text": [
      "获取演出数据:  68%|██████▊   | 167/245 [00:44<00:21,  3.60天/s]       "
     ]
    },
    {
     "name": "stdout",
     "output_type": "stream",
     "text": [
      "获取演出数据 2024-06-15 成功\n"
     ]
    },
    {
     "name": "stderr",
     "output_type": "stream",
     "text": [
      "获取演出数据:  69%|██████▉   | 169/245 [00:45<00:18,  4.22天/s]       "
     ]
    },
    {
     "name": "stdout",
     "output_type": "stream",
     "text": [
      "获取演出数据 2024-06-16 成功\n",
      "获取演出数据 2024-06-17 成功\n"
     ]
    },
    {
     "name": "stderr",
     "output_type": "stream",
     "text": [
      "获取演出数据:  70%|██████▉   | 171/245 [00:45<00:14,  5.06天/s]       "
     ]
    },
    {
     "name": "stdout",
     "output_type": "stream",
     "text": [
      "获取演出数据 2024-06-18 成功\n",
      "获取演出数据 2024-06-19 成功\n"
     ]
    },
    {
     "name": "stderr",
     "output_type": "stream",
     "text": [
      "获取演出数据:  70%|███████   | 172/245 [00:45<00:14,  5.10天/s]       "
     ]
    },
    {
     "name": "stdout",
     "output_type": "stream",
     "text": [
      "获取演出数据 2024-06-20 成功\n"
     ]
    },
    {
     "name": "stderr",
     "output_type": "stream",
     "text": [
      "获取演出数据:  71%|███████   | 173/245 [00:45<00:18,  3.80天/s]       "
     ]
    },
    {
     "name": "stdout",
     "output_type": "stream",
     "text": [
      "获取演出数据 2024-06-21 成功\n"
     ]
    },
    {
     "name": "stderr",
     "output_type": "stream",
     "text": [
      "获取演出数据:  71%|███████   | 174/245 [00:46<00:21,  3.31天/s]       "
     ]
    },
    {
     "name": "stdout",
     "output_type": "stream",
     "text": [
      "获取演出数据 2024-06-22 成功\n"
     ]
    },
    {
     "name": "stderr",
     "output_type": "stream",
     "text": [
      "获取演出数据:  72%|███████▏  | 176/245 [00:46<00:20,  3.42天/s]       "
     ]
    },
    {
     "name": "stdout",
     "output_type": "stream",
     "text": [
      "获取演出数据 2024-06-23 成功\n",
      "获取演出数据 2024-06-24 成功\n"
     ]
    },
    {
     "name": "stderr",
     "output_type": "stream",
     "text": [
      "获取演出数据:  73%|███████▎  | 178/245 [00:47<00:15,  4.33天/s]       "
     ]
    },
    {
     "name": "stdout",
     "output_type": "stream",
     "text": [
      "获取演出数据 2024-06-25 成功\n",
      "获取演出数据 2024-06-26 成功\n"
     ]
    },
    {
     "name": "stderr",
     "output_type": "stream",
     "text": [
      "获取演出数据:  73%|███████▎  | 179/245 [00:47<00:14,  4.57天/s]       "
     ]
    },
    {
     "name": "stdout",
     "output_type": "stream",
     "text": [
      "获取演出数据 2024-06-27 成功\n"
     ]
    },
    {
     "name": "stderr",
     "output_type": "stream",
     "text": [
      "获取演出数据:  73%|███████▎  | 180/245 [00:47<00:14,  4.36天/s]       "
     ]
    },
    {
     "name": "stdout",
     "output_type": "stream",
     "text": [
      "获取演出数据 2024-06-28 成功\n"
     ]
    },
    {
     "name": "stderr",
     "output_type": "stream",
     "text": [
      "获取演出数据:  74%|███████▍  | 181/245 [00:48<00:17,  3.60天/s]       "
     ]
    },
    {
     "name": "stdout",
     "output_type": "stream",
     "text": [
      "获取演出数据 2024-06-29 成功\n"
     ]
    },
    {
     "name": "stderr",
     "output_type": "stream",
     "text": [
      "获取演出数据:  74%|███████▍  | 182/245 [00:48<00:18,  3.40天/s]       "
     ]
    },
    {
     "name": "stdout",
     "output_type": "stream",
     "text": [
      "获取演出数据 2024-06-30 成功\n"
     ]
    },
    {
     "name": "stderr",
     "output_type": "stream",
     "text": [
      "获取演出数据:  75%|███████▌  | 184/245 [00:48<00:14,  4.11天/s]       "
     ]
    },
    {
     "name": "stdout",
     "output_type": "stream",
     "text": [
      "获取演出数据 2024-07-01 成功\n",
      "获取演出数据 2024-07-02 成功\n"
     ]
    },
    {
     "name": "stderr",
     "output_type": "stream",
     "text": [
      "获取演出数据:  76%|███████▌  | 186/245 [00:49<00:12,  4.55天/s]       "
     ]
    },
    {
     "name": "stdout",
     "output_type": "stream",
     "text": [
      "获取演出数据 2024-07-03 成功\n",
      "获取演出数据 2024-07-04 成功\n"
     ]
    },
    {
     "name": "stderr",
     "output_type": "stream",
     "text": [
      "获取演出数据:  76%|███████▋  | 187/245 [00:49<00:14,  4.12天/s]       "
     ]
    },
    {
     "name": "stdout",
     "output_type": "stream",
     "text": [
      "获取演出数据 2024-07-05 成功\n"
     ]
    },
    {
     "name": "stderr",
     "output_type": "stream",
     "text": [
      "获取演出数据:  77%|███████▋  | 188/245 [00:49<00:16,  3.54天/s]       "
     ]
    },
    {
     "name": "stdout",
     "output_type": "stream",
     "text": [
      "获取演出数据 2024-07-06 成功\n"
     ]
    },
    {
     "name": "stderr",
     "output_type": "stream",
     "text": [
      "                                                               \r"
     ]
    },
    {
     "name": "stdout",
     "output_type": "stream",
     "text": [
      "获取演出数据 2024-07-07 成功\n"
     ]
    },
    {
     "name": "stderr",
     "output_type": "stream",
     "text": [
      "获取演出数据:  78%|███████▊  | 191/245 [00:50<00:12,  4.20天/s]       "
     ]
    },
    {
     "name": "stdout",
     "output_type": "stream",
     "text": [
      "获取演出数据 2024-07-08 成功\n",
      "获取演出数据 2024-07-09 成功\n"
     ]
    },
    {
     "name": "stderr",
     "output_type": "stream",
     "text": [
      "获取演出数据:  79%|███████▉  | 193/245 [00:51<00:10,  4.73天/s]       "
     ]
    },
    {
     "name": "stdout",
     "output_type": "stream",
     "text": [
      "获取演出数据 2024-07-10 成功\n",
      "获取演出数据 2024-07-11 成功\n"
     ]
    },
    {
     "name": "stderr",
     "output_type": "stream",
     "text": [
      "获取演出数据:  79%|███████▉  | 194/245 [00:51<00:16,  3.15天/s]       "
     ]
    },
    {
     "name": "stdout",
     "output_type": "stream",
     "text": [
      "获取演出数据 2024-07-12 成功\n"
     ]
    },
    {
     "name": "stderr",
     "output_type": "stream",
     "text": [
      "获取演出数据:  80%|███████▉  | 195/245 [00:52<00:20,  2.44天/s]       "
     ]
    },
    {
     "name": "stdout",
     "output_type": "stream",
     "text": [
      "获取演出数据 2024-07-13 成功\n"
     ]
    },
    {
     "name": "stderr",
     "output_type": "stream",
     "text": [
      "获取演出数据:  80%|████████  | 197/245 [00:52<00:15,  3.08天/s]       "
     ]
    },
    {
     "name": "stdout",
     "output_type": "stream",
     "text": [
      "获取演出数据 2024-07-14 成功\n",
      "获取演出数据 2024-07-15 成功\n"
     ]
    },
    {
     "name": "stderr",
     "output_type": "stream",
     "text": [
      "获取演出数据:  81%|████████  | 198/245 [00:52<00:13,  3.60天/s]       "
     ]
    },
    {
     "name": "stdout",
     "output_type": "stream",
     "text": [
      "获取演出数据 2024-07-16 成功\n"
     ]
    },
    {
     "name": "stderr",
     "output_type": "stream",
     "text": [
      "获取演出数据:  81%|████████  | 199/245 [00:53<00:11,  3.89天/s]       "
     ]
    },
    {
     "name": "stdout",
     "output_type": "stream",
     "text": [
      "获取演出数据 2024-07-17 成功\n"
     ]
    },
    {
     "name": "stderr",
     "output_type": "stream",
     "text": [
      "获取演出数据:  82%|████████▏ | 200/245 [00:53<00:10,  4.13天/s]       "
     ]
    },
    {
     "name": "stdout",
     "output_type": "stream",
     "text": [
      "获取演出数据 2024-07-18 成功\n"
     ]
    },
    {
     "name": "stderr",
     "output_type": "stream",
     "text": [
      "获取演出数据:  82%|████████▏ | 201/245 [00:53<00:10,  4.07天/s]       "
     ]
    },
    {
     "name": "stdout",
     "output_type": "stream",
     "text": [
      "获取演出数据 2024-07-19 成功\n"
     ]
    },
    {
     "name": "stderr",
     "output_type": "stream",
     "text": [
      "获取演出数据:  82%|████████▏ | 202/245 [00:54<00:13,  3.14天/s]       "
     ]
    },
    {
     "name": "stdout",
     "output_type": "stream",
     "text": [
      "获取演出数据 2024-07-20 成功\n"
     ]
    },
    {
     "name": "stderr",
     "output_type": "stream",
     "text": [
      "获取演出数据:  83%|████████▎ | 203/245 [00:54<00:12,  3.31天/s]       "
     ]
    },
    {
     "name": "stdout",
     "output_type": "stream",
     "text": [
      "获取演出数据 2024-07-21 成功\n"
     ]
    },
    {
     "name": "stderr",
     "output_type": "stream",
     "text": [
      "获取演出数据:  84%|████████▎ | 205/245 [00:54<00:10,  3.97天/s]       "
     ]
    },
    {
     "name": "stdout",
     "output_type": "stream",
     "text": [
      "获取演出数据 2024-07-22 成功\n",
      "获取演出数据 2024-07-23 成功\n"
     ]
    },
    {
     "name": "stderr",
     "output_type": "stream",
     "text": [
      "获取演出数据:  84%|████████▍ | 206/245 [00:54<00:09,  4.33天/s]       "
     ]
    },
    {
     "name": "stdout",
     "output_type": "stream",
     "text": [
      "获取演出数据 2024-07-24 成功\n"
     ]
    },
    {
     "name": "stderr",
     "output_type": "stream",
     "text": [
      "获取演出数据:  84%|████████▍ | 207/245 [00:55<00:08,  4.41天/s]       "
     ]
    },
    {
     "name": "stdout",
     "output_type": "stream",
     "text": [
      "获取演出数据 2024-07-25 成功\n"
     ]
    },
    {
     "name": "stderr",
     "output_type": "stream",
     "text": [
      "获取演出数据:  85%|████████▍ | 208/245 [00:55<00:08,  4.27天/s]       "
     ]
    },
    {
     "name": "stdout",
     "output_type": "stream",
     "text": [
      "获取演出数据 2024-07-26 成功\n"
     ]
    },
    {
     "name": "stderr",
     "output_type": "stream",
     "text": [
      "获取演出数据:  85%|████████▌ | 209/245 [00:55<00:09,  3.68天/s]       "
     ]
    },
    {
     "name": "stdout",
     "output_type": "stream",
     "text": [
      "获取演出数据 2024-07-27 成功\n"
     ]
    },
    {
     "name": "stderr",
     "output_type": "stream",
     "text": [
      "获取演出数据:  86%|████████▌ | 211/245 [00:56<00:08,  4.10天/s]       "
     ]
    },
    {
     "name": "stdout",
     "output_type": "stream",
     "text": [
      "获取演出数据 2024-07-28 成功\n",
      "获取演出数据 2024-07-29 成功\n"
     ]
    },
    {
     "name": "stderr",
     "output_type": "stream",
     "text": [
      "获取演出数据:  87%|████████▋ | 213/245 [00:56<00:07,  4.39天/s]       "
     ]
    },
    {
     "name": "stdout",
     "output_type": "stream",
     "text": [
      "获取演出数据 2024-07-30 成功\n",
      "获取演出数据 2024-07-31 成功\n"
     ]
    },
    {
     "name": "stderr",
     "output_type": "stream",
     "text": [
      "获取演出数据:  87%|████████▋ | 214/245 [00:56<00:06,  4.61天/s]       "
     ]
    },
    {
     "name": "stdout",
     "output_type": "stream",
     "text": [
      "获取演出数据 2024-08-01 成功\n"
     ]
    },
    {
     "name": "stderr",
     "output_type": "stream",
     "text": [
      "获取演出数据:  88%|████████▊ | 215/245 [00:57<00:08,  3.72天/s]       "
     ]
    },
    {
     "name": "stdout",
     "output_type": "stream",
     "text": [
      "获取演出数据 2024-08-02 成功\n"
     ]
    },
    {
     "name": "stderr",
     "output_type": "stream",
     "text": [
      "获取演出数据:  88%|████████▊ | 216/245 [00:57<00:08,  3.27天/s]       "
     ]
    },
    {
     "name": "stdout",
     "output_type": "stream",
     "text": [
      "获取演出数据 2024-08-03 成功\n"
     ]
    },
    {
     "name": "stderr",
     "output_type": "stream",
     "text": [
      "获取演出数据:  89%|████████▉ | 218/245 [00:58<00:11,  2.28天/s]       "
     ]
    },
    {
     "name": "stdout",
     "output_type": "stream",
     "text": [
      "获取演出数据 2024-08-04 成功\n",
      "获取演出数据 2024-08-05 成功\n"
     ]
    },
    {
     "name": "stderr",
     "output_type": "stream",
     "text": [
      "获取演出数据:  90%|████████▉ | 220/245 [00:59<00:07,  3.23天/s]       "
     ]
    },
    {
     "name": "stdout",
     "output_type": "stream",
     "text": [
      "获取演出数据 2024-08-06 成功\n",
      "获取演出数据 2024-08-07 成功\n"
     ]
    },
    {
     "name": "stderr",
     "output_type": "stream",
     "text": [
      "获取演出数据:  90%|█████████ | 221/245 [00:59<00:06,  3.53天/s]       "
     ]
    },
    {
     "name": "stdout",
     "output_type": "stream",
     "text": [
      "获取演出数据 2024-08-08 成功\n"
     ]
    },
    {
     "name": "stderr",
     "output_type": "stream",
     "text": [
      "获取演出数据:  91%|█████████ | 222/245 [00:59<00:06,  3.39天/s]       "
     ]
    },
    {
     "name": "stdout",
     "output_type": "stream",
     "text": [
      "获取演出数据 2024-08-09 成功\n"
     ]
    },
    {
     "name": "stderr",
     "output_type": "stream",
     "text": [
      "获取演出数据:  91%|█████████ | 223/245 [01:00<00:07,  2.85天/s]       "
     ]
    },
    {
     "name": "stdout",
     "output_type": "stream",
     "text": [
      "获取演出数据 2024-08-10 成功\n"
     ]
    },
    {
     "name": "stderr",
     "output_type": "stream",
     "text": [
      "获取演出数据:  92%|█████████▏| 225/245 [01:00<00:06,  3.29天/s]       "
     ]
    },
    {
     "name": "stdout",
     "output_type": "stream",
     "text": [
      "获取演出数据 2024-08-11 成功\n",
      "获取演出数据 2024-08-12 成功\n"
     ]
    },
    {
     "name": "stderr",
     "output_type": "stream",
     "text": [
      "获取演出数据:  92%|█████████▏| 226/245 [01:01<00:04,  3.84天/s]       "
     ]
    },
    {
     "name": "stdout",
     "output_type": "stream",
     "text": [
      "获取演出数据 2024-08-13 成功\n"
     ]
    },
    {
     "name": "stderr",
     "output_type": "stream",
     "text": [
      "获取演出数据:  93%|█████████▎| 227/245 [01:01<00:04,  4.10天/s]       "
     ]
    },
    {
     "name": "stdout",
     "output_type": "stream",
     "text": [
      "获取演出数据 2024-08-14 成功\n"
     ]
    },
    {
     "name": "stderr",
     "output_type": "stream",
     "text": [
      "获取演出数据:  93%|█████████▎| 228/245 [01:01<00:03,  4.30天/s]       "
     ]
    },
    {
     "name": "stdout",
     "output_type": "stream",
     "text": [
      "获取演出数据 2024-08-15 成功\n"
     ]
    },
    {
     "name": "stderr",
     "output_type": "stream",
     "text": [
      "获取演出数据:  93%|█████████▎| 229/245 [01:01<00:03,  4.15天/s]       "
     ]
    },
    {
     "name": "stdout",
     "output_type": "stream",
     "text": [
      "获取演出数据 2024-08-16 成功\n"
     ]
    },
    {
     "name": "stderr",
     "output_type": "stream",
     "text": [
      "获取演出数据:  94%|█████████▍| 230/245 [01:02<00:05,  2.80天/s]       "
     ]
    },
    {
     "name": "stdout",
     "output_type": "stream",
     "text": [
      "获取演出数据 2024-08-17 成功\n"
     ]
    },
    {
     "name": "stderr",
     "output_type": "stream",
     "text": [
      "获取演出数据:  95%|█████████▍| 232/245 [01:02<00:03,  3.31天/s]       "
     ]
    },
    {
     "name": "stdout",
     "output_type": "stream",
     "text": [
      "获取演出数据 2024-08-18 成功\n",
      "获取演出数据 2024-08-19 成功\n"
     ]
    },
    {
     "name": "stderr",
     "output_type": "stream",
     "text": [
      "获取演出数据:  96%|█████████▌| 234/245 [01:03<00:02,  4.14天/s]       "
     ]
    },
    {
     "name": "stdout",
     "output_type": "stream",
     "text": [
      "获取演出数据 2024-08-20 成功\n",
      "获取演出数据 2024-08-21 成功\n"
     ]
    },
    {
     "name": "stderr",
     "output_type": "stream",
     "text": [
      "获取演出数据:  96%|█████████▌| 235/245 [01:03<00:02,  4.24天/s]       "
     ]
    },
    {
     "name": "stdout",
     "output_type": "stream",
     "text": [
      "获取演出数据 2024-08-22 成功\n"
     ]
    },
    {
     "name": "stderr",
     "output_type": "stream",
     "text": [
      "获取演出数据:  96%|█████████▋| 236/245 [01:03<00:02,  3.86天/s]       "
     ]
    },
    {
     "name": "stdout",
     "output_type": "stream",
     "text": [
      "获取演出数据 2024-08-23 成功\n"
     ]
    },
    {
     "name": "stderr",
     "output_type": "stream",
     "text": [
      "获取演出数据:  97%|█████████▋| 237/245 [01:04<00:02,  3.23天/s]       "
     ]
    },
    {
     "name": "stdout",
     "output_type": "stream",
     "text": [
      "获取演出数据 2024-08-24 成功\n"
     ]
    },
    {
     "name": "stderr",
     "output_type": "stream",
     "text": [
      "获取演出数据:  98%|█████████▊| 239/245 [01:05<00:02,  2.31天/s]       "
     ]
    },
    {
     "name": "stdout",
     "output_type": "stream",
     "text": [
      "获取演出数据 2024-08-25 成功\n",
      "获取演出数据 2024-08-26 成功\n"
     ]
    },
    {
     "name": "stderr",
     "output_type": "stream",
     "text": [
      "获取演出数据:  98%|█████████▊| 241/245 [01:05<00:01,  3.31天/s]       "
     ]
    },
    {
     "name": "stdout",
     "output_type": "stream",
     "text": [
      "获取演出数据 2024-08-27 成功\n",
      "获取演出数据 2024-08-28 成功\n"
     ]
    },
    {
     "name": "stderr",
     "output_type": "stream",
     "text": [
      "获取演出数据:  99%|█████████▉| 242/245 [01:06<00:00,  3.62天/s]       "
     ]
    },
    {
     "name": "stdout",
     "output_type": "stream",
     "text": [
      "获取演出数据 2024-08-29 成功\n"
     ]
    },
    {
     "name": "stderr",
     "output_type": "stream",
     "text": [
      "获取演出数据:  99%|█████████▉| 243/245 [01:06<00:00,  3.54天/s]       "
     ]
    },
    {
     "name": "stdout",
     "output_type": "stream",
     "text": [
      "获取演出数据 2024-08-30 成功\n"
     ]
    },
    {
     "name": "stderr",
     "output_type": "stream",
     "text": [
      "获取演出数据: 100%|█████████▉| 244/245 [01:06<00:00,  3.28天/s]       "
     ]
    },
    {
     "name": "stdout",
     "output_type": "stream",
     "text": [
      "获取演出数据 2024-08-31 成功\n"
     ]
    },
    {
     "name": "stderr",
     "output_type": "stream",
     "text": [
      "获取演出数据: 100%|██████████| 245/245 [01:07<00:00,  3.66天/s]       "
     ]
    },
    {
     "name": "stdout",
     "output_type": "stream",
     "text": [
      "获取演出数据 2024-09-01 成功\n"
     ]
    },
    {
     "name": "stderr",
     "output_type": "stream",
     "text": [
      "\n"
     ]
    }
   ],
   "source": [
    "\n",
    "for date in tqdm.tqdm(date_range, desc=\"获取演出数据\", unit=\"天\"):\n",
    "    response = requests.get(fieids_url[\"shows\"].format(date.strftime(\"%Y-%m-%d\")))\n",
    "    responses.append(response)\n",
    "    tqdm.tqdm.write(f\"获取演出数据 {date.strftime('%Y-%m-%d')} 成功\")\n"
   ]
  },
  {
   "cell_type": "code",
   "execution_count": 13,
   "metadata": {},
   "outputs": [
    {
     "data": {
      "text/plain": [
       "245"
      ]
     },
     "execution_count": 13,
     "metadata": {},
     "output_type": "execute_result"
    }
   ],
   "source": [
    "len(responses)"
   ]
  },
  {
   "cell_type": "code",
   "execution_count": 14,
   "metadata": {},
   "outputs": [],
   "source": [
    "show_json_data = []\n",
    "for response in responses:\n",
    "    show_json_data.append(response.json())\n"
   ]
  },
  {
   "cell_type": "code",
   "execution_count": 29,
   "metadata": {},
   "outputs": [
    {
     "name": "stdout",
     "output_type": "stream",
     "text": [
      "'cast'\n",
      "{'show_list': [], 'date': '2024-02-09'}\n"
     ]
    }
   ],
   "source": [
    "shows = pd.DataFrame()\n",
    "for index,data in enumerate(show_json_data):\n",
    "    try:\n",
    "        show = pd.json_normalize(pd.json_normalize(data)[\"show_list\"][0])\n",
    "        show['cast'] = show['cast'].apply(lambda x: ' '.join([j[\"artist\"] for j in x]))\n",
    "        show[\"date\"] = date_range[index]\n",
    "        shows = pd.json_normalize(data[\"show_list\"][0])\n",
    "        shows['cast'] = shows['cast'].apply(lambda x: [j[\"artist\"] for j in x])\n",
    "        shows[\"date\"] = date\n",
    "        shows['date'] = pd.to_datetime(shows['date'].astype(str) + ' ' + shows['time'])\n",
    "        shows = shows[[\"date\",\"city\",\"musical\",\"cast\",\"theatre\"]]\n",
    "    except Exception as e:\n",
    "        print(e)\n",
    "        print(data)\n"
   ]
  },
  {
   "cell_type": "code",
   "execution_count": 36,
   "metadata": {},
   "outputs": [
    {
     "data": {
      "text/html": [
       "<div>\n",
       "<style scoped>\n",
       "    .dataframe tbody tr th:only-of-type {\n",
       "        vertical-align: middle;\n",
       "    }\n",
       "\n",
       "    .dataframe tbody tr th {\n",
       "        vertical-align: top;\n",
       "    }\n",
       "\n",
       "    .dataframe thead th {\n",
       "        text-align: right;\n",
       "    }\n",
       "</style>\n",
       "<table border=\"1\" class=\"dataframe\">\n",
       "  <thead>\n",
       "    <tr style=\"text-align: right;\">\n",
       "      <th></th>\n",
       "      <th>date</th>\n",
       "      <th>city</th>\n",
       "      <th>musical</th>\n",
       "      <th>cast</th>\n",
       "      <th>theatre</th>\n",
       "    </tr>\n",
       "  </thead>\n",
       "  <tbody>\n",
       "    <tr>\n",
       "      <th>0</th>\n",
       "      <td>2024-01-01 14:00:00</td>\n",
       "      <td>上海</td>\n",
       "      <td>LIZZIE丽兹</td>\n",
       "      <td>严小北 丁臻滢 陈姝月 宁梦恬</td>\n",
       "      <td>星空间11号·MOriginal Box</td>\n",
       "    </tr>\n",
       "    <tr>\n",
       "      <th>1</th>\n",
       "      <td>2024-01-01 14:00:00</td>\n",
       "      <td>上海</td>\n",
       "      <td>周生如故</td>\n",
       "      <td>张泽 徐瑶 毛二 黎宛曈 车鸣笛 张艺 毛珏懿 李浩楠</td>\n",
       "      <td>上剧场</td>\n",
       "    </tr>\n",
       "    <tr>\n",
       "      <th>2</th>\n",
       "      <td>2024-01-01 14:30:00</td>\n",
       "      <td>上海</td>\n",
       "      <td>小说</td>\n",
       "      <td>钱蒙楠 钟嘉诚 纪晓坤</td>\n",
       "      <td>人民大舞台</td>\n",
       "    </tr>\n",
       "    <tr>\n",
       "      <th>3</th>\n",
       "      <td>2024-01-01 14:30:00</td>\n",
       "      <td>上海</td>\n",
       "      <td>嗜血博士</td>\n",
       "      <td>顾易 何铭海 蔡馨怡</td>\n",
       "      <td>星空间1023号·涵金小剧场</td>\n",
       "    </tr>\n",
       "    <tr>\n",
       "      <th>4</th>\n",
       "      <td>2024-01-01 14:30:00</td>\n",
       "      <td>上海</td>\n",
       "      <td>月亮与六便士</td>\n",
       "      <td>孙豆尔 陈旭 陈旭茂 盛可欣</td>\n",
       "      <td>星空间815号·缪时客小剧场</td>\n",
       "    </tr>\n",
       "    <tr>\n",
       "      <th>...</th>\n",
       "      <td>...</td>\n",
       "      <td>...</td>\n",
       "      <td>...</td>\n",
       "      <td>...</td>\n",
       "      <td>...</td>\n",
       "    </tr>\n",
       "    <tr>\n",
       "      <th>32</th>\n",
       "      <td>2024-09-01 19:00:00</td>\n",
       "      <td>南京</td>\n",
       "      <td>醉后赢家</td>\n",
       "      <td></td>\n",
       "      <td>开心麻花方橙市</td>\n",
       "    </tr>\n",
       "    <tr>\n",
       "      <th>33</th>\n",
       "      <td>2024-09-01 15:30:00</td>\n",
       "      <td>西安</td>\n",
       "      <td>丝路之声</td>\n",
       "      <td>谭建业 田恬 刘靖 孙晶俐 张书豪 尉梦飞 杨雨婷 王笑语 林梦圆 殷赫阳</td>\n",
       "      <td>丝路欢乐世界·琴音剧场</td>\n",
       "    </tr>\n",
       "    <tr>\n",
       "      <th>34</th>\n",
       "      <td>2024-09-01 15:00:00</td>\n",
       "      <td>南昌</td>\n",
       "      <td>画中人</td>\n",
       "      <td>张鑫澳 王珂 郭浩然</td>\n",
       "      <td>Lilime泠空间剧场</td>\n",
       "    </tr>\n",
       "    <tr>\n",
       "      <th>35</th>\n",
       "      <td>2024-09-01 19:30:00</td>\n",
       "      <td>南昌</td>\n",
       "      <td>画中人</td>\n",
       "      <td>徐晞城 施天玮 李信</td>\n",
       "      <td>Lilime泠空间剧场</td>\n",
       "    </tr>\n",
       "    <tr>\n",
       "      <th>36</th>\n",
       "      <td>2024-09-01 19:30:00</td>\n",
       "      <td>海口</td>\n",
       "      <td>青春禁忌游戏</td>\n",
       "      <td>江南 方书剑 朱微之 胡迪 严小北</td>\n",
       "      <td>海口湾演艺中心</td>\n",
       "    </tr>\n",
       "  </tbody>\n",
       "</table>\n",
       "<p>6094 rows × 5 columns</p>\n",
       "</div>"
      ],
      "text/plain": [
       "                  date city   musical                                   cast  \\\n",
       "0  2024-01-01 14:00:00   上海  LIZZIE丽兹                        严小北 丁臻滢 陈姝月 宁梦恬   \n",
       "1  2024-01-01 14:00:00   上海      周生如故            张泽 徐瑶 毛二 黎宛曈 车鸣笛 张艺 毛珏懿 李浩楠   \n",
       "2  2024-01-01 14:30:00   上海        小说                            钱蒙楠 钟嘉诚 纪晓坤   \n",
       "3  2024-01-01 14:30:00   上海      嗜血博士                             顾易 何铭海 蔡馨怡   \n",
       "4  2024-01-01 14:30:00   上海    月亮与六便士                         孙豆尔 陈旭 陈旭茂 盛可欣   \n",
       "..                 ...  ...       ...                                    ...   \n",
       "32 2024-09-01 19:00:00   南京      醉后赢家                                          \n",
       "33 2024-09-01 15:30:00   西安      丝路之声  谭建业 田恬 刘靖 孙晶俐 张书豪 尉梦飞 杨雨婷 王笑语 林梦圆 殷赫阳   \n",
       "34 2024-09-01 15:00:00   南昌       画中人                             张鑫澳 王珂 郭浩然   \n",
       "35 2024-09-01 19:30:00   南昌       画中人                             徐晞城 施天玮 李信   \n",
       "36 2024-09-01 19:30:00   海口    青春禁忌游戏                      江南 方书剑 朱微之 胡迪 严小北   \n",
       "\n",
       "                 theatre  \n",
       "0   星空间11号·MOriginal Box  \n",
       "1                    上剧场  \n",
       "2                  人民大舞台  \n",
       "3         星空间1023号·涵金小剧场  \n",
       "4         星空间815号·缪时客小剧场  \n",
       "..                   ...  \n",
       "32               开心麻花方橙市  \n",
       "33           丝路欢乐世界·琴音剧场  \n",
       "34           Lilime泠空间剧场  \n",
       "35           Lilime泠空间剧场  \n",
       "36               海口湾演艺中心  \n",
       "\n",
       "[6094 rows x 5 columns]"
      ]
     },
     "execution_count": 36,
     "metadata": {},
     "output_type": "execute_result"
    }
   ],
   "source": [
    "shows"
   ]
  },
  {
   "cell_type": "code",
   "execution_count": 37,
   "metadata": {},
   "outputs": [
    {
     "name": "stdout",
     "output_type": "stream",
     "text": [
      "数据已成功追加到 ../data/shows.csv 文件中\n"
     ]
    }
   ],
   "source": [
    "            \n",
    "# 将新数据追加到现有的CSV文件中\n",
    "existing_shows = pd.read_csv(\"../data/shows.csv\")\n",
    "combined_shows = pd.concat([existing_shows, shows], ignore_index=True)\n",
    "combined_shows.to_csv(\"../data/shows.csv\", index=False)\n",
    "\n",
    "print(\"数据已成功追加到 ../data/shows.csv 文件中\")"
   ]
  },
  {
   "cell_type": "code",
   "execution_count": 38,
   "metadata": {},
   "outputs": [],
   "source": [
    "shows.to_csv(\"../original_data/shows2024.csv\")"
   ]
  },
  {
   "cell_type": "code",
   "execution_count": 39,
   "metadata": {},
   "outputs": [
    {
     "name": "stdout",
     "output_type": "stream",
     "text": [
      "successfully request on http://y.saoju.net/yyj/api/search_day/?date=2023-01-01, status code 200.\n",
      "successfully request on http://y.saoju.net/yyj/api/search_day/?date=2023-01-02, status code 200.\n",
      "successfully request on http://y.saoju.net/yyj/api/search_day/?date=2023-01-03, status code 200.\n"
     ]
    }
   ],
   "source": [
    "a = get_shows_by_date_range(\"2023-01-01\", \"2023-01-03\")"
   ]
  },
  {
   "cell_type": "code",
   "execution_count": 40,
   "metadata": {},
   "outputs": [
    {
     "data": {
      "text/html": [
       "<div>\n",
       "<style scoped>\n",
       "    .dataframe tbody tr th:only-of-type {\n",
       "        vertical-align: middle;\n",
       "    }\n",
       "\n",
       "    .dataframe tbody tr th {\n",
       "        vertical-align: top;\n",
       "    }\n",
       "\n",
       "    .dataframe thead th {\n",
       "        text-align: right;\n",
       "    }\n",
       "</style>\n",
       "<table border=\"1\" class=\"dataframe\">\n",
       "  <thead>\n",
       "    <tr style=\"text-align: right;\">\n",
       "      <th></th>\n",
       "      <th>theatre</th>\n",
       "      <th>musical</th>\n",
       "      <th>city</th>\n",
       "      <th>time</th>\n",
       "      <th>cast</th>\n",
       "      <th>date</th>\n",
       "    </tr>\n",
       "  </thead>\n",
       "  <tbody>\n",
       "    <tr>\n",
       "      <th>0</th>\n",
       "      <td>星空间11号·MOriginal Box</td>\n",
       "      <td>致爱</td>\n",
       "      <td>上海</td>\n",
       "      <td>13:00</td>\n",
       "      <td>[王洁璐, 赵嘉豪]</td>\n",
       "      <td>2023-01-01</td>\n",
       "    </tr>\n",
       "    <tr>\n",
       "      <th>1</th>\n",
       "      <td>中国大戏院</td>\n",
       "      <td>夜半歌声</td>\n",
       "      <td>上海</td>\n",
       "      <td>14:00</td>\n",
       "      <td>[钟嘉诚, 喻越越, 陆宇鹏, 江珊, 丁伟, 李泽美, 王珏语涵, 朱微之, 黄湙云, 赵雨阳]</td>\n",
       "      <td>2023-01-01</td>\n",
       "    </tr>\n",
       "    <tr>\n",
       "      <th>2</th>\n",
       "      <td>星空间815号·缪时客小剧场</td>\n",
       "      <td>月亮与六便士</td>\n",
       "      <td>上海</td>\n",
       "      <td>14:00</td>\n",
       "      <td>[白一博, 暴晓萱, 王壹, 盛可欣]</td>\n",
       "      <td>2023-01-01</td>\n",
       "    </tr>\n",
       "    <tr>\n",
       "      <th>3</th>\n",
       "      <td>星空间77号·鲸剧场</td>\n",
       "      <td>翻国王棋</td>\n",
       "      <td>上海</td>\n",
       "      <td>14:00</td>\n",
       "      <td>[丁宇佳, 张琦铭, 王颢珏, 车鸣笛, 周波, 杜钇樵]</td>\n",
       "      <td>2023-01-01</td>\n",
       "    </tr>\n",
       "    <tr>\n",
       "      <th>4</th>\n",
       "      <td>上剧场</td>\n",
       "      <td>莎翁乐园</td>\n",
       "      <td>上海</td>\n",
       "      <td>14:00</td>\n",
       "      <td>[祝颂皓, 张智涵, 徐泽辉, 刘浩冉]</td>\n",
       "      <td>2023-01-01</td>\n",
       "    </tr>\n",
       "    <tr>\n",
       "      <th>...</th>\n",
       "      <td>...</td>\n",
       "      <td>...</td>\n",
       "      <td>...</td>\n",
       "      <td>...</td>\n",
       "      <td>...</td>\n",
       "      <td>...</td>\n",
       "    </tr>\n",
       "    <tr>\n",
       "      <th>2</th>\n",
       "      <td>星空间6号·一台好戏小剧场</td>\n",
       "      <td>桑塔露琪亚</td>\n",
       "      <td>上海</td>\n",
       "      <td>19:30</td>\n",
       "      <td>[牛博为, 徐昊, 朱亮]</td>\n",
       "      <td>2023-01-03</td>\n",
       "    </tr>\n",
       "    <tr>\n",
       "      <th>3</th>\n",
       "      <td>星空间1号·一台好戏小剧场</td>\n",
       "      <td>阿波罗尼亚</td>\n",
       "      <td>上海</td>\n",
       "      <td>19:30</td>\n",
       "      <td>[李苏霖, 姜崃, 曹牧之]</td>\n",
       "      <td>2023-01-03</td>\n",
       "    </tr>\n",
       "    <tr>\n",
       "      <th>4</th>\n",
       "      <td>星空间77号·鲸剧场</td>\n",
       "      <td>翻国王棋</td>\n",
       "      <td>上海</td>\n",
       "      <td>19:30</td>\n",
       "      <td>[刘瀚聪, 李秋盟, 蔡淇, 车鸣笛, 李子涵, 暴晓萱]</td>\n",
       "      <td>2023-01-03</td>\n",
       "    </tr>\n",
       "    <tr>\n",
       "      <th>5</th>\n",
       "      <td>星空间99号·Salute小剧场</td>\n",
       "      <td>银河铁道之夜</td>\n",
       "      <td>上海</td>\n",
       "      <td>19:30</td>\n",
       "      <td>[张旭辰, 赵伟钢]</td>\n",
       "      <td>2023-01-03</td>\n",
       "    </tr>\n",
       "    <tr>\n",
       "      <th>6</th>\n",
       "      <td>星空间66号·Salute小剧场</td>\n",
       "      <td>危险游戏</td>\n",
       "      <td>上海</td>\n",
       "      <td>19:30</td>\n",
       "      <td>[管重昊, 夏阳]</td>\n",
       "      <td>2023-01-03</td>\n",
       "    </tr>\n",
       "  </tbody>\n",
       "</table>\n",
       "<p>68 rows × 6 columns</p>\n",
       "</div>"
      ],
      "text/plain": [
       "                 theatre musical city   time  \\\n",
       "0   星空间11号·MOriginal Box      致爱   上海  13:00   \n",
       "1                  中国大戏院    夜半歌声   上海  14:00   \n",
       "2         星空间815号·缪时客小剧场  月亮与六便士   上海  14:00   \n",
       "3             星空间77号·鲸剧场    翻国王棋   上海  14:00   \n",
       "4                    上剧场    莎翁乐园   上海  14:00   \n",
       "..                   ...     ...  ...    ...   \n",
       "2          星空间6号·一台好戏小剧场   桑塔露琪亚   上海  19:30   \n",
       "3          星空间1号·一台好戏小剧场   阿波罗尼亚   上海  19:30   \n",
       "4             星空间77号·鲸剧场    翻国王棋   上海  19:30   \n",
       "5       星空间99号·Salute小剧场  银河铁道之夜   上海  19:30   \n",
       "6       星空间66号·Salute小剧场    危险游戏   上海  19:30   \n",
       "\n",
       "                                                 cast        date  \n",
       "0                                          [王洁璐, 赵嘉豪]  2023-01-01  \n",
       "1   [钟嘉诚, 喻越越, 陆宇鹏, 江珊, 丁伟, 李泽美, 王珏语涵, 朱微之, 黄湙云, 赵雨阳]  2023-01-01  \n",
       "2                                 [白一博, 暴晓萱, 王壹, 盛可欣]  2023-01-01  \n",
       "3                       [丁宇佳, 张琦铭, 王颢珏, 车鸣笛, 周波, 杜钇樵]  2023-01-01  \n",
       "4                                [祝颂皓, 张智涵, 徐泽辉, 刘浩冉]  2023-01-01  \n",
       "..                                                ...         ...  \n",
       "2                                       [牛博为, 徐昊, 朱亮]  2023-01-03  \n",
       "3                                      [李苏霖, 姜崃, 曹牧之]  2023-01-03  \n",
       "4                       [刘瀚聪, 李秋盟, 蔡淇, 车鸣笛, 李子涵, 暴晓萱]  2023-01-03  \n",
       "5                                          [张旭辰, 赵伟钢]  2023-01-03  \n",
       "6                                           [管重昊, 夏阳]  2023-01-03  \n",
       "\n",
       "[68 rows x 6 columns]"
      ]
     },
     "execution_count": 40,
     "metadata": {},
     "output_type": "execute_result"
    }
   ],
   "source": [
    "a"
   ]
  },
  {
   "cell_type": "code",
   "execution_count": null,
   "metadata": {},
   "outputs": [],
   "source": []
  }
 ],
 "metadata": {
  "kernelspec": {
   "display_name": "is5126",
   "language": "python",
   "name": "python3"
  },
  "language_info": {
   "codemirror_mode": {
    "name": "ipython",
    "version": 3
   },
   "file_extension": ".py",
   "mimetype": "text/x-python",
   "name": "python",
   "nbconvert_exporter": "python",
   "pygments_lexer": "ipython3",
   "version": "3.12.5"
  }
 },
 "nbformat": 4,
 "nbformat_minor": 2
}
